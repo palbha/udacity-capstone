{
  "cells": [
    {
      "cell_type": "markdown",
      "source": [
        "# Automated ML\n",
        "\n",
        "TODO: Import Dependencies. In the cell below, import all the dependencies that you will need to complete the project."
      ],
      "metadata": {}
    },
    {
      "cell_type": "code",
      "source": [
        "import logging\n",
        "import os\n",
        "import csv\n",
        "import pkg_resources\n",
        "import json\n",
        "import requests\n",
        "\n",
        "import numpy as np\n",
        "import pandas as pd\n",
        "\n",
        "from matplotlib import pyplot as plt\n",
        "\n",
        "import sklearn\n",
        "from sklearn import datasets\n",
        "from sklearn.metrics import confusion_matrix\n",
        "\n",
        "import azureml.core\n",
        "from azureml.core import Model\n",
        "from azureml.core.compute import AmlCompute\n",
        "from azureml.core.compute import ComputeTarget\n",
        "from azureml.core.compute_target import ComputeTargetException\n",
        "from azureml.core.dataset import Dataset\n",
        "from azureml.core.environment import Environment\n",
        "from azureml.core.experiment import Experiment\n",
        "from azureml.core.model import InferenceConfig\n",
        "from azureml.core.resource_configuration import ResourceConfiguration\n",
        "from azureml.core.webservice import AciWebservice\n",
        "from azureml.core.workspace import Workspace\n",
        "from azureml.train.automl import AutoMLConfig\n",
        "from azureml.widgets import RunDetails\n",
        "\n",
        "# Check core SDK version number\n",
        "print(\"SDK version:\", azureml.core.VERSION)"
      ],
      "outputs": [
        {
          "output_type": "stream",
          "name": "stdout",
          "text": "SDK version: 1.51.0\n"
        }
      ],
      "execution_count": 4,
      "metadata": {
        "gather": {
          "logged": 1716777509483
        },
        "jupyter": {
          "outputs_hidden": false,
          "source_hidden": false
        },
        "nteract": {
          "transient": {
            "deleting": false
          }
        }
      }
    },
    {
      "cell_type": "markdown",
      "source": [
        "## Dataset\n",
        "\n",
        "### Overview\n",
        "TODO: In this markdown cell, give an overview of the dataset you are using. Also mention the task you will be performing.\n",
        "\n",
        "\n",
        "TODO: Get data. In the cell below, write code to access the data you will be using in this project. Remember that the dataset needs to be external."
      ],
      "metadata": {
        "nteract": {
          "transient": {
            "deleting": false
          }
        }
      }
    },
    {
      "cell_type": "code",
      "source": [
        "ws = Workspace.from_config()\n",
        "print(ws.name, ws.resource_group, ws.location, ws.subscription_id, sep = '\\n')\n",
        "# choose a name for experiment\n",
        "experiment_name = 'parkinson_exp'\n",
        "\n",
        "experiment=Experiment(ws, experiment_name)\n",
        "project_folder = './pipeline-parkinson-project'"
      ],
      "outputs": [
        {
          "output_type": "stream",
          "name": "stdout",
          "text": "quick-starts-ws-259743\naml-quickstarts-259743\nwestus2\n610d6e37-4747-4a20-80eb-3aad70a55f43\n"
        }
      ],
      "execution_count": 5,
      "metadata": {
        "jupyter": {
          "source_hidden": false,
          "outputs_hidden": false
        },
        "nteract": {
          "transient": {
            "deleting": false
          }
        },
        "gather": {
          "logged": 1716777512433
        }
      }
    },
    {
      "cell_type": "code",
      "source": [
        "found = False\n",
        "key = \"parkinson-data-v2\"\n",
        "description_text = \"Telemonitoring Dataset for parkinson disease (UCI)\"\n",
        "data_path = 'https://raw.githubusercontent.com/palbha/udacity-capstone/master/parkinson_data_v2.csv'\n",
        "if key in ws.datasets.keys(): \n",
        "    found = True\n",
        "    dataset = ws.datasets[key] \n",
        "\n",
        "if not found:\n",
        "    # Create AML Dataset and register it into Workspace\n",
        "    dataset = Dataset.Tabular.from_delimited_files(data_path)        \n",
        "    # Register Dataset in Workspace\n",
        "    dataset = dataset.register(\n",
        "        workspace=ws,\n",
        "        name=key,\n",
        "        description=description_text)\n",
        "\n",
        "\n",
        "df = dataset.to_pandas_dataframe()\n",
        "df.info()\n",
        "df.describe()"
      ],
      "outputs": [
        {
          "output_type": "stream",
          "name": "stdout",
          "text": "<class 'pandas.core.frame.DataFrame'>\nRangeIndex: 5875 entries, 0 to 5874\nData columns (total 20 columns):\n #   Column         Non-Null Count  Dtype  \n---  ------         --------------  -----  \n 0   age            5875 non-null   int64  \n 1   test_time      5875 non-null   float64\n 2   Jitter(%)      5875 non-null   float64\n 3   Jitter(Abs)    5875 non-null   float64\n 4   Jitter:RAP     5875 non-null   float64\n 5   Jitter:PPQ5    5875 non-null   float64\n 6   Jitter:DDP     5875 non-null   float64\n 7   Shimmer        5875 non-null   float64\n 8   Shimmer(dB)    5875 non-null   float64\n 9   Shimmer:APQ3   5875 non-null   float64\n 10  Shimmer:APQ5   5875 non-null   float64\n 11  Shimmer:APQ11  5875 non-null   float64\n 12  Shimmer:DDA    5875 non-null   float64\n 13  NHR            5875 non-null   float64\n 14  HNR            5875 non-null   float64\n 15  RPDE           5875 non-null   float64\n 16  DFA            5875 non-null   float64\n 17  PPE            5875 non-null   float64\n 18  sex            5875 non-null   int64  \n 19  total_UPDRS    5875 non-null   float64\ndtypes: float64(18), int64(2)\nmemory usage: 918.1 KB\n"
        },
        {
          "output_type": "execute_result",
          "execution_count": 6,
          "data": {
            "text/plain": "               age    test_time    Jitter(%)  Jitter(Abs)   Jitter:RAP  \\\ncount  5875.000000  5875.000000  5875.000000  5875.000000  5875.000000   \nmean     64.804936    92.863722     0.006154     0.000044     0.002987   \nstd       8.821524    53.445602     0.005624     0.000036     0.003124   \nmin      36.000000    -4.262500     0.000830     0.000002     0.000330   \n25%      58.000000    46.847500     0.003580     0.000022     0.001580   \n50%      65.000000    91.523000     0.004900     0.000034     0.002250   \n75%      72.000000   138.445000     0.006800     0.000053     0.003290   \nmax      85.000000   215.490000     0.099990     0.000446     0.057540   \n\n       Jitter:PPQ5   Jitter:DDP      Shimmer  Shimmer(dB)  Shimmer:APQ3  \\\ncount  5875.000000  5875.000000  5875.000000  5875.000000   5875.000000   \nmean      0.003277     0.008962     0.034035     0.310960      0.017156   \nstd       0.003732     0.009371     0.025835     0.230254      0.013237   \nmin       0.000430     0.000980     0.003060     0.026000      0.001610   \n25%       0.001820     0.004730     0.019120     0.175000      0.009280   \n50%       0.002490     0.006750     0.027510     0.253000      0.013700   \n75%       0.003460     0.009870     0.039750     0.365000      0.020575   \nmax       0.069560     0.172630     0.268630     2.107000      0.162670   \n\n       Shimmer:APQ5  Shimmer:APQ11  Shimmer:DDA          NHR          HNR  \\\ncount   5875.000000    5875.000000  5875.000000  5875.000000  5875.000000   \nmean       0.020144       0.027481     0.051467     0.032120    21.679495   \nstd        0.016664       0.019986     0.039711     0.059692     4.291096   \nmin        0.001940       0.002490     0.004840     0.000286     1.659000   \n25%        0.010790       0.015665     0.027830     0.010955    19.406000   \n50%        0.015940       0.022710     0.041110     0.018448    21.920000   \n75%        0.023755       0.032715     0.061735     0.031463    24.444000   \nmax        0.167020       0.275460     0.488020     0.748260    37.875000   \n\n              RPDE          DFA          PPE          sex  total_UPDRS  \ncount  5875.000000  5875.000000  5875.000000  5875.000000  5875.000000  \nmean      0.541473     0.653240     0.219589     0.317787    29.018942  \nstd       0.100986     0.070902     0.091498     0.465656    10.700283  \nmin       0.151020     0.514040     0.021983     0.000000     7.000000  \n25%       0.469785     0.596180     0.156340     0.000000    21.371000  \n50%       0.542250     0.643600     0.205500     0.000000    27.576000  \n75%       0.614045     0.711335     0.264490     1.000000    36.399000  \nmax       0.966080     0.865600     0.731730     1.000000    54.992000  ",
            "text/html": "<div>\n<style scoped>\n    .dataframe tbody tr th:only-of-type {\n        vertical-align: middle;\n    }\n\n    .dataframe tbody tr th {\n        vertical-align: top;\n    }\n\n    .dataframe thead th {\n        text-align: right;\n    }\n</style>\n<table border=\"1\" class=\"dataframe\">\n  <thead>\n    <tr style=\"text-align: right;\">\n      <th></th>\n      <th>age</th>\n      <th>test_time</th>\n      <th>Jitter(%)</th>\n      <th>Jitter(Abs)</th>\n      <th>Jitter:RAP</th>\n      <th>Jitter:PPQ5</th>\n      <th>Jitter:DDP</th>\n      <th>Shimmer</th>\n      <th>Shimmer(dB)</th>\n      <th>Shimmer:APQ3</th>\n      <th>Shimmer:APQ5</th>\n      <th>Shimmer:APQ11</th>\n      <th>Shimmer:DDA</th>\n      <th>NHR</th>\n      <th>HNR</th>\n      <th>RPDE</th>\n      <th>DFA</th>\n      <th>PPE</th>\n      <th>sex</th>\n      <th>total_UPDRS</th>\n    </tr>\n  </thead>\n  <tbody>\n    <tr>\n      <th>count</th>\n      <td>5875.000000</td>\n      <td>5875.000000</td>\n      <td>5875.000000</td>\n      <td>5875.000000</td>\n      <td>5875.000000</td>\n      <td>5875.000000</td>\n      <td>5875.000000</td>\n      <td>5875.000000</td>\n      <td>5875.000000</td>\n      <td>5875.000000</td>\n      <td>5875.000000</td>\n      <td>5875.000000</td>\n      <td>5875.000000</td>\n      <td>5875.000000</td>\n      <td>5875.000000</td>\n      <td>5875.000000</td>\n      <td>5875.000000</td>\n      <td>5875.000000</td>\n      <td>5875.000000</td>\n      <td>5875.000000</td>\n    </tr>\n    <tr>\n      <th>mean</th>\n      <td>64.804936</td>\n      <td>92.863722</td>\n      <td>0.006154</td>\n      <td>0.000044</td>\n      <td>0.002987</td>\n      <td>0.003277</td>\n      <td>0.008962</td>\n      <td>0.034035</td>\n      <td>0.310960</td>\n      <td>0.017156</td>\n      <td>0.020144</td>\n      <td>0.027481</td>\n      <td>0.051467</td>\n      <td>0.032120</td>\n      <td>21.679495</td>\n      <td>0.541473</td>\n      <td>0.653240</td>\n      <td>0.219589</td>\n      <td>0.317787</td>\n      <td>29.018942</td>\n    </tr>\n    <tr>\n      <th>std</th>\n      <td>8.821524</td>\n      <td>53.445602</td>\n      <td>0.005624</td>\n      <td>0.000036</td>\n      <td>0.003124</td>\n      <td>0.003732</td>\n      <td>0.009371</td>\n      <td>0.025835</td>\n      <td>0.230254</td>\n      <td>0.013237</td>\n      <td>0.016664</td>\n      <td>0.019986</td>\n      <td>0.039711</td>\n      <td>0.059692</td>\n      <td>4.291096</td>\n      <td>0.100986</td>\n      <td>0.070902</td>\n      <td>0.091498</td>\n      <td>0.465656</td>\n      <td>10.700283</td>\n    </tr>\n    <tr>\n      <th>min</th>\n      <td>36.000000</td>\n      <td>-4.262500</td>\n      <td>0.000830</td>\n      <td>0.000002</td>\n      <td>0.000330</td>\n      <td>0.000430</td>\n      <td>0.000980</td>\n      <td>0.003060</td>\n      <td>0.026000</td>\n      <td>0.001610</td>\n      <td>0.001940</td>\n      <td>0.002490</td>\n      <td>0.004840</td>\n      <td>0.000286</td>\n      <td>1.659000</td>\n      <td>0.151020</td>\n      <td>0.514040</td>\n      <td>0.021983</td>\n      <td>0.000000</td>\n      <td>7.000000</td>\n    </tr>\n    <tr>\n      <th>25%</th>\n      <td>58.000000</td>\n      <td>46.847500</td>\n      <td>0.003580</td>\n      <td>0.000022</td>\n      <td>0.001580</td>\n      <td>0.001820</td>\n      <td>0.004730</td>\n      <td>0.019120</td>\n      <td>0.175000</td>\n      <td>0.009280</td>\n      <td>0.010790</td>\n      <td>0.015665</td>\n      <td>0.027830</td>\n      <td>0.010955</td>\n      <td>19.406000</td>\n      <td>0.469785</td>\n      <td>0.596180</td>\n      <td>0.156340</td>\n      <td>0.000000</td>\n      <td>21.371000</td>\n    </tr>\n    <tr>\n      <th>50%</th>\n      <td>65.000000</td>\n      <td>91.523000</td>\n      <td>0.004900</td>\n      <td>0.000034</td>\n      <td>0.002250</td>\n      <td>0.002490</td>\n      <td>0.006750</td>\n      <td>0.027510</td>\n      <td>0.253000</td>\n      <td>0.013700</td>\n      <td>0.015940</td>\n      <td>0.022710</td>\n      <td>0.041110</td>\n      <td>0.018448</td>\n      <td>21.920000</td>\n      <td>0.542250</td>\n      <td>0.643600</td>\n      <td>0.205500</td>\n      <td>0.000000</td>\n      <td>27.576000</td>\n    </tr>\n    <tr>\n      <th>75%</th>\n      <td>72.000000</td>\n      <td>138.445000</td>\n      <td>0.006800</td>\n      <td>0.000053</td>\n      <td>0.003290</td>\n      <td>0.003460</td>\n      <td>0.009870</td>\n      <td>0.039750</td>\n      <td>0.365000</td>\n      <td>0.020575</td>\n      <td>0.023755</td>\n      <td>0.032715</td>\n      <td>0.061735</td>\n      <td>0.031463</td>\n      <td>24.444000</td>\n      <td>0.614045</td>\n      <td>0.711335</td>\n      <td>0.264490</td>\n      <td>1.000000</td>\n      <td>36.399000</td>\n    </tr>\n    <tr>\n      <th>max</th>\n      <td>85.000000</td>\n      <td>215.490000</td>\n      <td>0.099990</td>\n      <td>0.000446</td>\n      <td>0.057540</td>\n      <td>0.069560</td>\n      <td>0.172630</td>\n      <td>0.268630</td>\n      <td>2.107000</td>\n      <td>0.162670</td>\n      <td>0.167020</td>\n      <td>0.275460</td>\n      <td>0.488020</td>\n      <td>0.748260</td>\n      <td>37.875000</td>\n      <td>0.966080</td>\n      <td>0.865600</td>\n      <td>0.731730</td>\n      <td>1.000000</td>\n      <td>54.992000</td>\n    </tr>\n  </tbody>\n</table>\n</div>"
          },
          "metadata": {}
        },
        {
          "output_type": "stream",
          "name": "stderr",
          "text": "WARNING:urllib3.connectionpool:Retrying (Retry(total=2, connect=2, read=3, redirect=None, status=None)) after connection broken by 'NewConnectionError('<urllib3.connection.HTTPSConnection object at 0x7fd4be62bb20>: Failed to establish a new connection: [Errno 111] Connection refused')': /history/v1.0/subscriptions/610d6e37-4747-4a20-80eb-3aad70a55f43/resourceGroups/aml-quickstarts-259743/providers/Microsoft.MachineLearningServices/workspaces/quick-starts-ws-259743/experimentids/623e0ad8-3492-43b3-8cbf-5056fbf4272a/runs/AutoML_3c6f2b66-dc70-468b-ae52-cce9f0659e78\n"
        }
      ],
      "execution_count": 6,
      "metadata": {
        "jupyter": {
          "source_hidden": false,
          "outputs_hidden": false
        },
        "nteract": {
          "transient": {
            "deleting": false
          }
        },
        "gather": {
          "logged": 1716777528049
        }
      }
    },
    {
      "cell_type": "markdown",
      "source": [
        "## Validating a compute if not , creating one"
      ],
      "metadata": {
        "nteract": {
          "transient": {
            "deleting": false
          }
        }
      }
    },
    {
      "cell_type": "code",
      "source": [
        "from azureml.core.compute import AmlCompute\n",
        "from azureml.core.compute import ComputeTarget\n",
        "from azureml.core.compute_target import ComputeTargetException\n",
        "\n",
        "# NOTE: update the cluster name to match the existing cluster\n",
        "# Choose a name for your CPU cluster\n",
        "amlcompute_cluster_name = \"automl-cluster\"\n",
        "\n",
        "# Verify that cluster does not exist already\n",
        "try:\n",
        "    compute_target = ComputeTarget(workspace=ws, name=amlcompute_cluster_name)\n",
        "    print('Found existing cluster, use it.')\n",
        "except ComputeTargetException:\n",
        "    compute_config = AmlCompute.provisioning_configuration(vm_size='STANDARD_D2_V2',# for GPU, use \"STANDARD_NC6\"\n",
        "                                                           #vm_priority = 'lowpriority', # optional\n",
        "                                                           max_nodes=4)\n",
        "    compute_target = ComputeTarget.create(ws, amlcompute_cluster_name, compute_config)\n",
        "\n",
        "#compute_target.wait_for_completion(show_output=True, min_node_count = 1, timeout_in_minutes = 10)\n",
        "# For a more detailed view of current AmlCompute status, use get_status()."
      ],
      "outputs": [],
      "execution_count": 7,
      "metadata": {
        "gather": {
          "logged": 1716777556315
        },
        "jupyter": {
          "outputs_hidden": false,
          "source_hidden": false
        },
        "nteract": {
          "transient": {
            "deleting": false
          }
        }
      }
    },
    {
      "cell_type": "markdown",
      "source": [
        "## AutoML Configuration\n",
        "\n",
        "TODO: Explain why you chose the automl settings and cofiguration you used below."
      ],
      "metadata": {}
    },
    {
      "cell_type": "code",
      "source": [
        "automl_settings = {\n",
        "    \"experiment_timeout_minutes\": 30,\n",
        "    \"max_concurrent_iterations\": 5,\n",
        "    \"primary_metric\" : 'r2_score'\n",
        "}\n",
        "automl_config = AutoMLConfig(compute_target=compute_target,\n",
        "                             task = \"regression\",\n",
        "                             training_data=dataset,\n",
        "                             label_column_name=\"total_UPDRS\",   \n",
        "                             path = project_folder,\n",
        "                             enable_early_stopping= True,\n",
        "                             featurization= 'auto',\n",
        "                             debug_log = \"automl_errors.log\",\n",
        "                             **automl_settings)\n",
        "                            \n"
      ],
      "outputs": [],
      "execution_count": 8,
      "metadata": {
        "gather": {
          "logged": 1716777572753
        },
        "jupyter": {
          "outputs_hidden": false,
          "source_hidden": false
        },
        "nteract": {
          "transient": {
            "deleting": false
          }
        }
      }
    },
    {
      "cell_type": "code",
      "source": [
        "# TODO: Submit your experiment\n",
        "remote_run = experiment.submit(automl_config)"
      ],
      "outputs": [
        {
          "output_type": "stream",
          "name": "stdout",
          "text": "Submitting remote run.\n"
        },
        {
          "output_type": "display_data",
          "data": {
            "text/html": "<table style=\"width:100%\"><tr><th>Experiment</th><th>Id</th><th>Type</th><th>Status</th><th>Details Page</th><th>Docs Page</th></tr><tr><td>parkinson_exp</td><td>AutoML_3c6f2b66-dc70-468b-ae52-cce9f0659e78</td><td>automl</td><td>NotStarted</td><td><a href=\"https://ml.azure.com/runs/AutoML_3c6f2b66-dc70-468b-ae52-cce9f0659e78?wsid=/subscriptions/610d6e37-4747-4a20-80eb-3aad70a55f43/resourcegroups/aml-quickstarts-259743/workspaces/quick-starts-ws-259743&amp;tid=660b3398-b80e-49d2-bc5b-ac1dc93b5254\" target=\"_blank\" rel=\"noopener\">Link to Azure Machine Learning studio</a></td><td><a href=\"https://docs.microsoft.com/en-us/python/api/overview/azure/ml/intro?view=azure-ml-py\" target=\"_blank\" rel=\"noopener\">Link to Documentation</a></td></tr></table>"
          },
          "metadata": {}
        }
      ],
      "execution_count": 9,
      "metadata": {
        "gather": {
          "logged": 1716777578640
        },
        "jupyter": {
          "outputs_hidden": false,
          "source_hidden": false
        },
        "nteract": {
          "transient": {
            "deleting": false
          }
        }
      }
    },
    {
      "cell_type": "markdown",
      "source": [
        "## Run Details\n",
        "\n",
        "OPTIONAL: Write about the different models trained and their performance. Why do you think some models did better than others?\n",
        "\n",
        "TODO: In the cell below, use the `RunDetails` widget to show the different experiments."
      ],
      "metadata": {}
    },
    {
      "cell_type": "code",
      "source": [
        "RunDetails(remote_run).show()\n",
        "remote_run.wait_for_completion(show_output=True)\n",
        "remote_run"
      ],
      "outputs": [
        {
          "output_type": "display_data",
          "data": {
            "text/plain": "_AutoMLWidget(widget_settings={'childWidgetDisplay': 'popup', 'send_telemetry': False, 'log_level': 'INFO', 's…",
            "application/vnd.jupyter.widget-view+json": {
              "version_major": 2,
              "version_minor": 0,
              "model_id": "0196c9ee4a3f4afea1d95170249697fa"
            }
          },
          "metadata": {}
        },
        {
          "output_type": "display_data",
          "data": {
            "application/aml.mini.widget.v1": "{\"status\": \"Completed\", \"workbench_run_details_uri\": \"https://ml.azure.com/runs/AutoML_3c6f2b66-dc70-468b-ae52-cce9f0659e78?wsid=/subscriptions/610d6e37-4747-4a20-80eb-3aad70a55f43/resourcegroups/aml-quickstarts-259743/workspaces/quick-starts-ws-259743&tid=660b3398-b80e-49d2-bc5b-ac1dc93b5254\", \"run_id\": \"AutoML_3c6f2b66-dc70-468b-ae52-cce9f0659e78\", \"run_properties\": {\"run_id\": \"AutoML_3c6f2b66-dc70-468b-ae52-cce9f0659e78\", \"created_utc\": \"2024-05-27T02:39:37.126839Z\", \"properties\": {\"num_iterations\": \"1000\", \"training_type\": \"TrainFull\", \"acquisition_function\": \"EI\", \"primary_metric\": \"r2_score\", \"train_split\": \"0\", \"acquisition_parameter\": \"0\", \"num_cross_validation\": null, \"target\": \"automl-cluster\", \"AMLSettingsJsonString\": \"{\\\"path\\\":null,\\\"name\\\":\\\"parkinson_exp\\\",\\\"subscription_id\\\":\\\"610d6e37-4747-4a20-80eb-3aad70a55f43\\\",\\\"resource_group\\\":\\\"aml-quickstarts-259743\\\",\\\"workspace_name\\\":\\\"quick-starts-ws-259743\\\",\\\"region\\\":\\\"westus2\\\",\\\"compute_target\\\":\\\"automl-cluster\\\",\\\"spark_service\\\":null,\\\"azure_service\\\":\\\"remote\\\",\\\"many_models\\\":false,\\\"pipeline_fetch_max_batch_size\\\":1,\\\"enable_batch_run\\\":true,\\\"enable_parallel_run\\\":false,\\\"num_procs\\\":null,\\\"enable_run_restructure\\\":false,\\\"start_auxiliary_runs_before_parent_complete\\\":false,\\\"enable_code_generation\\\":true,\\\"iterations\\\":1000,\\\"primary_metric\\\":\\\"r2_score\\\",\\\"task_type\\\":\\\"regression\\\",\\\"positive_label\\\":null,\\\"data_script\\\":null,\\\"test_size\\\":0.0,\\\"test_include_predictions_only\\\":false,\\\"validation_size\\\":0.0,\\\"n_cross_validations\\\":null,\\\"y_min\\\":null,\\\"y_max\\\":null,\\\"num_classes\\\":null,\\\"featurization\\\":\\\"auto\\\",\\\"_ignore_package_version_incompatibilities\\\":false,\\\"is_timeseries\\\":false,\\\"max_cores_per_iteration\\\":1,\\\"max_concurrent_iterations\\\":5,\\\"iteration_timeout_minutes\\\":null,\\\"mem_in_mb\\\":null,\\\"enforce_time_on_windows\\\":false,\\\"experiment_timeout_minutes\\\":30,\\\"experiment_exit_score\\\":null,\\\"partition_column_names\\\":null,\\\"whitelist_models\\\":null,\\\"blacklist_algos\\\":[\\\"TensorFlowDNN\\\",\\\"TensorFlowLinearRegressor\\\"],\\\"supported_models\\\":[\\\"ExtremeRandomTrees\\\",\\\"LassoLars\\\",\\\"TensorFlowLinearRegressor\\\",\\\"GradientBoosting\\\",\\\"LightGBM\\\",\\\"TabnetRegressor\\\",\\\"RandomForest\\\",\\\"XGBoostRegressor\\\",\\\"FastLinearRegressor\\\",\\\"OnlineGradientDescentRegressor\\\",\\\"KNN\\\",\\\"ElasticNet\\\",\\\"TensorFlowDNN\\\",\\\"DecisionTree\\\",\\\"SGD\\\"],\\\"private_models\\\":[],\\\"auto_blacklist\\\":true,\\\"blacklist_samples_reached\\\":false,\\\"exclude_nan_labels\\\":true,\\\"verbosity\\\":20,\\\"_debug_log\\\":\\\"azureml_automl.log\\\",\\\"show_warnings\\\":false,\\\"model_explainability\\\":true,\\\"service_url\\\":null,\\\"sdk_url\\\":null,\\\"sdk_packages\\\":null,\\\"enable_onnx_compatible_models\\\":false,\\\"enable_split_onnx_featurizer_estimator_models\\\":false,\\\"vm_type\\\":\\\"STANDARD_D2_V2\\\",\\\"telemetry_verbosity\\\":20,\\\"send_telemetry\\\":true,\\\"enable_dnn\\\":false,\\\"scenario\\\":\\\"AutoML\\\",\\\"environment_label\\\":null,\\\"save_mlflow\\\":false,\\\"enable_categorical_indicators\\\":false,\\\"force_text_dnn\\\":false,\\\"enable_feature_sweeping\\\":true,\\\"enable_early_stopping\\\":true,\\\"early_stopping_n_iters\\\":10,\\\"arguments\\\":null,\\\"dataset_id\\\":\\\"c54e7998-9c54-49ea-a88b-9c2ed2385458\\\",\\\"hyperdrive_config\\\":null,\\\"validation_dataset_id\\\":null,\\\"run_source\\\":null,\\\"metrics\\\":null,\\\"enable_metric_confidence\\\":false,\\\"enable_ensembling\\\":true,\\\"enable_stack_ensembling\\\":true,\\\"ensemble_iterations\\\":15,\\\"enable_tf\\\":false,\\\"enable_subsampling\\\":null,\\\"subsample_seed\\\":null,\\\"enable_nimbusml\\\":false,\\\"enable_streaming\\\":false,\\\"force_streaming\\\":false,\\\"track_child_runs\\\":true,\\\"n_best_runs\\\":1,\\\"allowed_private_models\\\":[],\\\"label_column_name\\\":\\\"total_UPDRS\\\",\\\"weight_column_name\\\":null,\\\"cv_split_column_names\\\":null,\\\"enable_local_managed\\\":false,\\\"_local_managed_run_id\\\":null,\\\"cost_mode\\\":1,\\\"lag_length\\\":0,\\\"metric_operation\\\":\\\"maximize\\\",\\\"preprocess\\\":true}\", \"DataPrepJsonString\": \"{\\\\\\\"training_data\\\\\\\": {\\\\\\\"datasetId\\\\\\\": \\\\\\\"c54e7998-9c54-49ea-a88b-9c2ed2385458\\\\\\\"}, \\\\\\\"datasets\\\\\\\": 0}\", \"EnableSubsampling\": null, \"runTemplate\": \"AutoML\", \"azureml.runsource\": \"automl\", \"display_task_type\": \"regression\", \"dependencies_versions\": \"{\\\"azureml-dataprep-native\\\": \\\"38.0.0\\\", \\\"azureml-dataprep\\\": \\\"4.10.8\\\", \\\"azureml-dataprep-rslex\\\": \\\"2.17.12\\\", \\\"azureml-train-automl-runtime\\\": \\\"1.51.0.post2\\\", \\\"azureml-train-automl-client\\\": \\\"1.51.0.post1\\\", \\\"azureml-training-tabular\\\": \\\"1.51.0.post1\\\", \\\"azureml-automl-runtime\\\": \\\"1.51.0.post1\\\", \\\"azureml-automl-core\\\": \\\"1.51.0.post1\\\", \\\"azureml-mlflow\\\": \\\"1.51.0\\\", \\\"azureml-datadrift\\\": \\\"1.51.0\\\", \\\"azureml-pipeline\\\": \\\"1.51.0\\\", \\\"azureml-contrib-dataset\\\": \\\"1.51.0\\\", \\\"azureml-contrib-notebook\\\": \\\"1.51.0\\\", \\\"azureml-accel-models\\\": \\\"1.51.0\\\", \\\"azureml-automl-dnn-nlp\\\": \\\"1.51.0\\\", \\\"azureml-pipeline-core\\\": \\\"1.51.0\\\", \\\"azureml-responsibleai\\\": \\\"1.51.0\\\", \\\"azureml-contrib-automl-pipeline-steps\\\": \\\"1.51.0\\\", \\\"azureml-pipeline-steps\\\": \\\"1.51.0\\\", \\\"azureml-core\\\": \\\"1.51.0\\\", \\\"azureml-contrib-reinforcementlearning\\\": \\\"1.51.0\\\", \\\"azureml-contrib-server\\\": \\\"1.51.0\\\", \\\"azureml-opendatasets\\\": \\\"1.51.0\\\", \\\"azureml-contrib-services\\\": \\\"1.51.0\\\", \\\"azureml-telemetry\\\": \\\"1.51.0\\\", \\\"azureml-train-restclients-hyperdrive\\\": \\\"1.51.0\\\", \\\"azureml-interpret\\\": \\\"1.51.0\\\", \\\"azureml-train-core\\\": \\\"1.51.0\\\", \\\"azureml-tensorboard\\\": \\\"1.51.0\\\", \\\"azureml-train\\\": \\\"1.51.0\\\", \\\"azureml-contrib-pipeline-steps\\\": \\\"1.51.0\\\", \\\"azureml-explain-model\\\": \\\"1.51.0\\\", \\\"azureml-cli-common\\\": \\\"1.51.0\\\", \\\"azureml-widgets\\\": \\\"1.51.0\\\", \\\"azureml-train-automl\\\": \\\"1.51.0\\\", \\\"azureml-defaults\\\": \\\"1.51.0\\\", \\\"azureml-contrib-fairness\\\": \\\"1.51.0\\\", \\\"azureml-sdk\\\": \\\"1.51.0\\\", \\\"azureml-dataset-runtime\\\": \\\"1.51.0\\\", \\\"azureml-inference-server-http\\\": \\\"0.8.4\\\"}\", \"_aml_system_scenario_identification\": \"Remote.Parent\", \"ClientType\": \"SDK\", \"PlatformVersion\": \"DPV1\", \"environment_cpu_name\": \"AzureML-AutoML\", \"environment_cpu_label\": \"scikit-upgrade2\", \"environment_gpu_name\": \"AzureML-AutoML-GPU\", \"environment_gpu_label\": \"scikit-upgrade2\", \"root_attribution\": \"automl\", \"attribution\": \"AutoML\", \"Orchestrator\": \"AutoML\", \"CancelUri\": \"https://westus2.api.azureml.ms/jasmine/v1.0/subscriptions/610d6e37-4747-4a20-80eb-3aad70a55f43/resourceGroups/aml-quickstarts-259743/providers/Microsoft.MachineLearningServices/workspaces/quick-starts-ws-259743/experimentids/623e0ad8-3492-43b3-8cbf-5056fbf4272a/cancel/AutoML_3c6f2b66-dc70-468b-ae52-cce9f0659e78\", \"ClientSdkVersion\": null, \"snapshotId\": \"00000000-0000-0000-0000-000000000000\", \"SetupRunId\": \"AutoML_3c6f2b66-dc70-468b-ae52-cce9f0659e78_setup\", \"SetupRunContainerId\": \"dcid.AutoML_3c6f2b66-dc70-468b-ae52-cce9f0659e78_setup\", \"FeaturizationRunJsonPath\": \"featurizer_container.json\", \"FeaturizationRunId\": \"AutoML_3c6f2b66-dc70-468b-ae52-cce9f0659e78_featurize\", \"ProblemInfoJsonString\": \"{\\\"dataset_num_categorical\\\": 0, \\\"is_sparse\\\": true, \\\"subsampling\\\": false, \\\"has_extra_col\\\": true, \\\"dataset_classes\\\": 1129, \\\"dataset_features\\\": 41, \\\"dataset_samples\\\": 5875, \\\"single_frequency_class_detected\\\": false}\", \"ModelExplainRunId\": \"AutoML_3c6f2b66-dc70-468b-ae52-cce9f0659e78_ModelExplain\"}, \"tags\": {\"model_explain_run\": \"best_run\", \"_aml_system_automl_run_workspace_id\": \"e202cc09-9c60-4a08-a83f-2aef36c7979c\", \"_aml_system_azureml.automlComponent\": \"AutoML\", \"pipeline_id_000\": \"faf12f74cf9bbd358ca5525682c5030d36f7be7c;4bc4ec47eb8df2d5d68b361cd60120e65196f757;5cc37daec73ea64276ef956449645cdb519fdfc6;ae729f09378486945c70eb2a2306f8aa8f4e30a7;6a894202d038ecb5c7c417bf556f9786ed0f13c6;81a8315d6cda43021ef8ee13d5b3fcd926dba303;be29dd8ef9fe83f67909ad067b2ee360837567fa;15e58541c67098b65d03a6b93fca780f681c9f5e;1a94a47ceeb6e3de4d1586870eb0b5b46f9d2ff9;4c058409e6cc4a503b1146122046abe088414f8f;3000cb830d1cd19900206d2bef770e4da509572b;fe3e28c574c755f8ec9262097b6f2abaa1264f15;786564a58f2bed5c06fb589cbded991e6c6aded9;b5402e5e23e95d034621783c5097813f7fc3f147;1183faa528839e9068f57c94d547d1b73e786709;eb4d67c62276b68592794641b4cbbee89720c733;a4bd1e74e73eeac38f9bc82356003852c9ed36f7;6d09a0ee795a43e895132ff95166dba8e141aaea;e855d207cec0cd6487cd2dcd249b6cc655413e4d;abf1e76263c97dcb245e2e3c22af8672bca98a18;9ef9cf7d41ac49d6df84fc323024df5303803877;7d7fdfe415b40c2f22681f44bb394f0c21fcbff4;2aca8b4b45fc09a61ced83f2066b98f8aebf676c;3d9c0310cb57ef382e0155a4be245cfb1992025c;918157fc95daf9e05037762cef0897b7a17c8891;b91fd684cb45a535d66b96c384c1995e6fdd4d79;2dc2326826482ba0a5a048786ceaa274d132ccb8;35e5c774e8e870a2b17f500ca253fc5f3606704a;481fb24ec6dd42126b5c8e7effde8f3c0a6326fb;24736e61e157732b77756024f739d0ecdcb34dad;7655a9c035deeec815b6c5ea0187fd2251e31a02;f1455a8c956300c8bfcaa39472d76af7ed1a6a48;3936c8c40a994257080eedc3d7b10c588f2d5eb7;431320925367a8829b333f296b2f80ae7a1d7297;9cf54f55255219d23ede05b10eaebc17ea7ff21e;c659eef0ec3ef9f223ec408f4f5dfe69b7fde357;cac03e5db7c1e705fae444da5a13f534693669bf;fba4a07cfe11da9e6cde780efef7012f2caab131;__AutoML_Stack_Ensemble__;__AutoML_Ensemble__\", \"score_000\": \"0.9683604161159348;0.9767086445538942;-1;0.7397556165505857;0.8824847049663201;0.879040910947196;0.8535503373060248;0.373375715764706;0.7392036655374391;0.9530380532314723;0.11198761035821932;0.8975358773971513;0.738301498335615;0.7398520451455598;0.96486816710227;0.94853724443032;0.7372110832668018;0.34698028050788815;0.972782806729438;0.16262702109687566;0.4392867336790413;0.5842075435458021;0.8384520575760849;-1;0.3527091060839864;0.9439299449256451;-1;-1;0.9525875566119577;0.9303920057036669;0.7061723289585852;-0.3316285890344333;0.6565087413868098;0.9440146136112163;NaN;NaN;0.7145589876000868;NaN;0.979545757141314;0.9794936031319441\", \"predicted_cost_000\": \"0;0;0.5;0.5;0.5;0.5;0.5;0.5;0.5;0.5;0.5;0.5;0.5;0.5;0.5;0.5;0.5;0.5;0.5;0.5;0.03861472137876586;0.27678178011048;0.4588643498082838;0.2744470056843993;1.6257426023334947;0.4434321605158183;0.27914994957595557;16.722129878731533;0.010263245326361897;0.0029505312939506236;0.14712919924202633;2.045538079923826;0.028656381418434736;1.141153863610304;0.506561962979731;4.891677902209005;0.024355462762241133;12.710239374676426;0;0\", \"fit_time_000\": \"0.318683;1.3390323333333332;0.9797176666666667;0.29566733333333334;0.10481666666666667;0.4712713333333333;1.1347636666666665;0.7239703333333334;3.405976666666666;0.902807;1.4408;0.42743100000000006;0.10001333333333333;0.22254900000000002;0.5849766666666666;13.979471333333331;0.14383100000000001;9.858572;2.562228666666667;0.024046333333333333;0.10483466666666665;0.094584;0.6249343333333334;0.11611;0.012124666666666667;4.819297333333334;0.36344366666666666;0.358991;0.21295733333333333;0.17765366666666668;0.09435033333333333;2.336649;0.13147833333333334;0.20436200000000002;NaN;NaN;0.068013;NaN;19;21\", \"training_percent_000\": \"100;100;100;100;100;100;100;100;100;100;100;100;100;100;100;100;100;100;100;100;100;100;100;100;100;100;100;100;100;100;100;100;100;100;100;100;100;100;100;100\", \"iteration_000\": \"0;1;2;3;4;5;6;7;8;9;16;10;17;11;18;12;19;13;14;15;21;23;22;24;20;25;26;27;28;29;31;30;32;33;37;36;34;35;39;38\", \"run_preprocessor_000\": \"MaxAbsScaler;MaxAbsScaler;StandardScalerWrapper;MaxAbsScaler;MaxAbsScaler;SparseNormalizer;MaxAbsScaler;MaxAbsScaler;StandardScalerWrapper;SparseNormalizer;MaxAbsScaler;MaxAbsScaler;StandardScalerWrapper;MaxAbsScaler;StandardScalerWrapper;SparseNormalizer;StandardScalerWrapper;MaxAbsScaler;StandardScalerWrapper;StandardScalerWrapper;MaxAbsScaler;StandardScalerWrapper;SparseNormalizer;SparseNormalizer;StandardScalerWrapper;StandardScalerWrapper;SparseNormalizer;SparseNormalizer;StandardScalerWrapper;MaxAbsScaler;StandardScalerWrapper;SparseNormalizer;StandardScalerWrapper;StandardScalerWrapper;;;StandardScalerWrapper;;;\", \"run_algorithm_000\": \"LightGBM;XGBoostRegressor;XGBoostRegressor;ElasticNet;LightGBM;XGBoostRegressor;RandomForest;RandomForest;ExtremeRandomTrees;XGBoostRegressor;RandomForest;ExtremeRandomTrees;ElasticNet;ElasticNet;XGBoostRegressor;XGBoostRegressor;ExtremeRandomTrees;RandomForest;XGBoostRegressor;ElasticNet;DecisionTree;LightGBM;ExtremeRandomTrees;XGBoostRegressor;ElasticNet;ExtremeRandomTrees;XGBoostRegressor;XGBoostRegressor;DecisionTree;DecisionTree;SGD;XGBoostRegressor;LightGBM;XGBoostRegressor;;;ElasticNet;;StackEnsemble;VotingEnsemble\", \"dynamic_allowlisting_iterations\": \"<24>;<30>;<35>;\", \"_aml_system_azureml.automl_early_exit_message\": \"No scores improved over last 10 iterations, so experiment stopped early. This early stopping behavior can be disabled by setting enable_early_stopping = False in AutoMLConfig for notebook/python SDK runs.\", \"automl_best_child_run_id\": \"AutoML_3c6f2b66-dc70-468b-ae52-cce9f0659e78_39\", \"model_explain_best_run_child_id\": \"AutoML_3c6f2b66-dc70-468b-ae52-cce9f0659e78_39\"}, \"end_time_utc\": \"2024-05-27T03:03:05.164334Z\", \"status\": \"Completed\", \"log_files\": {}, \"log_groups\": [], \"run_duration\": \"0:23:28\", \"run_number\": \"1716777577\", \"run_queued_details\": {\"status\": \"Completed\", \"details\": null}}, \"child_runs\": [{\"run_id\": \"AutoML_3c6f2b66-dc70-468b-ae52-cce9f0659e78_setup\", \"run_number\": 1716777590, \"metric\": null, \"status\": \"Completed\", \"run_type\": \"azureml.scriptrun\", \"training_percent\": null, \"start_time\": \"2024-05-27T02:42:54.979818Z\", \"end_time\": \"2024-05-27T02:46:04.217807Z\", \"created_time\": \"2024-05-27T02:39:50.60721Z\", \"created_time_dt\": \"2024-05-27T02:39:50.60721Z\", \"duration\": \"0:06:13\", \"iteration\": null, \"goal\": null, \"run_name\": \"Completed\", \"run_properties\": null}, {\"run_id\": \"AutoML_3c6f2b66-dc70-468b-ae52-cce9f0659e78_featurize\", \"run_number\": 1716777964, \"metric\": null, \"status\": \"Completed\", \"run_type\": \"automl.featurization\", \"training_percent\": null, \"start_time\": \"2024-05-27T02:46:04.789127Z\", \"end_time\": \"2024-05-27T02:48:16.671749Z\", \"created_time\": \"2024-05-27T02:46:04.460139Z\", \"created_time_dt\": \"2024-05-27T02:46:04.460139Z\", \"duration\": \"0:02:12\", \"iteration\": null, \"goal\": null, \"run_name\": \"Completed\", \"run_properties\": null}, {\"run_id\": \"AutoML_3c6f2b66-dc70-468b-ae52-cce9f0659e78_0\", \"run_number\": 1716778098, \"metric\": null, \"status\": \"Completed\", \"run_type\": null, \"training_percent\": \"100\", \"start_time\": \"2024-05-27T02:48:57.766982Z\", \"end_time\": \"2024-05-27T02:49:12.124401Z\", \"created_time\": \"2024-05-27T02:48:18.561205Z\", \"created_time_dt\": \"2024-05-27T02:48:18.561205Z\", \"duration\": \"0:00:53\", \"iteration\": \"0\", \"goal\": \"r2_score_max\", \"run_name\": \"MaxAbsScaler, LightGBM\", \"run_properties\": \"copy=True\", \"primary_metric\": 0.96836042, \"best_metric\": 0.96836042}, {\"run_id\": \"AutoML_3c6f2b66-dc70-468b-ae52-cce9f0659e78_1\", \"run_number\": 1716778099, \"metric\": null, \"status\": \"Completed\", \"run_type\": null, \"training_percent\": \"100\", \"start_time\": \"2024-05-27T02:49:13.063654Z\", \"end_time\": \"2024-05-27T02:49:29.966959Z\", \"created_time\": \"2024-05-27T02:48:19.167098Z\", \"created_time_dt\": \"2024-05-27T02:48:19.167098Z\", \"duration\": \"0:01:10\", \"iteration\": \"1\", \"goal\": \"r2_score_max\", \"run_name\": \"MaxAbsScaler, XGBoostRegressor\", \"run_properties\": \"copy=True\", \"primary_metric\": 0.97670864, \"best_metric\": 0.97670864}, {\"run_id\": \"AutoML_3c6f2b66-dc70-468b-ae52-cce9f0659e78_worker_0\", \"run_number\": 1716778100, \"metric\": null, \"status\": \"Completed\", \"run_type\": \"azureml.scriptrun\", \"training_percent\": null, \"start_time\": \"2024-05-27T02:48:46.061239Z\", \"end_time\": \"2024-05-27T02:50:14.038808Z\", \"created_time\": \"2024-05-27T02:48:20.371812Z\", \"created_time_dt\": \"2024-05-27T02:48:20.371812Z\", \"duration\": \"0:01:53\", \"iteration\": null, \"goal\": null, \"run_name\": \"Completed\", \"run_properties\": null}, {\"run_id\": \"AutoML_3c6f2b66-dc70-468b-ae52-cce9f0659e78_5\", \"run_number\": 1716778101, \"metric\": null, \"status\": \"Completed\", \"run_type\": null, \"training_percent\": \"100\", \"start_time\": \"2024-05-27T02:50:55.657379Z\", \"end_time\": \"2024-05-27T02:51:08.547304Z\", \"created_time\": \"2024-05-27T02:48:21.081572Z\", \"created_time_dt\": \"2024-05-27T02:48:21.081572Z\", \"duration\": \"0:02:47\", \"iteration\": \"5\", \"goal\": \"r2_score_max\", \"run_name\": \"SparseNormalizer, XGBoostRegressor\", \"run_properties\": \"copy=True, norm='l2'\", \"primary_metric\": 0.87904091, \"best_metric\": 0.97670864}, {\"run_id\": \"AutoML_3c6f2b66-dc70-468b-ae52-cce9f0659e78_worker_1\", \"run_number\": 1716778102, \"metric\": null, \"status\": \"Completed\", \"run_type\": \"azureml.scriptrun\", \"training_percent\": null, \"start_time\": \"2024-05-27T02:50:28.682588Z\", \"end_time\": \"2024-05-27T02:51:50.33612Z\", \"created_time\": \"2024-05-27T02:48:22.311195Z\", \"created_time_dt\": \"2024-05-27T02:48:22.311195Z\", \"duration\": \"0:03:28\", \"iteration\": null, \"goal\": null, \"run_name\": \"Completed\", \"run_properties\": null}, {\"run_id\": \"AutoML_3c6f2b66-dc70-468b-ae52-cce9f0659e78_10\", \"run_number\": 1716778103, \"metric\": null, \"status\": \"Completed\", \"run_type\": null, \"training_percent\": \"100\", \"start_time\": \"2024-05-27T02:54:17.079774Z\", \"end_time\": \"2024-05-27T02:54:29.827325Z\", \"created_time\": \"2024-05-27T02:48:23.406715Z\", \"created_time_dt\": \"2024-05-27T02:48:23.406715Z\", \"duration\": \"0:06:06\", \"iteration\": \"10\", \"goal\": \"r2_score_max\", \"run_name\": \"MaxAbsScaler, ExtremeRandomTrees\", \"run_properties\": \"copy=True\", \"primary_metric\": 0.89753588, \"best_metric\": 0.97670864}, {\"run_id\": \"AutoML_3c6f2b66-dc70-468b-ae52-cce9f0659e78_worker_2\", \"run_number\": 1716778104, \"metric\": null, \"status\": \"Completed\", \"run_type\": \"azureml.scriptrun\", \"training_percent\": null, \"start_time\": \"2024-05-27T02:51:15.225869Z\", \"end_time\": \"2024-05-27T02:54:53.161042Z\", \"created_time\": \"2024-05-27T02:48:24.140815Z\", \"created_time_dt\": \"2024-05-27T02:48:24.140815Z\", \"duration\": \"0:06:29\", \"iteration\": null, \"goal\": null, \"run_name\": \"Completed\", \"run_properties\": null}, {\"run_id\": \"AutoML_3c6f2b66-dc70-468b-ae52-cce9f0659e78_14\", \"run_number\": 1716778105, \"metric\": null, \"status\": \"Completed\", \"run_type\": null, \"training_percent\": \"100\", \"start_time\": \"2024-05-27T02:55:54.260419Z\", \"end_time\": \"2024-05-27T02:56:16.60779Z\", \"created_time\": \"2024-05-27T02:48:25.269739Z\", \"created_time_dt\": \"2024-05-27T02:48:25.269739Z\", \"duration\": \"0:07:51\", \"iteration\": \"14\", \"goal\": \"r2_score_max\", \"run_name\": \"StandardScalerWrapper, XGBoostRegressor\", \"run_properties\": \"copy=True, with_mean=False, with_std=False\", \"primary_metric\": 0.97278281, \"best_metric\": 0.97670864}, {\"run_id\": \"AutoML_3c6f2b66-dc70-468b-ae52-cce9f0659e78_worker_3\", \"run_number\": 1716778106, \"metric\": null, \"status\": \"Completed\", \"run_type\": \"azureml.scriptrun\", \"training_percent\": null, \"start_time\": \"2024-05-27T02:51:14.350172Z\", \"end_time\": \"2024-05-27T02:56:39.046108Z\", \"created_time\": \"2024-05-27T02:48:26.034074Z\", \"created_time_dt\": \"2024-05-27T02:48:26.034074Z\", \"duration\": \"0:08:13\", \"iteration\": null, \"goal\": null, \"run_name\": \"Completed\", \"run_properties\": null}, {\"run_id\": \"AutoML_3c6f2b66-dc70-468b-ae52-cce9f0659e78_18\", \"run_number\": 1716778107, \"metric\": null, \"status\": \"Completed\", \"run_type\": null, \"training_percent\": \"100\", \"start_time\": \"2024-05-27T02:54:30.872596Z\", \"end_time\": \"2024-05-27T02:54:44.991994Z\", \"created_time\": \"2024-05-27T02:48:27.147765Z\", \"created_time_dt\": \"2024-05-27T02:48:27.147765Z\", \"duration\": \"0:06:17\", \"iteration\": \"18\", \"goal\": \"r2_score_max\", \"run_name\": \"StandardScalerWrapper, XGBoostRegressor\", \"run_properties\": \"copy=True, with_mean=False, with_std=False\", \"primary_metric\": 0.96486817, \"best_metric\": 0.97670864}, {\"run_id\": \"AutoML_3c6f2b66-dc70-468b-ae52-cce9f0659e78_worker_4\", \"run_number\": 1716778108, \"metric\": null, \"status\": \"Completed\", \"run_type\": \"azureml.scriptrun\", \"training_percent\": null, \"start_time\": \"2024-05-27T02:51:15.419774Z\", \"end_time\": \"2024-05-27T02:55:08.861089Z\", \"created_time\": \"2024-05-27T02:48:28.031586Z\", \"created_time_dt\": \"2024-05-27T02:48:28.031586Z\", \"duration\": \"0:06:40\", \"iteration\": null, \"goal\": null, \"run_name\": \"Completed\", \"run_properties\": null}, {\"run_id\": \"AutoML_3c6f2b66-dc70-468b-ae52-cce9f0659e78_21\", \"run_number\": 1716778502, \"metric\": null, \"status\": \"Completed\", \"run_type\": \"azureml.scriptrun\", \"training_percent\": \"100\", \"start_time\": \"2024-05-27T02:55:41.132084Z\", \"end_time\": \"2024-05-27T02:58:09.848539Z\", \"created_time\": \"2024-05-27T02:55:02.13563Z\", \"created_time_dt\": \"2024-05-27T02:55:02.13563Z\", \"duration\": \"0:03:07\", \"iteration\": \"21\", \"goal\": \"r2_score_max\", \"run_name\": \"MaxAbsScaler, DecisionTree\", \"run_properties\": \"copy=True\", \"primary_metric\": 0.43928673, \"best_metric\": 0.97670864}, {\"run_id\": \"AutoML_3c6f2b66-dc70-468b-ae52-cce9f0659e78_23\", \"run_number\": 1716778579, \"metric\": null, \"status\": \"Completed\", \"run_type\": \"azureml.scriptrun\", \"training_percent\": \"100\", \"start_time\": \"2024-05-27T02:58:04.091907Z\", \"end_time\": \"2024-05-27T02:58:41.575298Z\", \"created_time\": \"2024-05-27T02:56:19.120081Z\", \"created_time_dt\": \"2024-05-27T02:56:19.120081Z\", \"duration\": \"0:02:22\", \"iteration\": \"23\", \"goal\": \"r2_score_max\", \"run_name\": \"StandardScalerWrapper, LightGBM\", \"run_properties\": \"copy=True, with_mean=False, with_std=True\", \"primary_metric\": 0.58420754, \"best_metric\": 0.97670864}, {\"run_id\": \"AutoML_3c6f2b66-dc70-468b-ae52-cce9f0659e78_24\", \"run_number\": 1716778693, \"metric\": null, \"status\": \"Completed\", \"run_type\": \"azureml.scriptrun\", \"training_percent\": \"100\", \"start_time\": \"2024-05-27T02:58:35.847141Z\", \"end_time\": \"2024-05-27T02:59:09.855857Z\", \"created_time\": \"2024-05-27T02:58:13.63262Z\", \"created_time_dt\": \"2024-05-27T02:58:13.63262Z\", \"duration\": \"0:00:56\", \"iteration\": \"24\", \"goal\": \"r2_score_max\", \"run_name\": \"SparseNormalizer, XGBoostRegressor\", \"run_properties\": \"copy=True, norm='l1'\", \"primary_metric\": -1.0, \"best_metric\": 0.97670864}, {\"run_id\": \"AutoML_3c6f2b66-dc70-468b-ae52-cce9f0659e78_26\", \"run_number\": 1716778723, \"metric\": null, \"status\": \"Completed\", \"run_type\": \"azureml.scriptrun\", \"training_percent\": \"100\", \"start_time\": \"2024-05-27T02:59:18.368566Z\", \"end_time\": \"2024-05-27T02:59:52.562669Z\", \"created_time\": \"2024-05-27T02:58:43.657254Z\", \"created_time_dt\": \"2024-05-27T02:58:43.657254Z\", \"duration\": \"0:01:08\", \"iteration\": \"26\", \"goal\": \"r2_score_max\", \"run_name\": \"SparseNormalizer, XGBoostRegressor\", \"run_properties\": \"copy=True, norm='l1'\", \"primary_metric\": -1.0, \"best_metric\": 0.97670864}, {\"run_id\": \"AutoML_3c6f2b66-dc70-468b-ae52-cce9f0659e78_27\", \"run_number\": 1716778745, \"metric\": null, \"status\": \"Completed\", \"run_type\": \"azureml.scriptrun\", \"training_percent\": \"100\", \"start_time\": \"2024-05-27T02:59:28.404015Z\", \"end_time\": \"2024-05-27T03:00:03.908837Z\", \"created_time\": \"2024-05-27T02:59:05.129636Z\", \"created_time_dt\": \"2024-05-27T02:59:05.129636Z\", \"duration\": \"0:00:58\", \"iteration\": \"27\", \"goal\": \"r2_score_max\", \"run_name\": \"SparseNormalizer, XGBoostRegressor\", \"run_properties\": \"copy=True, norm='l2'\", \"primary_metric\": -1.0, \"best_metric\": 0.97670864}, {\"run_id\": \"AutoML_3c6f2b66-dc70-468b-ae52-cce9f0659e78_28\", \"run_number\": 1716778755, \"metric\": null, \"status\": \"Completed\", \"run_type\": \"azureml.scriptrun\", \"training_percent\": \"100\", \"start_time\": \"2024-05-27T02:59:37.467604Z\", \"end_time\": \"2024-05-27T03:00:14.367939Z\", \"created_time\": \"2024-05-27T02:59:15.579611Z\", \"created_time_dt\": \"2024-05-27T02:59:15.579611Z\", \"duration\": \"0:00:58\", \"iteration\": \"28\", \"goal\": \"r2_score_max\", \"run_name\": \"StandardScalerWrapper, DecisionTree\", \"run_properties\": \"copy=True, with_mean=False, with_std=True\", \"primary_metric\": 0.95258756, \"best_metric\": 0.97670864}, {\"run_id\": \"AutoML_3c6f2b66-dc70-468b-ae52-cce9f0659e78_29\", \"run_number\": 1716778766, \"metric\": null, \"status\": \"Completed\", \"run_type\": \"azureml.scriptrun\", \"training_percent\": \"100\", \"start_time\": \"2024-05-27T03:00:06.072379Z\", \"end_time\": \"2024-05-27T03:00:39.023657Z\", \"created_time\": \"2024-05-27T02:59:26.087526Z\", \"created_time_dt\": \"2024-05-27T02:59:26.087526Z\", \"duration\": \"0:01:12\", \"iteration\": \"29\", \"goal\": \"r2_score_max\", \"run_name\": \"MaxAbsScaler, DecisionTree\", \"run_properties\": \"copy=True\", \"primary_metric\": 0.93039201, \"best_metric\": 0.97670864}, {\"run_id\": \"AutoML_3c6f2b66-dc70-468b-ae52-cce9f0659e78_30\", \"run_number\": 1716778793, \"metric\": null, \"status\": \"Completed\", \"run_type\": \"azureml.scriptrun\", \"training_percent\": \"100\", \"start_time\": \"2024-05-27T03:00:15.047756Z\", \"end_time\": \"2024-05-27T03:00:58.542866Z\", \"created_time\": \"2024-05-27T02:59:53.072011Z\", \"created_time_dt\": \"2024-05-27T02:59:53.072011Z\", \"duration\": \"0:01:05\", \"iteration\": \"30\", \"goal\": \"r2_score_max\", \"run_name\": \"SparseNormalizer, XGBoostRegressor\", \"run_properties\": \"copy=True, norm='l1'\", \"primary_metric\": -0.33162859, \"best_metric\": 0.97670864}, {\"run_id\": \"AutoML_3c6f2b66-dc70-468b-ae52-cce9f0659e78_31\", \"run_number\": 1716778797, \"metric\": null, \"status\": \"Completed\", \"run_type\": \"azureml.scriptrun\", \"training_percent\": \"100\", \"start_time\": \"2024-05-27T03:00:22.307405Z\", \"end_time\": \"2024-05-27T03:00:56.304736Z\", \"created_time\": \"2024-05-27T02:59:57.619918Z\", \"created_time_dt\": \"2024-05-27T02:59:57.619918Z\", \"duration\": \"0:00:58\", \"iteration\": \"31\", \"goal\": \"r2_score_max\", \"run_name\": \"StandardScalerWrapper, SGD\", \"run_properties\": \"copy=True, with_mean=False, with_std=True\", \"primary_metric\": 0.70617233, \"best_metric\": 0.97670864}, {\"run_id\": \"AutoML_3c6f2b66-dc70-468b-ae52-cce9f0659e78_32\", \"run_number\": 1716778805, \"metric\": null, \"status\": \"Completed\", \"run_type\": \"azureml.scriptrun\", \"training_percent\": \"100\", \"start_time\": \"2024-05-27T03:00:28.101395Z\", \"end_time\": \"2024-05-27T03:01:03.265875Z\", \"created_time\": \"2024-05-27T03:00:05.750213Z\", \"created_time_dt\": \"2024-05-27T03:00:05.750213Z\", \"duration\": \"0:00:57\", \"iteration\": \"32\", \"goal\": \"r2_score_max\", \"run_name\": \"StandardScalerWrapper, LightGBM\", \"run_properties\": \"copy=True, with_mean=False, with_std=False\", \"primary_metric\": 0.65650874, \"best_metric\": 0.97670864}, {\"run_id\": \"AutoML_3c6f2b66-dc70-468b-ae52-cce9f0659e78_33\", \"run_number\": 1716778816, \"metric\": null, \"status\": \"Completed\", \"run_type\": \"azureml.scriptrun\", \"training_percent\": \"100\", \"start_time\": \"2024-05-27T03:00:54.067041Z\", \"end_time\": \"2024-05-27T03:01:29.269716Z\", \"created_time\": \"2024-05-27T03:00:16.064251Z\", \"created_time_dt\": \"2024-05-27T03:00:16.064251Z\", \"duration\": \"0:01:13\", \"iteration\": \"33\", \"goal\": \"r2_score_max\", \"run_name\": \"StandardScalerWrapper, XGBoostRegressor\", \"run_properties\": \"copy=True, with_mean=False, with_std=False\", \"primary_metric\": 0.94401461, \"best_metric\": 0.97670864}, {\"run_id\": \"AutoML_3c6f2b66-dc70-468b-ae52-cce9f0659e78_34\", \"run_number\": 1716778840, \"metric\": null, \"status\": \"Canceled\", \"run_type\": \"azureml.scriptrun\", \"training_percent\": \"100\", \"start_time\": \"2024-05-27T03:01:12.398404Z\", \"end_time\": \"2024-05-27T03:01:36.123501Z\", \"created_time\": \"2024-05-27T03:00:40.657702Z\", \"created_time_dt\": \"2024-05-27T03:00:40.657702Z\", \"duration\": \"0:00:55\", \"iteration\": \"34\", \"goal\": \"r2_score_max\", \"run_name\": \"StandardScalerWrapper, ElasticNet\", \"run_properties\": \"copy=True, with_mean=False, with_std=True\", \"primary_metric\": 0.71455899, \"best_metric\": 0.97670864}, {\"run_id\": \"AutoML_3c6f2b66-dc70-468b-ae52-cce9f0659e78_35\", \"run_number\": 1716778858, \"metric\": null, \"status\": \"Canceled\", \"run_type\": \"azureml.scriptrun\", \"training_percent\": \"100\", \"start_time\": \"2024-05-27T03:01:22.683887Z\", \"end_time\": \"2024-05-27T03:01:36.056993Z\", \"created_time\": \"2024-05-27T03:00:58.946245Z\", \"created_time_dt\": \"2024-05-27T03:00:58.946245Z\", \"duration\": \"0:00:37\", \"iteration\": \"35\", \"goal\": null, \"run_name\": \"Canceled\", \"run_properties\": null}, {\"run_id\": \"AutoML_3c6f2b66-dc70-468b-ae52-cce9f0659e78_36\", \"run_number\": 1716778861, \"metric\": null, \"status\": \"Canceled\", \"run_type\": \"azureml.scriptrun\", \"training_percent\": \"100\", \"start_time\": \"2024-05-27T03:01:23.496711Z\", \"end_time\": \"2024-05-27T03:01:35.882819Z\", \"created_time\": \"2024-05-27T03:01:01.209963Z\", \"created_time_dt\": \"2024-05-27T03:01:01.209963Z\", \"duration\": \"0:00:34\", \"iteration\": \"36\", \"goal\": null, \"run_name\": \"Canceled\", \"run_properties\": null}, {\"run_id\": \"AutoML_3c6f2b66-dc70-468b-ae52-cce9f0659e78_37\", \"run_number\": 1716778864, \"metric\": null, \"status\": \"Canceled\", \"run_type\": \"azureml.scriptrun\", \"training_percent\": \"100\", \"start_time\": \"2024-05-27T03:01:30.064267Z\", \"end_time\": \"2024-05-27T03:01:34.302043Z\", \"created_time\": \"2024-05-27T03:01:04.838721Z\", \"created_time_dt\": \"2024-05-27T03:01:04.838721Z\", \"duration\": \"0:00:29\", \"iteration\": \"37\", \"goal\": null, \"run_name\": \"Canceled\", \"run_properties\": null}, {\"run_id\": \"AutoML_3c6f2b66-dc70-468b-ae52-cce9f0659e78_39\", \"run_number\": 1716778897, \"metric\": null, \"status\": \"Completed\", \"run_type\": \"azureml.scriptrun\", \"training_percent\": \"100\", \"start_time\": \"2024-05-27T03:01:59.887777Z\", \"end_time\": \"2024-05-27T03:02:59.694037Z\", \"created_time\": \"2024-05-27T03:01:37.047635Z\", \"created_time_dt\": \"2024-05-27T03:01:37.047635Z\", \"duration\": \"0:01:22\", \"iteration\": \"39\", \"goal\": \"r2_score_max\", \"run_name\": \"StackEnsemble\", \"run_properties\": \"base_learners=[('1', Pipeline(memory=None, steps=[('maxabsscaler', MaxAbsScaler(copy=True\", \"primary_metric\": 0.97954576, \"best_metric\": 0.97954576}], \"children_metrics\": {\"categories\": [0], \"series\": {\"explained_variance\": [{\"categories\": [\"0\", \"1\", \"5\", \"10\", \"14\", \"18\", \"21\", \"23\", \"24\", \"26\", \"27\", \"28\", \"29\", \"30\", \"31\", \"32\", \"33\", \"34\", \"39\"], \"mode\": \"markers\", \"name\": \"explained_variance\", \"stepped\": false, \"type\": \"scatter\", \"data\": [0.968407108741077, 0.9767454757429862, 0.8792934394952301, 0.897766957187789, 0.9728192205999656, 0.9648945366959097, 0.4411537701625547, 0.5852256306137914, 0.21736268740394515, 0.02098286562909224, 0.289509112185151, 0.952614306185965, 0.9304452064603228, 0.6430697099217285, 0.7070983215342949, 0.6571990117058658, 0.9441055563703866, 0.7153550631752194, 0.9795978557933201]}, {\"categories\": [\"0\", \"1\", \"5\", \"10\", \"14\", \"18\", \"21\", \"23\", \"24\", \"26\", \"27\", \"28\", \"29\", \"30\", \"31\", \"32\", \"33\", \"34\", \"39\"], \"mode\": \"lines\", \"name\": \"explained_variance_max\", \"stepped\": true, \"type\": \"scatter\", \"data\": [0.968407108741077, 0.9767454757429862, 0.9767454757429862, 0.9767454757429862, 0.9767454757429862, 0.9767454757429862, 0.9767454757429862, 0.9767454757429862, 0.9767454757429862, 0.9767454757429862, 0.9767454757429862, 0.9767454757429862, 0.9767454757429862, 0.9767454757429862, 0.9767454757429862, 0.9767454757429862, 0.9767454757429862, 0.9767454757429862, 0.9795978557933201]}], \"median_absolute_error\": [{\"categories\": [\"0\", \"1\", \"5\", \"10\", \"14\", \"18\", \"21\", \"23\", \"24\", \"26\", \"27\", \"28\", \"29\", \"30\", \"31\", \"32\", \"33\", \"34\", \"39\"], \"mode\": \"markers\", \"name\": \"median_absolute_error\", \"stepped\": false, \"type\": \"scatter\", \"data\": [0.8017312499208806, 0.5143415603637695, 2.0523650054931646, 2.0013069385404534, 0.6452108408610039, 0.8096600163777646, 5.144987259612171, 4.502635026812906, 15.221026814778646, 26.358551317532857, 21.094396265029907, 0.36395308857808634, 0.7040516176470586, 9.396438270568849, 3.517153117141181, 4.706438212942408, 1.25258394241333, 3.7228864863344673, 0.47593640725069086]}, {\"categories\": [\"0\", \"1\", \"5\", \"10\", \"14\", \"18\", \"21\", \"23\", \"24\", \"26\", \"27\", \"28\", \"29\", \"30\", \"31\", \"32\", \"33\", \"34\", \"39\"], \"mode\": \"lines\", \"name\": \"median_absolute_error_min\", \"stepped\": true, \"type\": \"scatter\", \"data\": [0.8017312499208806, 0.5143415603637695, 0.5143415603637695, 0.5143415603637695, 0.5143415603637695, 0.5143415603637695, 0.5143415603637695, 0.5143415603637695, 0.5143415603637695, 0.5143415603637695, 0.5143415603637695, 0.36395308857808634, 0.36395308857808634, 0.36395308857808634, 0.36395308857808634, 0.36395308857808634, 0.36395308857808634, 0.36395308857808634, 0.36395308857808634]}], \"root_mean_squared_error\": [{\"categories\": [\"0\", \"1\", \"5\", \"10\", \"14\", \"18\", \"21\", \"23\", \"24\", \"26\", \"27\", \"28\", \"29\", \"30\", \"31\", \"32\", \"33\", \"34\", \"39\"], \"mode\": \"markers\", \"name\": \"root_mean_squared_error\", \"stepped\": false, \"type\": \"scatter\", \"data\": [1.9021778661838995, 1.6298305422329706, 3.719192441912611, 3.424136745935582, 1.763823228743717, 2.003332598645391, 8.007717910394646, 6.896890531170603, 19.53218791755522, 29.762037209878837, 24.022487871076322, 2.302974440626907, 2.770087692937579, 12.344454541781758, 5.792830579389999, 6.269203136779706, 2.5309452736642117, 5.712293722770407, 1.5280403706935262]}, {\"categories\": [\"0\", \"1\", \"5\", \"10\", \"14\", \"18\", \"21\", \"23\", \"24\", \"26\", \"27\", \"28\", \"29\", \"30\", \"31\", \"32\", \"33\", \"34\", \"39\"], \"mode\": \"lines\", \"name\": \"root_mean_squared_error_min\", \"stepped\": true, \"type\": \"scatter\", \"data\": [1.9021778661838995, 1.6298305422329706, 1.6298305422329706, 1.6298305422329706, 1.6298305422329706, 1.6298305422329706, 1.6298305422329706, 1.6298305422329706, 1.6298305422329706, 1.6298305422329706, 1.6298305422329706, 1.6298305422329706, 1.6298305422329706, 1.6298305422329706, 1.6298305422329706, 1.6298305422329706, 1.6298305422329706, 1.6298305422329706, 1.5280403706935262]}], \"mean_absolute_error\": [{\"categories\": [\"0\", \"1\", \"5\", \"10\", \"14\", \"18\", \"21\", \"23\", \"24\", \"26\", \"27\", \"28\", \"29\", \"30\", \"31\", \"32\", \"33\", \"34\", \"39\"], \"mode\": \"markers\", \"name\": \"mean_absolute_error\", \"stepped\": false, \"type\": \"scatter\", \"data\": [1.2099133242809277, 0.8996419619160742, 2.7496692016463267, 2.610054192868399, 1.027659624807056, 1.2570285783840667, 6.247917759920159, 5.473715857052235, 17.147147196605115, 27.8164669757747, 22.266144345658798, 0.985648713605411, 1.484286299392366, 10.654912038662369, 4.464568625090858, 5.196897928927954, 1.7715910180220353, 4.52169109669183, 0.8274604666749165]}, {\"categories\": [\"0\", \"1\", \"5\", \"10\", \"14\", \"18\", \"21\", \"23\", \"24\", \"26\", \"27\", \"28\", \"29\", \"30\", \"31\", \"32\", \"33\", \"34\", \"39\"], \"mode\": \"lines\", \"name\": \"mean_absolute_error_min\", \"stepped\": true, \"type\": \"scatter\", \"data\": [1.2099133242809277, 0.8996419619160742, 0.8996419619160742, 0.8996419619160742, 0.8996419619160742, 0.8996419619160742, 0.8996419619160742, 0.8996419619160742, 0.8996419619160742, 0.8996419619160742, 0.8996419619160742, 0.8996419619160742, 0.8996419619160742, 0.8996419619160742, 0.8996419619160742, 0.8996419619160742, 0.8996419619160742, 0.8996419619160742, 0.8274604666749165]}], \"r2_score\": [{\"categories\": [\"0\", \"1\", \"5\", \"10\", \"14\", \"18\", \"21\", \"23\", \"24\", \"26\", \"27\", \"28\", \"29\", \"30\", \"31\", \"32\", \"33\", \"34\", \"39\"], \"mode\": \"markers\", \"name\": \"r2_score\", \"stepped\": false, \"type\": \"scatter\", \"data\": [0.9683604161159348, 0.9767086445538942, 0.879040910947196, 0.8975358773971513, 0.972782806729438, 0.96486816710227, 0.4392867336790413, 0.5842075435458021, -1.0, -1.0, -1.0, 0.9525875566119577, 0.9303920057036669, -0.3316285890344333, 0.7061723289585852, 0.6565087413868098, 0.9440146136112163, 0.7145589876000868, 0.979545757141314]}, {\"categories\": [\"0\", \"1\", \"5\", \"10\", \"14\", \"18\", \"21\", \"23\", \"24\", \"26\", \"27\", \"28\", \"29\", \"30\", \"31\", \"32\", \"33\", \"34\", \"39\"], \"mode\": \"lines\", \"name\": \"r2_score_max\", \"stepped\": true, \"type\": \"scatter\", \"data\": [0.9683604161159348, 0.9767086445538942, 0.9767086445538942, 0.9767086445538942, 0.9767086445538942, 0.9767086445538942, 0.9767086445538942, 0.9767086445538942, 0.9767086445538942, 0.9767086445538942, 0.9767086445538942, 0.9767086445538942, 0.9767086445538942, 0.9767086445538942, 0.9767086445538942, 0.9767086445538942, 0.9767086445538942, 0.9767086445538942, 0.979545757141314]}], \"normalized_root_mean_squared_error\": [{\"categories\": [\"0\", \"1\", \"5\", \"10\", \"14\", \"18\", \"21\", \"23\", \"24\", \"26\", \"27\", \"28\", \"29\", \"30\", \"31\", \"32\", \"33\", \"34\", \"39\"], \"mode\": \"markers\", \"name\": \"normalized_root_mean_squared_error\", \"stepped\": false, \"type\": \"scatter\", \"data\": [0.03963531143073636, 0.03396046304036029, 0.07749609188849414, 0.07134807355258338, 0.03675244267260621, 0.04174305298060909, 0.16685526567750142, 0.14370917092787555, 0.4069884130179034, 0.6201457995057267, 0.5005519226345292, 0.04798663195171918, 0.05771978023290505, 0.2572190061214736, 0.12070408775191697, 0.13063017037797353, 0.05273681600400509, 0.11902595688386412, 0.03183948096961007]}, {\"categories\": [\"0\", \"1\", \"5\", \"10\", \"14\", \"18\", \"21\", \"23\", \"24\", \"26\", \"27\", \"28\", \"29\", \"30\", \"31\", \"32\", \"33\", \"34\", \"39\"], \"mode\": \"lines\", \"name\": \"normalized_root_mean_squared_error_min\", \"stepped\": true, \"type\": \"scatter\", \"data\": [0.03963531143073636, 0.03396046304036029, 0.03396046304036029, 0.03396046304036029, 0.03396046304036029, 0.03396046304036029, 0.03396046304036029, 0.03396046304036029, 0.03396046304036029, 0.03396046304036029, 0.03396046304036029, 0.03396046304036029, 0.03396046304036029, 0.03396046304036029, 0.03396046304036029, 0.03396046304036029, 0.03396046304036029, 0.03396046304036029, 0.03183948096961007]}], \"normalized_median_absolute_error\": [{\"categories\": [\"0\", \"1\", \"5\", \"10\", \"14\", \"18\", \"21\", \"23\", \"24\", \"26\", \"27\", \"28\", \"29\", \"30\", \"31\", \"32\", \"33\", \"34\", \"39\"], \"mode\": \"markers\", \"name\": \"normalized_median_absolute_error\", \"stepped\": false, \"type\": \"scatter\", \"data\": [0.016705518626456087, 0.01071723538014189, 0.04276473173639699, 0.041700844693708404, 0.013444133206805382, 0.01687072879600276, 0.10720510209226897, 0.09382053314746014, 0.31715758490537277, 0.5492280237858989, 0.43953984549570574, 0.007583619948701582, 0.014670187065491303, 0.1957917625972839, 0.07328623764671573, 0.09806714062640458, 0.026099848775073556, 0.07757306397596407, 0.00991699465016442]}, {\"categories\": [\"0\", \"1\", \"5\", \"10\", \"14\", \"18\", \"21\", \"23\", \"24\", \"26\", \"27\", \"28\", \"29\", \"30\", \"31\", \"32\", \"33\", \"34\", \"39\"], \"mode\": \"lines\", \"name\": \"normalized_median_absolute_error_min\", \"stepped\": true, \"type\": \"scatter\", \"data\": [0.016705518626456087, 0.01071723538014189, 0.01071723538014189, 0.01071723538014189, 0.01071723538014189, 0.01071723538014189, 0.01071723538014189, 0.01071723538014189, 0.01071723538014189, 0.01071723538014189, 0.01071723538014189, 0.007583619948701582, 0.007583619948701582, 0.007583619948701582, 0.007583619948701582, 0.007583619948701582, 0.007583619948701582, 0.007583619948701582, 0.007583619948701582]}], \"normalized_root_mean_squared_log_error\": [{\"categories\": [\"0\", \"1\", \"5\", \"10\", \"14\", \"18\", \"21\", \"23\", \"24\", \"26\", \"27\", \"28\", \"29\", \"30\", \"31\", \"32\", \"33\", \"34\", \"39\"], \"mode\": \"markers\", \"name\": \"normalized_root_mean_squared_log_error\", \"stepped\": false, \"type\": \"scatter\", \"data\": [0.04814536350282652, 0.04385070360087693, 0.0818303490245187, 0.07710147043587544, 0.046780960354404606, 0.0529391181808214, 0.15083368082171775, 0.13914392012399643, 0.4323454386219476, 1.0, 0.6813108179504231, 0.055439946985466566, 0.0625877735838104, 0.22513717231583574, 0.11790571217581791, 0.12800288005529845, 0.06048828324941156, 0.11917531832648103, 0.0414364261602957]}, {\"categories\": [\"0\", \"1\", \"5\", \"10\", \"14\", \"18\", \"21\", \"23\", \"24\", \"26\", \"27\", \"28\", \"29\", \"30\", \"31\", \"32\", \"33\", \"34\", \"39\"], \"mode\": \"lines\", \"name\": \"normalized_root_mean_squared_log_error_min\", \"stepped\": true, \"type\": \"scatter\", \"data\": [0.04814536350282652, 0.04385070360087693, 0.04385070360087693, 0.04385070360087693, 0.04385070360087693, 0.04385070360087693, 0.04385070360087693, 0.04385070360087693, 0.04385070360087693, 0.04385070360087693, 0.04385070360087693, 0.04385070360087693, 0.04385070360087693, 0.04385070360087693, 0.04385070360087693, 0.04385070360087693, 0.04385070360087693, 0.04385070360087693, 0.0414364261602957]}], \"mean_absolute_percentage_error\": [{\"categories\": [\"0\", \"1\", \"5\", \"10\", \"14\", \"18\", \"21\", \"23\", \"24\", \"26\", \"27\", \"28\", \"29\", \"30\", \"31\", \"32\", \"33\", \"34\", \"39\"], \"mode\": \"markers\", \"name\": \"mean_absolute_percentage_error\", \"stepped\": false, \"type\": \"scatter\", \"data\": [5.592033345314273, 4.289710130717494, 12.186181476057063, 11.567618905275772, 4.762244166937363, 5.878563151659038, 26.166988860034518, 24.012986727285494, 54.429010161559795, 95.25588304614526, 75.29440274180367, 4.52638478347198, 6.5078177230249565, 33.962127611971304, 19.03658904111243, 22.525307532691784, 8.002324335320429, 19.776952448585405, 3.941642908829694]}, {\"categories\": [\"0\", \"1\", \"5\", \"10\", \"14\", \"18\", \"21\", \"23\", \"24\", \"26\", \"27\", \"28\", \"29\", \"30\", \"31\", \"32\", \"33\", \"34\", \"39\"], \"mode\": \"lines\", \"name\": \"mean_absolute_percentage_error_min\", \"stepped\": true, \"type\": \"scatter\", \"data\": [5.592033345314273, 4.289710130717494, 4.289710130717494, 4.289710130717494, 4.289710130717494, 4.289710130717494, 4.289710130717494, 4.289710130717494, 4.289710130717494, 4.289710130717494, 4.289710130717494, 4.289710130717494, 4.289710130717494, 4.289710130717494, 4.289710130717494, 4.289710130717494, 4.289710130717494, 4.289710130717494, 3.941642908829694]}], \"normalized_mean_absolute_error\": [{\"categories\": [\"0\", \"1\", \"5\", \"10\", \"14\", \"18\", \"21\", \"23\", \"24\", \"26\", \"27\", \"28\", \"29\", \"30\", \"31\", \"32\", \"33\", \"34\", \"39\"], \"mode\": \"markers\", \"name\": \"normalized_mean_absolute_error\", \"stepped\": false, \"type\": \"scatter\", \"data\": [0.025210729377415562, 0.018745665150776677, 0.05729432408831319, 0.05438519321696114, 0.02141314437420937, 0.026192460793133577, 0.13018665110685448, 0.11405475614794623, 0.35729178189292204, 0.5796063297169258, 0.46395533309007336, 0.02053777116197306, 0.030927785868319013, 0.22201433652822075, 0.09302735091454528, 0.10828675464510655, 0.036914298591891055, 0.09421760078121, 0.017241633327948754]}, {\"categories\": [\"0\", \"1\", \"5\", \"10\", \"14\", \"18\", \"21\", \"23\", \"24\", \"26\", \"27\", \"28\", \"29\", \"30\", \"31\", \"32\", \"33\", \"34\", \"39\"], \"mode\": \"lines\", \"name\": \"normalized_mean_absolute_error_min\", \"stepped\": true, \"type\": \"scatter\", \"data\": [0.025210729377415562, 0.018745665150776677, 0.018745665150776677, 0.018745665150776677, 0.018745665150776677, 0.018745665150776677, 0.018745665150776677, 0.018745665150776677, 0.018745665150776677, 0.018745665150776677, 0.018745665150776677, 0.018745665150776677, 0.018745665150776677, 0.018745665150776677, 0.018745665150776677, 0.018745665150776677, 0.018745665150776677, 0.018745665150776677, 0.017241633327948754]}], \"root_mean_squared_log_error\": [{\"categories\": [\"0\", \"1\", \"5\", \"10\", \"14\", \"18\", \"21\", \"23\", \"24\", \"26\", \"27\", \"28\", \"29\", \"30\", \"31\", \"32\", \"33\", \"34\", \"39\"], \"mode\": \"markers\", \"name\": \"root_mean_squared_log_error\", \"stepped\": false, \"type\": \"scatter\", \"data\": [0.09367967306970955, 0.08532326434643532, 0.1592228157826058, 0.150021518545657, 0.09102486206445164, 0.1030072040786838, 0.29348724112239577, 0.2707416872257805, 0.8412436088660216, 2.5678644921690617, 1.3256722982412417, 0.1078732349439138, 0.12178124207428916, 0.4380645437882748, 0.22941707707811665, 0.24906381597591679, 0.11769612247335494, 0.2318874351867314, 0.08062564229358808]}, {\"categories\": [\"0\", \"1\", \"5\", \"10\", \"14\", \"18\", \"21\", \"23\", \"24\", \"26\", \"27\", \"28\", \"29\", \"30\", \"31\", \"32\", \"33\", \"34\", \"39\"], \"mode\": \"lines\", \"name\": \"root_mean_squared_log_error_min\", \"stepped\": true, \"type\": \"scatter\", \"data\": [0.09367967306970955, 0.08532326434643532, 0.08532326434643532, 0.08532326434643532, 0.08532326434643532, 0.08532326434643532, 0.08532326434643532, 0.08532326434643532, 0.08532326434643532, 0.08532326434643532, 0.08532326434643532, 0.08532326434643532, 0.08532326434643532, 0.08532326434643532, 0.08532326434643532, 0.08532326434643532, 0.08532326434643532, 0.08532326434643532, 0.08062564229358808]}], \"spearman_correlation\": [{\"categories\": [\"0\", \"1\", \"5\", \"10\", \"14\", \"18\", \"21\", \"23\", \"24\", \"26\", \"27\", \"28\", \"29\", \"30\", \"31\", \"32\", \"33\", \"34\", \"39\"], \"mode\": \"markers\", \"name\": \"spearman_correlation\", \"stepped\": false, \"type\": \"scatter\", \"data\": [0.9841713762998072, 0.9895364877558039, 0.9288208219069457, 0.9420888140626982, 0.9871721469515166, 0.9823429358020362, 0.664697914861021, 0.7626895312808992, 0.738176481819818, 0.6158451916559263, 0.936857157402032, 0.9764823276236525, 0.9610715313827224, 0.9209119512414708, 0.8088341645387889, 0.8783881950217145, 0.9707712616212772, 0.8183438666293389, 0.9907194414860893]}, {\"categories\": [\"0\", \"1\", \"5\", \"10\", \"14\", \"18\", \"21\", \"23\", \"24\", \"26\", \"27\", \"28\", \"29\", \"30\", \"31\", \"32\", \"33\", \"34\", \"39\"], \"mode\": \"lines\", \"name\": \"spearman_correlation_max\", \"stepped\": true, \"type\": \"scatter\", \"data\": [0.9841713762998072, 0.9895364877558039, 0.9895364877558039, 0.9895364877558039, 0.9895364877558039, 0.9895364877558039, 0.9895364877558039, 0.9895364877558039, 0.9895364877558039, 0.9895364877558039, 0.9895364877558039, 0.9895364877558039, 0.9895364877558039, 0.9895364877558039, 0.9895364877558039, 0.9895364877558039, 0.9895364877558039, 0.9895364877558039, 0.9907194414860893]}]}, \"metricName\": null, \"primaryMetricName\": \"r2_score\", \"showLegend\": false}, \"run_metrics\": [{\"name\": \"experiment_status\", \"run_id\": \"AutoML_3c6f2b66-dc70-468b-ae52-cce9f0659e78\", \"categories\": [0, 1, 2, 3, 4, 5, 6, 7, 8, 9, 10, 11, 12, 13], \"series\": [{\"data\": [\"DatasetEvaluation\", \"FeaturesGeneration\", \"DatasetFeaturization\", \"DatasetFeaturizationCompleted\", \"DatasetCrossValidationSplit\", \"ModelSelection\", \"BestRunExplainModel\", \"ModelExplanationDataSetSetup\", \"PickSurrogateModel\", \"EngineeredFeatureExplanations\", \"EngineeredFeatureExplanations\", \"RawFeaturesExplanations\", \"RawFeaturesExplanations\", \"BestRunExplainModel\"]}]}, {\"name\": \"experiment_status_description\", \"run_id\": \"AutoML_3c6f2b66-dc70-468b-ae52-cce9f0659e78\", \"categories\": [0, 1, 2, 3, 4, 5, 6, 7, 8, 9, 10, 11, 12, 13], \"series\": [{\"data\": [\"Gathering dataset statistics.\", \"Generating features for the dataset.\", \"Beginning to fit featurizers and featurize the dataset.\", \"Completed fit featurizers and featurizing the dataset.\", \"Generating individually featurized CV splits.\", \"Beginning model selection.\", \"Best run model explanations started\", \"Model explanations data setup completed\", \"Choosing LightGBM as the surrogate model for explanations\", \"Computation of engineered features started\", \"Computation of engineered features completed\", \"Computation of raw features started\", \"Computation of raw features completed\", \"Best run model explanations completed\"]}]}, {\"name\": \"spearman_correlation\", \"run_id\": \"AutoML_3c6f2b66-dc70-468b-ae52-cce9f0659e78\", \"categories\": [0], \"series\": [{\"data\": [0.9907194414860893]}]}, {\"name\": \"median_absolute_error\", \"run_id\": \"AutoML_3c6f2b66-dc70-468b-ae52-cce9f0659e78\", \"categories\": [0], \"series\": [{\"data\": [0.47593640725069086]}]}, {\"name\": \"normalized_root_mean_squared_error\", \"run_id\": \"AutoML_3c6f2b66-dc70-468b-ae52-cce9f0659e78\", \"categories\": [0], \"series\": [{\"data\": [0.03183948096961007]}]}, {\"name\": \"normalized_median_absolute_error\", \"run_id\": \"AutoML_3c6f2b66-dc70-468b-ae52-cce9f0659e78\", \"categories\": [0], \"series\": [{\"data\": [0.00991699465016442]}]}, {\"name\": \"normalized_mean_absolute_error\", \"run_id\": \"AutoML_3c6f2b66-dc70-468b-ae52-cce9f0659e78\", \"categories\": [0], \"series\": [{\"data\": [0.017241633327948754]}]}, {\"name\": \"explained_variance\", \"run_id\": \"AutoML_3c6f2b66-dc70-468b-ae52-cce9f0659e78\", \"categories\": [0], \"series\": [{\"data\": [0.9795978557933201]}]}, {\"name\": \"normalized_root_mean_squared_log_error\", \"run_id\": \"AutoML_3c6f2b66-dc70-468b-ae52-cce9f0659e78\", \"categories\": [0], \"series\": [{\"data\": [0.0414364261602957]}]}, {\"name\": \"root_mean_squared_error\", \"run_id\": \"AutoML_3c6f2b66-dc70-468b-ae52-cce9f0659e78\", \"categories\": [0], \"series\": [{\"data\": [1.5280403706935262]}]}, {\"name\": \"root_mean_squared_log_error\", \"run_id\": \"AutoML_3c6f2b66-dc70-468b-ae52-cce9f0659e78\", \"categories\": [0], \"series\": [{\"data\": [0.08062564229358808]}]}, {\"name\": \"r2_score\", \"run_id\": \"AutoML_3c6f2b66-dc70-468b-ae52-cce9f0659e78\", \"categories\": [0], \"series\": [{\"data\": [0.979545757141314]}]}, {\"name\": \"mean_absolute_percentage_error\", \"run_id\": \"AutoML_3c6f2b66-dc70-468b-ae52-cce9f0659e78\", \"categories\": [0], \"series\": [{\"data\": [3.941642908829694]}]}, {\"name\": \"mean_absolute_error\", \"run_id\": \"AutoML_3c6f2b66-dc70-468b-ae52-cce9f0659e78\", \"categories\": [0], \"series\": [{\"data\": [0.8274604666749165]}]}], \"run_logs\": \"\\nRun is completed.\", \"graph\": {}, \"widget_settings\": {\"childWidgetDisplay\": \"popup\", \"send_telemetry\": false, \"log_level\": \"INFO\", \"sdk_version\": \"1.51.0\"}, \"loading\": false}"
          },
          "metadata": {}
        },
        {
          "output_type": "display_data",
          "data": {
            "text/html": "<table style=\"width:100%\"><tr><th>Experiment</th><th>Id</th><th>Type</th><th>Status</th><th>Details Page</th><th>Docs Page</th></tr><tr><td>parkinson_exp</td><td>AutoML_3c6f2b66-dc70-468b-ae52-cce9f0659e78</td><td>automl</td><td>NotStarted</td><td><a href=\"https://ml.azure.com/runs/AutoML_3c6f2b66-dc70-468b-ae52-cce9f0659e78?wsid=/subscriptions/610d6e37-4747-4a20-80eb-3aad70a55f43/resourcegroups/aml-quickstarts-259743/workspaces/quick-starts-ws-259743&amp;tid=660b3398-b80e-49d2-bc5b-ac1dc93b5254\" target=\"_blank\" rel=\"noopener\">Link to Azure Machine Learning studio</a></td><td><a href=\"https://docs.microsoft.com/en-us/python/api/overview/azure/ml/intro?view=azure-ml-py\" target=\"_blank\" rel=\"noopener\">Link to Documentation</a></td></tr></table>"
          },
          "metadata": {}
        },
        {
          "output_type": "stream",
          "name": "stdout",
          "text": "\n\n********************************************************************************************\nDATA GUARDRAILS: \n\nTYPE:         Cross validation\nSTATUS:       DONE\nDESCRIPTION:  In order to accurately evaluate the model(s) trained by AutoML, we leverage a dataset that the model is not trained on. Hence, if the user doesn't provide an explicit validation dataset, a part of the training dataset is used to achieve this. For smaller datasets (fewer than 20,000 samples), cross-validation is leveraged, else a single hold-out set is split from the training data to serve as the validation dataset. Hence, for your input data we leverage cross-validation with 10 folds, if the number of training samples are fewer than 1000, and 3 folds in all other cases.\n              Learn more about cross validation: https://aka.ms/AutomatedMLCrossValidation\nDETAILS:      \n+------------------------------+\n|Number of folds               |\n+==============================+\n|3                             |\n+------------------------------+\n\n********************************************************************************************\n\nTYPE:         Missing feature values imputation\nSTATUS:       PASSED\nDESCRIPTION:  No feature missing values were detected in the training data.\n              Learn more about missing value imputation: https://aka.ms/AutomatedMLFeaturization\n\n********************************************************************************************\n\nTYPE:         High cardinality feature detection\nSTATUS:       PASSED\nDESCRIPTION:  Your inputs were analyzed, and no high cardinality features were detected.\n              Learn more about high cardinality feature handling: https://aka.ms/AutomatedMLFeaturization\n\n********************************************************************************************\n\n********************************************************************************************\nITER: The iteration being evaluated.\nPIPELINE: A summary description of the pipeline being evaluated.\nDURATION: Time taken for the current iteration.\nMETRIC: The result of computing score on the fitted pipeline.\nBEST: The best observed score thus far.\n********************************************************************************************\n\n ITER   PIPELINE                                       DURATION            METRIC      BEST\n    0   MaxAbsScaler LightGBM                          0:00:14             0.9684    0.9684\n    1   MaxAbsScaler XGBoostRegressor                  0:00:17             0.9767    0.9767\n    2   StandardScalerWrapper XGBoostRegressor         0:00:21            -1.0000    0.9767\n    3   MaxAbsScaler ElasticNet                        0:00:12             0.7398    0.9767\n    4   MaxAbsScaler LightGBM                          0:00:14             0.8825    0.9767\n    5   SparseNormalizer XGBoostRegressor              0:00:13             0.8790    0.9767\n    6   MaxAbsScaler RandomForest                      0:00:16             0.8536    0.9767\n    7   MaxAbsScaler RandomForest                      0:00:15             0.3734    0.9767\n    8   StandardScalerWrapper ExtremeRandomTrees       0:00:28             0.7392    0.9767\n    9   SparseNormalizer XGBoostRegressor              0:00:16             0.9530    0.9767\n   10   MaxAbsScaler ExtremeRandomTrees                0:00:13             0.8975    0.9767\n   11   MaxAbsScaler ElasticNet                        0:00:13             0.7399    0.9767\n   12   SparseNormalizer XGBoostRegressor              0:01:20             0.9485    0.9767\n   13   MaxAbsScaler RandomForest                      0:00:56             0.3470    0.9767\n   14   StandardScalerWrapper XGBoostRegressor         0:00:22             0.9728    0.9767\n   15   StandardScalerWrapper ElasticNet               0:00:12             0.1626    0.9767\n   16   MaxAbsScaler RandomForest                      0:00:20             0.1120    0.9767\n   17   StandardScalerWrapper ElasticNet               0:00:11             0.7383    0.9767\n   18   StandardScalerWrapper XGBoostRegressor         0:00:14             0.9649    0.9767\n   19   StandardScalerWrapper ExtremeRandomTrees       0:00:13             0.7372    0.9767\n   20   StandardScalerWrapper ElasticNet               0:02:29             0.3527    0.9767\n   21   MaxAbsScaler DecisionTree                      0:02:29             0.4393    0.9767\n   22   SparseNormalizer ExtremeRandomTrees            0:02:28             0.8385    0.9767\n   23   StandardScalerWrapper LightGBM                 0:00:37             0.5842    0.9767\n   24   SparseNormalizer XGBoostRegressor              0:00:34            -1.0000    0.9767\n   25   StandardScalerWrapper ExtremeRandomTrees       0:00:53             0.9439    0.9767\n   26   SparseNormalizer XGBoostRegressor              0:00:34            -1.0000    0.9767\n   27   SparseNormalizer XGBoostRegressor              0:00:36            -1.0000    0.9767\n   28   StandardScalerWrapper DecisionTree             0:00:37             0.9526    0.9767\n   29   MaxAbsScaler DecisionTree                      0:00:33             0.9304    0.9767\n   30   SparseNormalizer XGBoostRegressor              0:00:43            -0.3316    0.9767\n   31   StandardScalerWrapper SGD                      0:00:34             0.7062    0.9767\n   32   StandardScalerWrapper LightGBM                 0:00:35             0.6565    0.9767\n   33   StandardScalerWrapper XGBoostRegressor         0:00:35             0.9440    0.9767\n   34   StandardScalerWrapper ElasticNet               0:00:24             0.7146    0.9767\nERROR: {\n    \"additional_properties\": {\n        \"statusCode\": 400\n    },\n    \"error\": {\n        \"additional_properties\": {\n            \"debugInfo\": null\n        },\n        \"code\": \"UserError\",\n        \"severity\": null,\n        \"message\": \"Run AutoML_3c6f2b66-dc70-468b-ae52-cce9f0659e78_34 already completed\",\n        \"message_format\": null,\n        \"message_parameters\": null,\n        \"reference_code\": null,\n        \"details_uri\": null,\n        \"target\": null,\n        \"details\": [],\n        \"inner_error\": null,\n        \"additional_info\": null\n    },\n    \"correlation\": {\n        \"operation\": \"aabd56f8256f20f50036e251b2e9dfb4\",\n        \"request\": \"b8cdb9a1e6e81542\"\n    },\n    \"environment\": \"westus2\",\n    \"location\": \"westus2\",\n    \"time\": {},\n    \"component_name\": \"CJPBatch\"\n}\n   35                                                  0:00:13                nan    0.9767\nERROR: {\n    \"additional_properties\": {\n        \"statusCode\": 400\n    },\n    \"error\": {\n        \"additional_properties\": {\n            \"debugInfo\": null\n        },\n        \"code\": \"UserError\",\n        \"severity\": null,\n        \"message\": \"Run AutoML_3c6f2b66-dc70-468b-ae52-cce9f0659e78_35 already completed\",\n        \"message_format\": null,\n        \"message_parameters\": null,\n        \"reference_code\": null,\n        \"details_uri\": null,\n        \"target\": null,\n        \"details\": [],\n        \"inner_error\": null,\n        \"additional_info\": null\n    },\n    \"correlation\": {\n        \"operation\": \"0ba04d061a290575f7c31620ebc05741\",\n        \"request\": \"64b7f1b584b4019c\"\n    },\n    \"environment\": \"westus2\",\n    \"location\": \"westus2\",\n    \"time\": {},\n    \"component_name\": \"CJPBatch\"\n}\n   36                                                  0:00:12                nan    0.9767\nERROR: {\n    \"additional_properties\": {\n        \"statusCode\": 400\n    },\n    \"error\": {\n        \"additional_properties\": {\n            \"debugInfo\": null\n        },\n        \"code\": \"UserError\",\n        \"severity\": null,\n        \"message\": \"Run AutoML_3c6f2b66-dc70-468b-ae52-cce9f0659e78_36 already completed\",\n        \"message_format\": null,\n        \"message_parameters\": null,\n        \"reference_code\": null,\n        \"details_uri\": null,\n        \"target\": null,\n        \"details\": [],\n        \"inner_error\": null,\n        \"additional_info\": null\n    },\n    \"correlation\": {\n        \"operation\": \"184d8d7eca84c6937c89ca8d8b369330\",\n        \"request\": \"bf0224be67c4cad4\"\n    },\n    \"environment\": \"westus2\",\n    \"location\": \"westus2\",\n    \"time\": {},\n    \"component_name\": \"CJPBatch\"\n}\n   37                                                  0:00:04                nan    0.9767\n   38    VotingEnsemble                                0:01:04             0.9795    0.9795\n   39    StackEnsemble                                 0:01:00             0.9795    0.9795\n"
        },
        {
          "output_type": "execute_result",
          "execution_count": 10,
          "data": {
            "text/plain": "Run(Experiment: parkinson_exp,\nId: AutoML_3c6f2b66-dc70-468b-ae52-cce9f0659e78,\nType: automl,\nStatus: Completed)",
            "text/html": "<table style=\"width:100%\"><tr><th>Experiment</th><th>Id</th><th>Type</th><th>Status</th><th>Details Page</th><th>Docs Page</th></tr><tr><td>parkinson_exp</td><td>AutoML_3c6f2b66-dc70-468b-ae52-cce9f0659e78</td><td>automl</td><td>Completed</td><td><a href=\"https://ml.azure.com/runs/AutoML_3c6f2b66-dc70-468b-ae52-cce9f0659e78?wsid=/subscriptions/610d6e37-4747-4a20-80eb-3aad70a55f43/resourcegroups/aml-quickstarts-259743/workspaces/quick-starts-ws-259743&amp;tid=660b3398-b80e-49d2-bc5b-ac1dc93b5254\" target=\"_blank\" rel=\"noopener\">Link to Azure Machine Learning studio</a></td><td><a href=\"https://docs.microsoft.com/en-us/python/api/overview/azure/ml/intro?view=azure-ml-py\" target=\"_blank\" rel=\"noopener\">Link to Documentation</a></td></tr></table>"
          },
          "metadata": {}
        }
      ],
      "execution_count": 10,
      "metadata": {
        "gather": {
          "logged": 1716779852780
        },
        "jupyter": {
          "outputs_hidden": false,
          "source_hidden": false
        },
        "nteract": {
          "transient": {
            "deleting": false
          }
        }
      }
    },
    {
      "cell_type": "markdown",
      "source": [
        "## Best Model\n",
        "\n",
        "TODO: In the cell below, get the best model from the automl experiments and display all the properties of the model.\n",
        "\n"
      ],
      "metadata": {}
    },
    {
      "cell_type": "code",
      "source": [
        "best_run,fitted_model=remote_run.get_output()\n",
        "remote_run.get_metrics()"
      ],
      "outputs": [
        {
          "output_type": "stream",
          "name": "stderr",
          "text": "WARNING:root:The version of the SDK does not match the version the model was trained on.\nWARNING:root:The consistency in the result may not be guaranteed.\nWARNING:root:Package:azureml-automl-core, training version:1.52.0.post1, current version:1.51.0.post1\nPackage:azureml-automl-runtime, training version:1.52.0.post1, current version:1.51.0.post1\nPackage:azureml-core, training version:1.52.0, current version:1.51.0\nPackage:azureml-dataprep, training version:4.11.4, current version:4.10.8\nPackage:azureml-dataprep-rslex, training version:2.18.4, current version:2.17.12\nPackage:azureml-dataset-runtime, training version:1.52.0, current version:1.51.0\nPackage:azureml-defaults, training version:1.52.0, current version:1.51.0\nPackage:azureml-interpret, training version:1.52.0, current version:1.51.0\nPackage:azureml-mlflow, training version:1.52.0, current version:1.51.0\nPackage:azureml-pipeline-core, training version:1.52.0, current version:1.51.0\nPackage:azureml-responsibleai, training version:1.52.0, current version:1.51.0\nPackage:azureml-telemetry, training version:1.52.0, current version:1.51.0\nPackage:azureml-train-automl-client, training version:1.52.0, current version:1.51.0.post1\nPackage:azureml-train-automl-runtime, training version:1.52.0, current version:1.51.0.post2\nPackage:azureml-train-core, training version:1.52.0, current version:1.51.0\nPackage:azureml-train-restclients-hyperdrive, training version:1.52.0, current version:1.51.0\nPackage:azureml-training-tabular, training version:1.52.0, current version:1.51.0.post1\nWARNING:root:Please ensure the version of your local conda dependencies match the version on which your model was trained in order to properly retrieve your model.\n"
        },
        {
          "output_type": "execute_result",
          "execution_count": 11,
          "data": {
            "text/plain": "{'experiment_status': ['DatasetEvaluation',\n  'FeaturesGeneration',\n  'DatasetFeaturization',\n  'DatasetFeaturizationCompleted',\n  'DatasetCrossValidationSplit',\n  'ModelSelection'],\n 'experiment_status_description': ['Gathering dataset statistics.',\n  'Generating features for the dataset.',\n  'Beginning to fit featurizers and featurize the dataset.',\n  'Completed fit featurizers and featurizing the dataset.',\n  'Generating individually featurized CV splits.',\n  'Beginning model selection.'],\n 'spearman_correlation': 0.9907194414860893,\n 'median_absolute_error': 0.47593640725069086,\n 'normalized_root_mean_squared_error': 0.03183948096961007,\n 'normalized_median_absolute_error': 0.00991699465016442,\n 'normalized_mean_absolute_error': 0.017241633327948754,\n 'explained_variance': 0.9795978557933201,\n 'normalized_root_mean_squared_log_error': 0.0414364261602957,\n 'root_mean_squared_error': 1.5280403706935262,\n 'root_mean_squared_log_error': 0.08062564229358808,\n 'r2_score': 0.979545757141314,\n 'mean_absolute_percentage_error': 3.941642908829694,\n 'mean_absolute_error': 0.8274604666749165}"
          },
          "metadata": {}
        }
      ],
      "execution_count": 11,
      "metadata": {
        "gather": {
          "logged": 1716779877780
        },
        "jupyter": {
          "outputs_hidden": false,
          "source_hidden": false
        },
        "nteract": {
          "transient": {
            "deleting": false
          }
        }
      }
    },
    {
      "cell_type": "code",
      "source": [
        "print(best_run)"
      ],
      "outputs": [
        {
          "output_type": "stream",
          "name": "stdout",
          "text": "Run(Experiment: parkinson_exp,\nId: AutoML_3c6f2b66-dc70-468b-ae52-cce9f0659e78_39,\nType: azureml.scriptrun,\nStatus: Completed)\n"
        }
      ],
      "execution_count": 12,
      "metadata": {
        "jupyter": {
          "source_hidden": false,
          "outputs_hidden": false
        },
        "nteract": {
          "transient": {
            "deleting": false
          }
        },
        "gather": {
          "logged": 1716779878016
        }
      }
    },
    {
      "cell_type": "code",
      "source": [
        "print(fitted_model)"
      ],
      "outputs": [
        {
          "output_type": "stream",
          "name": "stdout",
          "text": "RegressionPipeline(pipeline=Pipeline(memory=None,\n                                     steps=[('datatransformer',\n                                             DataTransformer(enable_dnn=False, enable_feature_sweeping=True, feature_sweeping_config={}, feature_sweeping_timeout=86400, featurization_config=None, force_text_dnn=False, is_cross_validation=True, is_onnx_compatible=False, observer=None, task='regression', working_dir='/mnt/batch/ta...\n                                             StackEnsembleRegressor(base_learners=[('1', Pipeline(memory=None, steps=[('maxabsscaler', MaxAbsScaler(copy=True)), ('xgboostregressor', XGBoostRegressor(n_jobs=1, problem_info=ProblemInfo(gpu_training_param_dict={'processing_unit_type': 'cpu'}), random_state=0, tree_method='auto'))], verbose=False)), ('14', Pipeline(memory=None, steps=[('standardscalerwrapper', StandardScalerWrapper(copy=True, with_mean=False, with_std=False)), ('xgboostregressor', XGBoostRegressor(booster='gbtree', colsample_bytree=1, eta=0.5, gamma=0, max_depth=9, max_leaves=0, n_estimators=100, n_jobs=1, objective='reg:linear', problem_info=ProblemInfo(gpu_training_param_dict={'processing_unit_type': 'cpu'}), random_state=0, reg_alpha=0, reg_lambda=2.3958333333333335, subsample=0.9, tree_method='auto'))], verbose=False)), ('0', Pipeline(memory=None, steps=[('maxabsscaler', MaxAbsScaler(copy=True)), ('lightgbmregressor', LightGBMRegressor(min_data_in_leaf=20, n_jobs=1, problem_info=ProblemInfo(gpu_training_param_dict={'processing_unit_type': 'cpu'}), random_state=None))], verbose=False)), ('18', Pipeline(memory=None, steps=[('standardscalerwrapper', StandardScalerWrapper(copy=True, with_mean=False, with_std=False)), ('xgboostregressor', XGBoostRegressor(booster='gbtree', colsample_bytree=0.9, eta=0.4, gamma=0.1, max_depth=6, max_leaves=63, n_estimators=50, n_jobs=1, objective='reg:linear', problem_info=ProblemInfo(gpu_training_param_dict={'processing_unit_type': 'cpu'}), random_state=0, reg_alpha=0, reg_lambda=1.5625, subsample=0.6, tree_method='auto'))], verbose=False)), ('9', Pipeline(memory=None, steps=[('sparsenormalizer', Normalizer(copy=True, norm='l2')), ('xgboostregressor', XGBoostRegressor(booster='gbtree', colsample_bytree=0.9, eta=0.3, max_depth=4, max_leaves=0, n_estimators=100, n_jobs=1, objective='reg:linear', problem_info=ProblemInfo(gpu_training_param_dict={'processing_unit_type': 'cpu'}), random_state=0, reg_alpha=0.9375, reg_lambda=1.1458333333333335, subsample=0.5, tree_method='auto'))], verbose=False)), ('28', Pipeline(memory=None, steps=[('standardscalerwrapper', StandardScalerWrapper(copy=True, with_mean=False, with_std=True)), ('decisiontreeregressor', DecisionTreeRegressor(ccp_alpha=0.0, criterion='friedman_mse', max_depth=None, max_features=None, max_leaf_nodes=None, min_impurity_decrease=0.0, min_impurity_split=None, min_samples_leaf=0.001953125, min_samples_split=0.002602463309528381, min_weight_fraction_leaf=0.0, presort='deprecated', random_state=None, splitter='best'))], verbose=False)), ('12', Pipeline(memory=None, steps=[('sparsenormalizer', Normalizer(copy=True, norm='l1')), ('xgboostregressor', XGBoostRegressor(booster='gbtree', colsample_bytree=0.9, eta=0.5, gamma=0.1, max_depth=10, max_leaves=255, n_estimators=600, n_jobs=1, objective='reg:linear', problem_info=ProblemInfo(gpu_training_param_dict={'processing_unit_type': 'cpu'}), random_state=0, reg_alpha=0.7291666666666667, reg_lambda=1.3541666666666667, subsample=0.5, tree_method='auto'))], verbose=False))], meta_learner=ElasticNetCV(alphas=None, copy_X=True, cv=None, eps=0.001, fit_intercept=True, l1_ratio=0.5, max_iter=1000, n_alphas=100, n_jobs=None, normalize=False, positive=False, precompute='auto', random_state=None, selection='cyclic', tol=0.0001, verbose=0), training_cv_folds=5))],\n                                     verbose=False),\n                   stddev=[1.5320874900522135])\n"
        }
      ],
      "execution_count": 13,
      "metadata": {
        "jupyter": {
          "source_hidden": false,
          "outputs_hidden": false
        },
        "nteract": {
          "transient": {
            "deleting": false
          }
        },
        "gather": {
          "logged": 1716779878234
        }
      }
    },
    {
      "cell_type": "markdown",
      "source": [
        "## Model Deployment\n",
        "\n",
        "Remember you have to deploy only one of the two models you trained but you still need to register both the models. Perform the steps in the rest of this notebook only if you wish to deploy this model.\n",
        "\n",
        "TODO: In the cell below, register the model, create an inference config and deploy the model as a web service."
      ],
      "metadata": {}
    },
    {
      "cell_type": "code",
      "source": [
        "inference_folder_name = 'inference'\n",
        "automl_model = os.path.join(inference_folder_name, 'model.pkl')\n",
        "score_script = os.path.join(inference_folder_name, 'score.py')\n",
        "conda_env = os.path.join(inference_folder_name, 'conda_env.yml')\n",
        "best_run.download_file('outputs/model.pkl', automl_model)\n",
        "best_run.download_file('outputs/scoring_file_v_1_0_0.py', score_script)\n",
        "best_run.download_file('outputs/conda_env_v_1_0_0.yml', conda_env)"
      ],
      "outputs": [],
      "execution_count": 14,
      "metadata": {
        "gather": {
          "logged": 1716780093743
        },
        "jupyter": {
          "outputs_hidden": false,
          "source_hidden": false
        },
        "nteract": {
          "transient": {
            "deleting": false
          }
        }
      }
    },
    {
      "cell_type": "markdown",
      "source": [
        "TODO: In the cell below, send a request to the web service you deployed to test it."
      ],
      "metadata": {
        "collapsed": true,
        "gather": {
          "logged": 1598431657736
        },
        "jupyter": {
          "outputs_hidden": false,
          "source_hidden": false
        },
        "nteract": {
          "transient": {
            "deleting": false
          }
        }
      }
    },
    {
      "cell_type": "code",
      "source": [
        "import sklearn\n",
        "from azureml.core import Model \n",
        "model = Model.register(\n",
        "    workspace=ws,\n",
        "    model_name=\"Automl-Parkinson\",\n",
        "    model_path=automl_model,\n",
        "    model_framework=Model.Framework.SCIKITLEARN,\n",
        "    model_framework_version=sklearn.__version__,\n",
        "    description='Auto ML model for predicting total updrs Parkinson  '\n",
        "    )\n",
        "\n",
        "print('Name:', model.name)\n",
        "print('Version:', model.version)"
      ],
      "outputs": [
        {
          "output_type": "stream",
          "name": "stdout",
          "text": "Registering model Automl-Parkinson\nName: Automl-Parkinson\nVersion: 1\n"
        }
      ],
      "execution_count": 15,
      "metadata": {
        "gather": {
          "logged": 1716780099868
        },
        "jupyter": {
          "outputs_hidden": false,
          "source_hidden": false
        },
        "nteract": {
          "transient": {
            "deleting": false
          }
        }
      }
    },
    {
      "cell_type": "code",
      "source": [
        "from azureml.core.environment import Environment\n",
        "from azureml.core.experiment import Experiment\n",
        "from azureml.core.model import InferenceConfig\n",
        "from azureml.core.resource_configuration import ResourceConfiguration\n",
        "from azureml.core.webservice import AciWebservice\n",
        "env = Environment.from_conda_specification(name=\"env\", file_path=conda_env)\n",
        "inference_conf = InferenceConfig(entry_script=score_script, environment=env)\n",
        "\n",
        "# Display the environment file\n",
        "with open(conda_env, 'r') as file:\n",
        "    env_file = file.read()\n",
        "    print(env_file)"
      ],
      "outputs": [
        {
          "output_type": "stream",
          "name": "stdout",
          "text": "# Conda environment specification. The dependencies defined in this file will\n# be automatically provisioned for runs with userManagedDependencies=False.\n\n# Details about the Conda environment file format:\n# https://conda.io/docs/user-guide/tasks/manage-environments.html#create-env-file-manually\n\nname: project_environment\ndependencies:\n  # The python interpreter version.\n  # Currently Azure ML only supports 3.8 and later.\n- python=3.8.17\n\n- pip:\n  - azureml-train-automl-runtime==1.52.0\n  - inference-schema\n  - azureml-interpret==1.52.0\n  - azureml-defaults==1.52.0\n- numpy==1.22.3\n- pandas==1.1.5\n- scikit-learn==0.22.1\n- py-xgboost==1.3.3\n- fbprophet==0.7.1\n- holidays==0.10.3\n- psutil==5.9.5\nchannels:\n- anaconda\n- conda-forge\n\n"
        }
      ],
      "execution_count": 17,
      "metadata": {
        "jupyter": {
          "source_hidden": false,
          "outputs_hidden": false
        },
        "nteract": {
          "transient": {
            "deleting": false
          }
        },
        "gather": {
          "logged": 1716780228173
        }
      }
    },
    {
      "cell_type": "markdown",
      "source": [
        "TODO: In the cell below, print the logs of the web service and delete the service"
      ],
      "metadata": {
        "collapsed": true,
        "gather": {
          "logged": 1598432765711
        },
        "jupyter": {
          "outputs_hidden": false,
          "source_hidden": false
        },
        "nteract": {
          "transient": {
            "deleting": false
          }
        }
      }
    },
    {
      "cell_type": "code",
      "source": [
        "deployment_conf = AciWebservice.deploy_configuration(\n",
        "    cpu_cores=1,\n",
        "    memory_gb=1,\n",
        "    description='Predicting total updrs for parkinson diseases',\n",
        "    enable_app_insights=True)\n",
        "\n",
        "# Deploy model as webservice using Azure Container Instance (ACI)\n",
        "service_name = \"parkinson-predict\"\n",
        "\n",
        "service = Model.deploy(\n",
        "    workspace=ws,\n",
        "    name=service_name, \n",
        "    models=[model], \n",
        "    inference_config=inference_conf, \n",
        "    deployment_config=deployment_conf, \n",
        "    overwrite=True)\n",
        "\n",
        "service.wait_for_deployment(show_output=True)\n",
        "\n",
        "print(service.state)"
      ],
      "outputs": [
        {
          "output_type": "stream",
          "name": "stdout",
          "text": "Tips: You can try get_logs(): https://aka.ms/debugimage#dockerlog or local deployment: https://aka.ms/debugimage#debug-locally to debug if deployment takes longer than 10 minutes.\nRunning\n2024-05-27 03:23:56+00:00 Creating Container Registry if not exists.\n2024-05-27 03:23:56+00:00 Registering the environment.\n2024-05-27 03:23:57+00:00 Building image."
        },
        {
          "output_type": "error",
          "ename": "KeyboardInterrupt",
          "evalue": "",
          "traceback": [
            "\u001b[0;31m---------------------------------------------------------------------------\u001b[0m",
            "\u001b[0;31mKeyboardInterrupt\u001b[0m                         Traceback (most recent call last)",
            "Cell \u001b[0;32mIn[18], line 18\u001b[0m\n\u001b[1;32m      8\u001b[0m service_name \u001b[38;5;241m=\u001b[39m \u001b[38;5;124m\"\u001b[39m\u001b[38;5;124mparkinson-predict\u001b[39m\u001b[38;5;124m\"\u001b[39m\n\u001b[1;32m     10\u001b[0m service \u001b[38;5;241m=\u001b[39m Model\u001b[38;5;241m.\u001b[39mdeploy(\n\u001b[1;32m     11\u001b[0m     workspace\u001b[38;5;241m=\u001b[39mws,\n\u001b[1;32m     12\u001b[0m     name\u001b[38;5;241m=\u001b[39mservice_name, \n\u001b[0;32m   (...)\u001b[0m\n\u001b[1;32m     15\u001b[0m     deployment_config\u001b[38;5;241m=\u001b[39mdeployment_conf, \n\u001b[1;32m     16\u001b[0m     overwrite\u001b[38;5;241m=\u001b[39m\u001b[38;5;28;01mTrue\u001b[39;00m)\n\u001b[0;32m---> 18\u001b[0m \u001b[43mservice\u001b[49m\u001b[38;5;241;43m.\u001b[39;49m\u001b[43mwait_for_deployment\u001b[49m\u001b[43m(\u001b[49m\u001b[43mshow_output\u001b[49m\u001b[38;5;241;43m=\u001b[39;49m\u001b[38;5;28;43;01mTrue\u001b[39;49;00m\u001b[43m)\u001b[49m\n\u001b[1;32m     20\u001b[0m \u001b[38;5;28mprint\u001b[39m(service\u001b[38;5;241m.\u001b[39mstate)\n",
            "File \u001b[0;32m/anaconda/envs/azureml_py38/lib/python3.8/site-packages/azureml/core/webservice/webservice.py:894\u001b[0m, in \u001b[0;36mWebservice.wait_for_deployment\u001b[0;34m(self, show_output, timeout_sec)\u001b[0m\n\u001b[1;32m    891\u001b[0m     timeout_sec \u001b[38;5;241m=\u001b[39m \u001b[38;5;28mfloat\u001b[39m(timeout_sec)\n\u001b[1;32m    893\u001b[0m \u001b[38;5;28;01mtry\u001b[39;00m:\n\u001b[0;32m--> 894\u001b[0m     operation_state, error, operation \u001b[38;5;241m=\u001b[39m \u001b[38;5;28;43mself\u001b[39;49m\u001b[38;5;241;43m.\u001b[39;49m\u001b[43m_wait_for_operation_to_complete\u001b[49m\u001b[43m(\u001b[49m\u001b[43mshow_output\u001b[49m\u001b[43m,\u001b[49m\u001b[43m \u001b[49m\u001b[43mtimeout_sec\u001b[49m\u001b[43m)\u001b[49m\n\u001b[1;32m    895\u001b[0m     \u001b[38;5;28mself\u001b[39m\u001b[38;5;241m.\u001b[39mupdate_deployment_state()\n\u001b[1;32m    896\u001b[0m     \u001b[38;5;28;01mif\u001b[39;00m operation_state \u001b[38;5;241m!=\u001b[39m \u001b[38;5;124m'\u001b[39m\u001b[38;5;124mSucceeded\u001b[39m\u001b[38;5;124m'\u001b[39m:\n",
            "File \u001b[0;32m/anaconda/envs/azureml_py38/lib/python3.8/site-packages/azureml/core/webservice/webservice.py:960\u001b[0m, in \u001b[0;36mWebservice._wait_for_operation_to_complete\u001b[0;34m(self, show_output, timeout_sec)\u001b[0m\n\u001b[1;32m    955\u001b[0m     msg \u001b[38;5;241m=\u001b[39m \u001b[38;5;124m'\u001b[39m\u001b[38;5;124mDeployment polling exceeded timeout override of \u001b[39m\u001b[38;5;132;01m{}\u001b[39;00m\u001b[38;5;124ms. Current status: \u001b[39m\u001b[38;5;132;01m{}\u001b[39;00m\u001b[38;5;130;01m\\n\u001b[39;00m\u001b[38;5;124mDeployment may be \u001b[39m\u001b[38;5;130;01m\\\u001b[39;00m\n\u001b[1;32m    956\u001b[0m \u001b[38;5;124m        transitioning or unhealthy, use update_deployment_state() to fetch the latest status of \u001b[39m\u001b[38;5;130;01m\\\u001b[39;00m\n\u001b[1;32m    957\u001b[0m \u001b[38;5;124m            the webservice\u001b[39m\u001b[38;5;124m'\u001b[39m\u001b[38;5;241m.\u001b[39mformat(timeout_sec, current_state)\n\u001b[1;32m    958\u001b[0m     \u001b[38;5;28;01mraise\u001b[39;00m WebserviceException(msg, logger\u001b[38;5;241m=\u001b[39mmodule_logger)\n\u001b[0;32m--> 960\u001b[0m \u001b[43mtime\u001b[49m\u001b[38;5;241;43m.\u001b[39;49m\u001b[43msleep\u001b[49m\u001b[43m(\u001b[49m\u001b[38;5;241;43m5\u001b[39;49m\u001b[43m)\u001b[49m\n\u001b[1;32m    962\u001b[0m elapsed_time \u001b[38;5;241m=\u001b[39m time\u001b[38;5;241m.\u001b[39mtime() \u001b[38;5;241m-\u001b[39m start_time\n\u001b[1;32m    963\u001b[0m state, error, operation \u001b[38;5;241m=\u001b[39m \u001b[38;5;28mself\u001b[39m\u001b[38;5;241m.\u001b[39m_get_operation_state(show_output, streaming_log_offset)\n",
            "\u001b[0;31mKeyboardInterrupt\u001b[0m: "
          ]
        }
      ],
      "execution_count": 18,
      "metadata": {
        "jupyter": {
          "outputs_hidden": false,
          "source_hidden": false
        },
        "nteract": {
          "transient": {
            "deleting": false
          }
        },
        "gather": {
          "logged": 1716781757126
        }
      }
    },
    {
      "cell_type": "code",
      "source": [],
      "outputs": [],
      "execution_count": null,
      "metadata": {
        "jupyter": {
          "source_hidden": false,
          "outputs_hidden": false
        },
        "nteract": {
          "transient": {
            "deleting": false
          }
        }
      }
    },
    {
      "cell_type": "code",
      "source": [
        "ws = Workspace.from_config()\n",
        "key='parkinson-data-v2'\n",
        "ds = ws.datasets[key]\n",
        "df=ds.to_pandas_dataframe()\n",
        "df.drop(columns='total_UPDRS').head(3).to_json(orient='records')"
      ],
      "outputs": [
        {
          "output_type": "error",
          "ename": "KeyboardInterrupt",
          "evalue": "",
          "traceback": [
            "\u001b[0;31m---------------------------------------------------------------------------\u001b[0m",
            "\u001b[0;31mKeyboardInterrupt\u001b[0m                         Traceback (most recent call last)",
            "Cell \u001b[0;32mIn[21], line 3\u001b[0m\n\u001b[1;32m      1\u001b[0m ws \u001b[38;5;241m=\u001b[39m Workspace\u001b[38;5;241m.\u001b[39mfrom_config()\n\u001b[1;32m      2\u001b[0m key\u001b[38;5;241m=\u001b[39m\u001b[38;5;124m'\u001b[39m\u001b[38;5;124mparkinson-data-v2\u001b[39m\u001b[38;5;124m'\u001b[39m\n\u001b[0;32m----> 3\u001b[0m ds \u001b[38;5;241m=\u001b[39m \u001b[43mws\u001b[49m\u001b[38;5;241;43m.\u001b[39;49m\u001b[43mdatasets\u001b[49m\u001b[43m[\u001b[49m\u001b[43mkey\u001b[49m\u001b[43m]\u001b[49m\n\u001b[1;32m      4\u001b[0m df\u001b[38;5;241m=\u001b[39mds\u001b[38;5;241m.\u001b[39mto_pandas_dataframe()\n\u001b[1;32m      5\u001b[0m df\u001b[38;5;241m.\u001b[39mdrop(columns\u001b[38;5;241m=\u001b[39m\u001b[38;5;124m'\u001b[39m\u001b[38;5;124mtotal_UPDRS\u001b[39m\u001b[38;5;124m'\u001b[39m)\u001b[38;5;241m.\u001b[39mhead(\u001b[38;5;241m3\u001b[39m)\u001b[38;5;241m.\u001b[39mto_json(orient\u001b[38;5;241m=\u001b[39m\u001b[38;5;124m'\u001b[39m\u001b[38;5;124mrecords\u001b[39m\u001b[38;5;124m'\u001b[39m)\n",
            "File \u001b[0;32m/anaconda/envs/azureml_py38/lib/python3.8/site-packages/azureml/data/abstract_dataset.py:1208\u001b[0m, in \u001b[0;36m_DatasetDict.__getitem__\u001b[0;34m(self, key)\u001b[0m\n\u001b[1;32m   1206\u001b[0m \u001b[38;5;28;01mif\u001b[39;00m key \u001b[38;5;129;01min\u001b[39;00m \u001b[38;5;28mself\u001b[39m\u001b[38;5;241m.\u001b[39m_getitem_cached:\n\u001b[1;32m   1207\u001b[0m     \u001b[38;5;28;01mreturn\u001b[39;00m \u001b[38;5;28mself\u001b[39m\u001b[38;5;241m.\u001b[39m_getitem_cached[key]\n\u001b[0;32m-> 1208\u001b[0m result \u001b[38;5;241m=\u001b[39m \u001b[38;5;28;43mself\u001b[39;49m\u001b[38;5;241;43m.\u001b[39;49m\u001b[43m_get_fn\u001b[49m\u001b[43m(\u001b[49m\u001b[43mname\u001b[49m\u001b[38;5;241;43m=\u001b[39;49m\u001b[43mkey\u001b[49m\u001b[43m)\u001b[49m\n\u001b[1;32m   1209\u001b[0m \u001b[38;5;28;01mif\u001b[39;00m result \u001b[38;5;129;01mis\u001b[39;00m \u001b[38;5;28;01mNone\u001b[39;00m:\n\u001b[1;32m   1210\u001b[0m     \u001b[38;5;28;01mraise\u001b[39;00m \u001b[38;5;167;01mKeyError\u001b[39;00m(key)\n",
            "File \u001b[0;32m/anaconda/envs/azureml_py38/lib/python3.8/site-packages/azureml/data/abstract_dataset.py:138\u001b[0m, in \u001b[0;36mAbstractDataset.get_all.<locals>.get_dataset\u001b[0;34m(name)\u001b[0m\n\u001b[1;32m    136\u001b[0m \u001b[38;5;28;01mdef\u001b[39;00m \u001b[38;5;21mget_dataset\u001b[39m(name):\n\u001b[1;32m    137\u001b[0m     \u001b[38;5;28;01mtry\u001b[39;00m:\n\u001b[0;32m--> 138\u001b[0m         \u001b[38;5;28;01mreturn\u001b[39;00m \u001b[43mAbstractDataset\u001b[49m\u001b[38;5;241;43m.\u001b[39;49m\u001b[43mget_by_name\u001b[49m\u001b[43m(\u001b[49m\u001b[43mworkspace\u001b[49m\u001b[43m,\u001b[49m\u001b[43m \u001b[49m\u001b[43mname\u001b[49m\u001b[43m)\u001b[49m\n\u001b[1;32m    139\u001b[0m     \u001b[38;5;28;01mexcept\u001b[39;00m \u001b[38;5;167;01mException\u001b[39;00m:\n\u001b[1;32m    140\u001b[0m         \u001b[38;5;28;01mreturn\u001b[39;00m \u001b[38;5;28;01mNone\u001b[39;00m\n",
            "File \u001b[0;32m/anaconda/envs/azureml_py38/lib/python3.8/site-packages/azureml/data/_loggerfactory.py:132\u001b[0m, in \u001b[0;36mtrack.<locals>.monitor.<locals>.wrapper\u001b[0;34m(*args, **kwargs)\u001b[0m\n\u001b[1;32m    130\u001b[0m \u001b[38;5;28;01mwith\u001b[39;00m _LoggerFactory\u001b[38;5;241m.\u001b[39mtrack_activity(logger, func\u001b[38;5;241m.\u001b[39m\u001b[38;5;18m__name__\u001b[39m, activity_type, custom_dimensions) \u001b[38;5;28;01mas\u001b[39;00m al:\n\u001b[1;32m    131\u001b[0m     \u001b[38;5;28;01mtry\u001b[39;00m:\n\u001b[0;32m--> 132\u001b[0m         \u001b[38;5;28;01mreturn\u001b[39;00m \u001b[43mfunc\u001b[49m\u001b[43m(\u001b[49m\u001b[38;5;241;43m*\u001b[39;49m\u001b[43margs\u001b[49m\u001b[43m,\u001b[49m\u001b[43m \u001b[49m\u001b[38;5;241;43m*\u001b[39;49m\u001b[38;5;241;43m*\u001b[39;49m\u001b[43mkwargs\u001b[49m\u001b[43m)\u001b[49m\n\u001b[1;32m    133\u001b[0m     \u001b[38;5;28;01mexcept\u001b[39;00m \u001b[38;5;167;01mException\u001b[39;00m \u001b[38;5;28;01mas\u001b[39;00m e:\n\u001b[1;32m    134\u001b[0m         \u001b[38;5;28;01mif\u001b[39;00m \u001b[38;5;28mhasattr\u001b[39m(al, \u001b[38;5;124m'\u001b[39m\u001b[38;5;124mactivity_info\u001b[39m\u001b[38;5;124m'\u001b[39m) \u001b[38;5;129;01mand\u001b[39;00m \u001b[38;5;28mhasattr\u001b[39m(e, \u001b[38;5;124m'\u001b[39m\u001b[38;5;124merror_code\u001b[39m\u001b[38;5;124m'\u001b[39m):\n",
            "File \u001b[0;32m/anaconda/envs/azureml_py38/lib/python3.8/site-packages/azureml/data/abstract_dataset.py:94\u001b[0m, in \u001b[0;36mAbstractDataset.get_by_name\u001b[0;34m(workspace, name, version)\u001b[0m\n\u001b[1;32m     80\u001b[0m \u001b[38;5;129m@staticmethod\u001b[39m\n\u001b[1;32m     81\u001b[0m \u001b[38;5;129m@track\u001b[39m(_get_logger, activity_type\u001b[38;5;241m=\u001b[39m_PUBLIC_API)\n\u001b[1;32m     82\u001b[0m \u001b[38;5;28;01mdef\u001b[39;00m \u001b[38;5;21mget_by_name\u001b[39m(workspace, name, version\u001b[38;5;241m=\u001b[39m\u001b[38;5;124m'\u001b[39m\u001b[38;5;124mlatest\u001b[39m\u001b[38;5;124m'\u001b[39m):\n\u001b[1;32m     83\u001b[0m \u001b[38;5;250m    \u001b[39m\u001b[38;5;124;03m\"\"\"Get a registered Dataset from workspace by its registration name.\u001b[39;00m\n\u001b[1;32m     84\u001b[0m \n\u001b[1;32m     85\u001b[0m \u001b[38;5;124;03m    :param workspace: The existing AzureML workspace in which the Dataset was registered.\u001b[39;00m\n\u001b[0;32m   (...)\u001b[0m\n\u001b[1;32m     92\u001b[0m \u001b[38;5;124;03m    :rtype: typing.Union[azureml.data.TabularDataset, azureml.data.FileDataset]\u001b[39;00m\n\u001b[1;32m     93\u001b[0m \u001b[38;5;124;03m    \"\"\"\u001b[39;00m\n\u001b[0;32m---> 94\u001b[0m     dataset \u001b[38;5;241m=\u001b[39m \u001b[43mAbstractDataset\u001b[49m\u001b[38;5;241;43m.\u001b[39;49m\u001b[43m_get_by_name\u001b[49m\u001b[43m(\u001b[49m\u001b[43mworkspace\u001b[49m\u001b[43m,\u001b[49m\u001b[43m \u001b[49m\u001b[43mname\u001b[49m\u001b[43m,\u001b[49m\u001b[43m \u001b[49m\u001b[43mversion\u001b[49m\u001b[43m)\u001b[49m\n\u001b[1;32m     95\u001b[0m     AbstractDataset\u001b[38;5;241m.\u001b[39m_track_lineage([dataset])\n\u001b[1;32m     96\u001b[0m     \u001b[38;5;28;01mreturn\u001b[39;00m dataset\n",
            "File \u001b[0;32m/anaconda/envs/azureml_py38/lib/python3.8/site-packages/azureml/data/abstract_dataset.py:951\u001b[0m, in \u001b[0;36mAbstractDataset._get_by_name\u001b[0;34m(workspace, name, version)\u001b[0m\n\u001b[1;32m    946\u001b[0m         _get_logger()\u001b[38;5;241m.\u001b[39mwarning(\u001b[38;5;124m'\u001b[39m\u001b[38;5;124mTried to retrieve v2 data asset but could not find v2 data asset\u001b[39m\u001b[38;5;124m'\u001b[39m\n\u001b[1;32m    947\u001b[0m                               \u001b[38;5;124m'\u001b[39m\u001b[38;5;124mregistered with name \u001b[39m\u001b[38;5;124m\"\u001b[39m\u001b[38;5;132;01m{}\u001b[39;00m\u001b[38;5;124m\"\u001b[39m\u001b[38;5;132;01m{}\u001b[39;00m\u001b[38;5;124m in the workspace.\u001b[39m\u001b[38;5;124m'\u001b[39m\n\u001b[1;32m    948\u001b[0m                               \u001b[38;5;241m.\u001b[39mformat(name, \u001b[38;5;124m'\u001b[39m\u001b[38;5;124m'\u001b[39m \u001b[38;5;28;01mif\u001b[39;00m version \u001b[38;5;241m==\u001b[39m \u001b[38;5;124m'\u001b[39m\u001b[38;5;124mlatest\u001b[39m\u001b[38;5;124m'\u001b[39m \u001b[38;5;28;01melse\u001b[39;00m \u001b[38;5;124m'\u001b[39m\u001b[38;5;124m (version: \u001b[39m\u001b[38;5;132;01m{}\u001b[39;00m\u001b[38;5;124m)\u001b[39m\u001b[38;5;124m'\u001b[39m\u001b[38;5;241m.\u001b[39mformat(version)))\n\u001b[1;32m    949\u001b[0m     \u001b[38;5;28;01mraise\u001b[39;00m result\n\u001b[0;32m--> 951\u001b[0m dataset \u001b[38;5;241m=\u001b[39m \u001b[43m_dto_to_dataset\u001b[49m\u001b[43m(\u001b[49m\u001b[43mworkspace\u001b[49m\u001b[43m,\u001b[49m\u001b[43m \u001b[49m\u001b[43mresult\u001b[49m\u001b[43m)\u001b[49m\n\u001b[1;32m    952\u001b[0m warn_deprecated_blocks(dataset)\n\u001b[1;32m    953\u001b[0m \u001b[38;5;28;01mreturn\u001b[39;00m dataset\n",
            "File \u001b[0;32m/anaconda/envs/azureml_py38/lib/python3.8/site-packages/azureml/data/_dataset_rest_helper.py:95\u001b[0m, in \u001b[0;36m_dto_to_dataset\u001b[0;34m(workspace, dto)\u001b[0m\n\u001b[1;32m     92\u001b[0m     dataset \u001b[38;5;241m=\u001b[39m FileDatasetFactory\u001b[38;5;241m.\u001b[39mfrom_files((store, data_path\u001b[38;5;241m.\u001b[39mrelative_path))\n\u001b[1;32m     93\u001b[0m     dataset\u001b[38;5;241m.\u001b[39m_registration \u001b[38;5;241m=\u001b[39m registration\n\u001b[0;32m---> 95\u001b[0m \u001b[38;5;28;01mreturn\u001b[39;00m \u001b[43m_init_dataset\u001b[49m\u001b[43m(\u001b[49m\u001b[43mworkspace\u001b[49m\u001b[38;5;241;43m=\u001b[39;49m\u001b[43mworkspace\u001b[49m\u001b[43m,\u001b[49m\n\u001b[1;32m     96\u001b[0m \u001b[43m                     \u001b[49m\u001b[43mdataset_type\u001b[49m\u001b[38;5;241;43m=\u001b[39;49m\u001b[43mdto\u001b[49m\u001b[38;5;241;43m.\u001b[39;49m\u001b[43mdataset_type\u001b[49m\u001b[43m,\u001b[49m\n\u001b[1;32m     97\u001b[0m \u001b[43m                     \u001b[49m\u001b[43mdataflow_json\u001b[49m\u001b[38;5;241;43m=\u001b[39;49m\u001b[43mdataflow_json\u001b[49m\u001b[43m,\u001b[49m\n\u001b[1;32m     98\u001b[0m \u001b[43m                     \u001b[49m\u001b[43mproperties\u001b[49m\u001b[38;5;241;43m=\u001b[39;49m\u001b[43mdto\u001b[49m\u001b[38;5;241;43m.\u001b[39;49m\u001b[43mlatest\u001b[49m\u001b[38;5;241;43m.\u001b[39;49m\u001b[43mproperties\u001b[49m\u001b[43m,\u001b[49m\n\u001b[1;32m     99\u001b[0m \u001b[43m                     \u001b[49m\u001b[43mregistration\u001b[49m\u001b[38;5;241;43m=\u001b[39;49m\u001b[43mregistration\u001b[49m\u001b[43m,\u001b[49m\n\u001b[1;32m    100\u001b[0m \u001b[43m                     \u001b[49m\u001b[43mdataset\u001b[49m\u001b[38;5;241;43m=\u001b[39;49m\u001b[43mdataset\u001b[49m\u001b[43m)\u001b[49m\n",
            "File \u001b[0;32m/anaconda/envs/azureml_py38/lib/python3.8/site-packages/azureml/data/_dataset_rest_helper.py:143\u001b[0m, in \u001b[0;36m_init_dataset\u001b[0;34m(workspace, dataset_type, dataflow_json, properties, registration, dataset)\u001b[0m\n\u001b[1;32m    141\u001b[0m fetch_id \u001b[38;5;241m=\u001b[39m \u001b[38;5;124m'\u001b[39m\u001b[38;5;124munregistered-\u001b[39m\u001b[38;5;124m'\u001b[39m \u001b[38;5;241m+\u001b[39m registration\u001b[38;5;241m.\u001b[39msaved_id\n\u001b[1;32m    142\u001b[0m \u001b[38;5;28;01mtry\u001b[39;00m:\n\u001b[0;32m--> 143\u001b[0m     \u001b[43mdataset\u001b[49m\u001b[38;5;241;43m.\u001b[39;49m\u001b[43m_dataflow\u001b[49m\u001b[38;5;241m.\u001b[39m_rs_dataflow_yaml \u001b[38;5;241m=\u001b[39m _fetch_rslex_dataflow_yaml(workspace, fetch_id)\n\u001b[1;32m    144\u001b[0m \u001b[38;5;28;01mexcept\u001b[39;00m \u001b[38;5;167;01mException\u001b[39;00m \u001b[38;5;28;01mas\u001b[39;00m e:\n\u001b[1;32m    145\u001b[0m     _get_logger()\u001b[38;5;241m.\u001b[39mwarning(\u001b[38;5;124mf\u001b[39m\u001b[38;5;124m'\u001b[39m\u001b[38;5;124mFailed to fetch RSLex YAML representation for dataset=\u001b[39m\u001b[38;5;132;01m{\u001b[39;00mfetch_id\u001b[38;5;132;01m}\u001b[39;00m\u001b[38;5;124m \u001b[39m\u001b[38;5;124m'\u001b[39m\n\u001b[1;32m    146\u001b[0m                           \u001b[38;5;124mf\u001b[39m\u001b[38;5;124m'\u001b[39m\u001b[38;5;124mfrom workspace=\u001b[39m\u001b[38;5;132;01m{\u001b[39;00mworkspace\u001b[38;5;132;01m}\u001b[39;00m\u001b[38;5;124m=, got error: \u001b[39m\u001b[38;5;130;01m\\'\u001b[39;00m\u001b[38;5;132;01m{\u001b[39;00me\u001b[38;5;132;01m}\u001b[39;00m\u001b[38;5;130;01m\\'\u001b[39;00m\u001b[38;5;124m'\u001b[39m)\n",
            "File \u001b[0;32m/anaconda/envs/azureml_py38/lib/python3.8/site-packages/azureml/data/_loggerfactory.py:132\u001b[0m, in \u001b[0;36mtrack.<locals>.monitor.<locals>.wrapper\u001b[0;34m(*args, **kwargs)\u001b[0m\n\u001b[1;32m    130\u001b[0m \u001b[38;5;28;01mwith\u001b[39;00m _LoggerFactory\u001b[38;5;241m.\u001b[39mtrack_activity(logger, func\u001b[38;5;241m.\u001b[39m\u001b[38;5;18m__name__\u001b[39m, activity_type, custom_dimensions) \u001b[38;5;28;01mas\u001b[39;00m al:\n\u001b[1;32m    131\u001b[0m     \u001b[38;5;28;01mtry\u001b[39;00m:\n\u001b[0;32m--> 132\u001b[0m         \u001b[38;5;28;01mreturn\u001b[39;00m \u001b[43mfunc\u001b[49m\u001b[43m(\u001b[49m\u001b[38;5;241;43m*\u001b[39;49m\u001b[43margs\u001b[49m\u001b[43m,\u001b[49m\u001b[43m \u001b[49m\u001b[38;5;241;43m*\u001b[39;49m\u001b[38;5;241;43m*\u001b[39;49m\u001b[43mkwargs\u001b[49m\u001b[43m)\u001b[49m\n\u001b[1;32m    133\u001b[0m     \u001b[38;5;28;01mexcept\u001b[39;00m \u001b[38;5;167;01mException\u001b[39;00m \u001b[38;5;28;01mas\u001b[39;00m e:\n\u001b[1;32m    134\u001b[0m         \u001b[38;5;28;01mif\u001b[39;00m \u001b[38;5;28mhasattr\u001b[39m(al, \u001b[38;5;124m'\u001b[39m\u001b[38;5;124mactivity_info\u001b[39m\u001b[38;5;124m'\u001b[39m) \u001b[38;5;129;01mand\u001b[39;00m \u001b[38;5;28mhasattr\u001b[39m(e, \u001b[38;5;124m'\u001b[39m\u001b[38;5;124merror_code\u001b[39m\u001b[38;5;124m'\u001b[39m):\n",
            "File \u001b[0;32m/anaconda/envs/azureml_py38/lib/python3.8/site-packages/azureml/data/abstract_dataset.py:222\u001b[0m, in \u001b[0;36mAbstractDataset._dataflow\u001b[0;34m(self)\u001b[0m\n\u001b[1;32m    220\u001b[0m     \u001b[38;5;28;01mraise\u001b[39;00m UserErrorException(\u001b[38;5;124m'\u001b[39m\u001b[38;5;124mDataset definition is missing. Please check how the dataset is created.\u001b[39m\u001b[38;5;124m'\u001b[39m)\n\u001b[1;32m    221\u001b[0m \u001b[38;5;28;01mif\u001b[39;00m \u001b[38;5;28mself\u001b[39m\u001b[38;5;241m.\u001b[39m_registration \u001b[38;5;129;01mand\u001b[39;00m \u001b[38;5;28mself\u001b[39m\u001b[38;5;241m.\u001b[39m_registration\u001b[38;5;241m.\u001b[39mworkspace:\n\u001b[0;32m--> 222\u001b[0m     \u001b[43mdataprep\u001b[49m\u001b[43m(\u001b[49m\u001b[43m)\u001b[49m\u001b[38;5;241;43m.\u001b[39;49m\u001b[43mapi\u001b[49m\u001b[38;5;241;43m.\u001b[39;49m\u001b[43m_datastore_helper\u001b[49m\u001b[38;5;241;43m.\u001b[39;49m\u001b[43m_set_auth_type\u001b[49m\u001b[43m(\u001b[49m\u001b[38;5;28;43mself\u001b[39;49m\u001b[38;5;241;43m.\u001b[39;49m\u001b[43m_registration\u001b[49m\u001b[38;5;241;43m.\u001b[39;49m\u001b[43mworkspace\u001b[49m\u001b[43m)\u001b[49m\n\u001b[1;32m    223\u001b[0m \u001b[38;5;28;01mif\u001b[39;00m \u001b[38;5;129;01mnot\u001b[39;00m \u001b[38;5;28misinstance\u001b[39m(\u001b[38;5;28mself\u001b[39m\u001b[38;5;241m.\u001b[39m_definition, dataprep()\u001b[38;5;241m.\u001b[39mDataflow):\n\u001b[1;32m    224\u001b[0m     \u001b[38;5;28;01mtry\u001b[39;00m:\n",
            "File \u001b[0;32m/anaconda/envs/azureml_py38/lib/python3.8/site-packages/azureml/dataprep/api/_datastore_helper.py:177\u001b[0m, in \u001b[0;36m_set_auth_type\u001b[0;34m(workspace)\u001b[0m\n\u001b[1;32m    174\u001b[0m     auth_type \u001b[38;5;241m=\u001b[39m AuthType\u001b[38;5;241m.\u001b[39mDERIVED\n\u001b[1;32m    176\u001b[0m auth_value \u001b[38;5;241m=\u001b[39m auth\n\u001b[0;32m--> 177\u001b[0m \u001b[43mget_engine_api\u001b[49m\u001b[43m(\u001b[49m\u001b[43m)\u001b[49m\u001b[38;5;241;43m.\u001b[39;49m\u001b[43mset_aml_auth\u001b[49m\u001b[43m(\u001b[49m\u001b[43mSetAmlAuthMessageArgument\u001b[49m\u001b[43m(\u001b[49m\u001b[43mauth_type\u001b[49m\u001b[43m,\u001b[49m\u001b[43m \u001b[49m\u001b[43mjson\u001b[49m\u001b[38;5;241;43m.\u001b[39;49m\u001b[43mdumps\u001b[49m\u001b[43m(\u001b[49m\u001b[43mauth_value\u001b[49m\u001b[43m)\u001b[49m\u001b[43m)\u001b[49m\u001b[43m)\u001b[49m\n",
            "File \u001b[0;32m/anaconda/envs/azureml_py38/lib/python3.8/site-packages/azureml/dataprep/api/_aml_helper.py:44\u001b[0m, in \u001b[0;36mupdate_aml_env_vars.<locals>.decorator.<locals>.wrapper\u001b[0;34m(op_code, message, cancellation_token)\u001b[0m\n\u001b[1;32m     42\u001b[0m \u001b[38;5;28;01mif\u001b[39;00m \u001b[38;5;28mlen\u001b[39m(changed) \u001b[38;5;241m>\u001b[39m \u001b[38;5;241m0\u001b[39m:\n\u001b[1;32m     43\u001b[0m     engine_api_func()\u001b[38;5;241m.\u001b[39mupdate_environment_variable(changed)\n\u001b[0;32m---> 44\u001b[0m \u001b[38;5;28;01mreturn\u001b[39;00m \u001b[43msend_message_func\u001b[49m\u001b[43m(\u001b[49m\u001b[43mop_code\u001b[49m\u001b[43m,\u001b[49m\u001b[43m \u001b[49m\u001b[43mmessage\u001b[49m\u001b[43m,\u001b[49m\u001b[43m \u001b[49m\u001b[43mcancellation_token\u001b[49m\u001b[43m)\u001b[49m\n",
            "File \u001b[0;32m/anaconda/envs/azureml_py38/lib/python3.8/site-packages/azureml/dataprep/api/engineapi/api.py:294\u001b[0m, in \u001b[0;36mEngineAPI.set_aml_auth\u001b[0;34m(self, message_args, cancellation_token)\u001b[0m\n\u001b[1;32m    292\u001b[0m \u001b[38;5;129m@update_aml_env_vars\u001b[39m(get_engine_api)\n\u001b[1;32m    293\u001b[0m \u001b[38;5;28;01mdef\u001b[39;00m \u001b[38;5;21mset_aml_auth\u001b[39m(\u001b[38;5;28mself\u001b[39m, message_args: typedefinitions\u001b[38;5;241m.\u001b[39mSetAmlAuthMessageArgument, cancellation_token: CancellationToken \u001b[38;5;241m=\u001b[39m \u001b[38;5;28;01mNone\u001b[39;00m) \u001b[38;5;241m-\u001b[39m\u001b[38;5;241m>\u001b[39m \u001b[38;5;28;01mNone\u001b[39;00m:\n\u001b[0;32m--> 294\u001b[0m     response \u001b[38;5;241m=\u001b[39m \u001b[38;5;28;43mself\u001b[39;49m\u001b[38;5;241;43m.\u001b[39;49m\u001b[43m_message_channel\u001b[49m\u001b[38;5;241;43m.\u001b[39;49m\u001b[43msend_message\u001b[49m\u001b[43m(\u001b[49m\u001b[38;5;124;43m'\u001b[39;49m\u001b[38;5;124;43mEngine.SetAmlAuth\u001b[39;49m\u001b[38;5;124;43m'\u001b[39;49m\u001b[43m,\u001b[49m\u001b[43m \u001b[49m\u001b[43mmessage_args\u001b[49m\u001b[43m,\u001b[49m\u001b[43m \u001b[49m\u001b[43mcancellation_token\u001b[49m\u001b[43m)\u001b[49m\n\u001b[1;32m    295\u001b[0m     \u001b[38;5;28;01mreturn\u001b[39;00m response\n",
            "File \u001b[0;32m/anaconda/envs/azureml_py38/lib/python3.8/site-packages/azureml/dataprep/api/engineapi/engine.py:271\u001b[0m, in \u001b[0;36mMultiThreadMessageChannel.send_message\u001b[0;34m(self, op_code, message, cancellation_token)\u001b[0m\n\u001b[1;32m    264\u001b[0m     \u001b[38;5;28mself\u001b[39m\u001b[38;5;241m.\u001b[39m_pending_messages[message_id] \u001b[38;5;241m=\u001b[39m {\u001b[38;5;124m'\u001b[39m\u001b[38;5;124mevent\u001b[39m\u001b[38;5;124m'\u001b[39m: event, \u001b[38;5;124m'\u001b[39m\u001b[38;5;124mresponse\u001b[39m\u001b[38;5;124m'\u001b[39m: \u001b[38;5;28;01mNone\u001b[39;00m}\n\u001b[1;32m    265\u001b[0m \u001b[38;5;28mself\u001b[39m\u001b[38;5;241m.\u001b[39m_write_line(json\u001b[38;5;241m.\u001b[39mdumps({\n\u001b[1;32m    266\u001b[0m     \u001b[38;5;124m'\u001b[39m\u001b[38;5;124mmessageId\u001b[39m\u001b[38;5;124m'\u001b[39m: message_id,\n\u001b[1;32m    267\u001b[0m     \u001b[38;5;124m'\u001b[39m\u001b[38;5;124mopCode\u001b[39m\u001b[38;5;124m'\u001b[39m: op_code,\n\u001b[1;32m    268\u001b[0m     \u001b[38;5;124m'\u001b[39m\u001b[38;5;124mdata\u001b[39m\u001b[38;5;124m'\u001b[39m: message\n\u001b[1;32m    269\u001b[0m }, \u001b[38;5;28mcls\u001b[39m\u001b[38;5;241m=\u001b[39mCustomEncoder))\n\u001b[0;32m--> 271\u001b[0m \u001b[43mevent\u001b[49m\u001b[38;5;241;43m.\u001b[39;49m\u001b[43mwait\u001b[49m\u001b[43m(\u001b[49m\u001b[43m)\u001b[49m\n\u001b[1;32m    272\u001b[0m \u001b[38;5;28;01mwith\u001b[39;00m \u001b[38;5;28mself\u001b[39m\u001b[38;5;241m.\u001b[39m_messages_lock:\n\u001b[1;32m    273\u001b[0m     message \u001b[38;5;241m=\u001b[39m \u001b[38;5;28mself\u001b[39m\u001b[38;5;241m.\u001b[39m_pending_messages\u001b[38;5;241m.\u001b[39mpop(message_id, \u001b[38;5;28;01mNone\u001b[39;00m)\n",
            "File \u001b[0;32m/anaconda/envs/azureml_py38/lib/python3.8/threading.py:558\u001b[0m, in \u001b[0;36mEvent.wait\u001b[0;34m(self, timeout)\u001b[0m\n\u001b[1;32m    556\u001b[0m signaled \u001b[38;5;241m=\u001b[39m \u001b[38;5;28mself\u001b[39m\u001b[38;5;241m.\u001b[39m_flag\n\u001b[1;32m    557\u001b[0m \u001b[38;5;28;01mif\u001b[39;00m \u001b[38;5;129;01mnot\u001b[39;00m signaled:\n\u001b[0;32m--> 558\u001b[0m     signaled \u001b[38;5;241m=\u001b[39m \u001b[38;5;28;43mself\u001b[39;49m\u001b[38;5;241;43m.\u001b[39;49m\u001b[43m_cond\u001b[49m\u001b[38;5;241;43m.\u001b[39;49m\u001b[43mwait\u001b[49m\u001b[43m(\u001b[49m\u001b[43mtimeout\u001b[49m\u001b[43m)\u001b[49m\n\u001b[1;32m    559\u001b[0m \u001b[38;5;28;01mreturn\u001b[39;00m signaled\n",
            "File \u001b[0;32m/anaconda/envs/azureml_py38/lib/python3.8/threading.py:302\u001b[0m, in \u001b[0;36mCondition.wait\u001b[0;34m(self, timeout)\u001b[0m\n\u001b[1;32m    300\u001b[0m \u001b[38;5;28;01mtry\u001b[39;00m:    \u001b[38;5;66;03m# restore state no matter what (e.g., KeyboardInterrupt)\u001b[39;00m\n\u001b[1;32m    301\u001b[0m     \u001b[38;5;28;01mif\u001b[39;00m timeout \u001b[38;5;129;01mis\u001b[39;00m \u001b[38;5;28;01mNone\u001b[39;00m:\n\u001b[0;32m--> 302\u001b[0m         \u001b[43mwaiter\u001b[49m\u001b[38;5;241;43m.\u001b[39;49m\u001b[43macquire\u001b[49m\u001b[43m(\u001b[49m\u001b[43m)\u001b[49m\n\u001b[1;32m    303\u001b[0m         gotit \u001b[38;5;241m=\u001b[39m \u001b[38;5;28;01mTrue\u001b[39;00m\n\u001b[1;32m    304\u001b[0m     \u001b[38;5;28;01melse\u001b[39;00m:\n",
            "\u001b[0;31mKeyboardInterrupt\u001b[0m: "
          ]
        }
      ],
      "execution_count": 21,
      "metadata": {
        "jupyter": {
          "source_hidden": false,
          "outputs_hidden": false
        },
        "nteract": {
          "transient": {
            "deleting": false
          }
        },
        "gather": {
          "logged": 1716782585843
        }
      }
    },
    {
      "cell_type": "code",
      "source": [
        "import json\n",
        "import requests\n",
        "\n",
        "test_data = json.dumps({\n",
        "    \"data\": [\n",
        "       {\"age\":72,\"test_time\":5.6431,\"Jitter(%)\":0.00662,\"Jitter(Abs)\":0.0000338,\"Jitter:RAP\":0.00401,\"Jitter:PPQ5\":0.00317,\"Jitter:DDP\":0.01204,\"Shimmer\":0.02565,\"Shimmer(dB)\":0.23,\"Shimmer:APQ3\":0.01438,\"Shimmer:APQ5\":0.01309,\"Shimmer:APQ11\":0.01662,\"Shimmer:DDA\":0.04314,\"NHR\":0.01429,\"HNR\":21.64,\"RPDE\":0.41888,\"DFA\":0.54842,\"PPE\":0.16006,\"sex\":0},{\"age\":72,\"test_time\":12.666,\"Jitter(%)\":0.003,\"Jitter(Abs)\":0.0000168,\"Jitter:RAP\":0.00132,\"Jitter:PPQ5\":0.0015,\"Jitter:DDP\":0.00395,\"Shimmer\":0.02024,\"Shimmer(dB)\":0.179,\"Shimmer:APQ3\":0.00994,\"Shimmer:APQ5\":0.01072,\"Shimmer:APQ11\":0.01689,\"Shimmer:DDA\":0.02982,\"NHR\":0.011112,\"HNR\":27.183,\"RPDE\":0.43493,\"DFA\":0.56477,\"PPE\":0.1081,\"sex\":0},{\"age\":72,\"test_time\":19.681,\"Jitter(%)\":0.00481,\"Jitter(Abs)\":0.0000246,\"Jitter:RAP\":0.00205,\"Jitter:PPQ5\":0.00208,\"Jitter:DDP\":0.00616,\"Shimmer\":0.01675,\"Shimmer(dB)\":0.181,\"Shimmer:APQ3\":0.00734,\"Shimmer:APQ5\":0.00844,\"Shimmer:APQ11\":0.01458,\"Shimmer:DDA\":0.02202,\"NHR\":0.02022,\"HNR\":23.047,\"RPDE\":0.46222,\"DFA\":0.54405,\"PPE\":0.21014,\"sex\":0}]\n",
        "\n",
        "           })\n",
        "score_uri=\"http://a14bd92f-231d-4349-9ee3-33473a2737d6.westus2.azurecontainer.io/score\"\n",
        "response = requests.post(\n",
        "    score_uri,#service.scoring_uri, \n",
        "    data=test_data, \n",
        "    headers={'Content-Type':'application/json'})\n",
        "\n",
        "print(\"Results:\", response.json())"
      ],
      "outputs": [
        {
          "output_type": "stream",
          "name": "stdout",
          "text": "Results: {\"result\": [34.2515683508673, 35.253867467862065, 35.3563537117846]}\n"
        }
      ],
      "execution_count": 23,
      "metadata": {
        "jupyter": {
          "source_hidden": false,
          "outputs_hidden": false
        },
        "nteract": {
          "transient": {
            "deleting": false
          }
        },
        "gather": {
          "logged": 1716782628229
        }
      }
    },
    {
      "cell_type": "markdown",
      "source": [
        "**Submission Checklist**\n",
        "- I have registered the model.\n",
        "- I have deployed the model with the best accuracy as a webservice.\n",
        "- I have tested the webservice by sending a request to the model endpoint.\n",
        "- I have deleted the webservice and shutdown all the computes that I have used.\n",
        "- I have taken a screenshot showing the model endpoint as active.\n",
        "- The project includes a file containing the environment details.\n"
      ],
      "metadata": {}
    },
    {
      "cell_type": "markdown",
      "source": [],
      "metadata": {}
    }
  ],
  "metadata": {
    "kernel_info": {
      "name": "python38-azureml"
    },
    "kernelspec": {
      "name": "python38-azureml",
      "language": "python",
      "display_name": "Python 3.8 - AzureML"
    },
    "language_info": {
      "name": "python",
      "version": "3.8.5",
      "mimetype": "text/x-python",
      "codemirror_mode": {
        "name": "ipython",
        "version": 3
      },
      "pygments_lexer": "ipython3",
      "nbconvert_exporter": "python",
      "file_extension": ".py"
    },
    "nteract": {
      "version": "nteract-front-end@1.0.0"
    },
    "microsoft": {
      "host": {
        "AzureML": {
          "notebookHasBeenCompleted": true
        }
      },
      "ms_spell_check": {
        "ms_spell_check_language": "en"
      }
    }
  },
  "nbformat": 4,
  "nbformat_minor": 2
}