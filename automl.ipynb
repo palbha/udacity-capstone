{
  "cells": [
    {
      "cell_type": "markdown",
      "source": [
        "# Automated ML\n",
        "\n",
        "TODO: Import Dependencies. In the cell below, import all the dependencies that you will need to complete the project."
      ],
      "metadata": {}
    },
    {
      "cell_type": "code",
      "source": [
        "import logging\n",
        "import os\n",
        "import csv\n",
        "\n",
        "from matplotlib import pyplot as plt\n",
        "import numpy as np\n",
        "import pandas as pd\n",
        "from sklearn import datasets\n",
        "import pkg_resources\n",
        "\n",
        "import azureml.core\n",
        "from azureml.core.experiment import Experiment\n",
        "from azureml.core.workspace import Workspace\n",
        "from azureml.train.automl import AutoMLConfig\n",
        "from azureml.core.dataset import Dataset\n",
        "from azureml.widgets import RunDetails\n",
        "from azureml.pipeline.steps import AutoMLStep\n",
        "\n",
        "# Check core SDK version number\n",
        "print(\"SDK version:\", azureml.core.VERSION)"
      ],
      "outputs": [
        {
          "output_type": "stream",
          "name": "stdout",
          "text": "SDK version: 1.51.0\n"
        }
      ],
      "execution_count": 1,
      "metadata": {
        "gather": {
          "logged": 1716750236506
        },
        "jupyter": {
          "outputs_hidden": false,
          "source_hidden": false
        },
        "nteract": {
          "transient": {
            "deleting": false
          }
        }
      }
    },
    {
      "cell_type": "code",
      "source": [
        "!pip install ucimlrepo\n",
        "!pip install azure-ai-ml"
      ],
      "outputs": [
        {
          "output_type": "stream",
          "name": "stdout",
          "text": "Requirement already satisfied: ucimlrepo in /anaconda/envs/azureml_py38/lib/python3.8/site-packages (0.0.7)\nRequirement already satisfied: certifi>=2020.12.5 in /anaconda/envs/azureml_py38/lib/python3.8/site-packages (from ucimlrepo) (2022.9.24)\nRequirement already satisfied: pandas>=1.0.0 in /anaconda/envs/azureml_py38/lib/python3.8/site-packages (from ucimlrepo) (1.1.5)\nRequirement already satisfied: pytz>=2017.2 in /anaconda/envs/azureml_py38/lib/python3.8/site-packages (from pandas>=1.0.0->ucimlrepo) (2022.5)\nRequirement already satisfied: numpy>=1.15.4 in /anaconda/envs/azureml_py38/lib/python3.8/site-packages (from pandas>=1.0.0->ucimlrepo) (1.21.6)\nRequirement already satisfied: python-dateutil>=2.7.3 in /anaconda/envs/azureml_py38/lib/python3.8/site-packages (from pandas>=1.0.0->ucimlrepo) (2.8.2)\nRequirement already satisfied: six>=1.5 in /anaconda/envs/azureml_py38/lib/python3.8/site-packages (from python-dateutil>=2.7.3->pandas>=1.0.0->ucimlrepo) (1.16.0)\nRequirement already satisfied: azure-ai-ml in /anaconda/envs/azureml_py38/lib/python3.8/site-packages (1.16.0)\nRequirement already satisfied: tqdm in /anaconda/envs/azureml_py38/lib/python3.8/site-packages (from azure-ai-ml) (4.65.0)\nRequirement already satisfied: azure-core>=1.23.0 in /anaconda/envs/azureml_py38/lib/python3.8/site-packages (from azure-ai-ml) (1.26.4)\nRequirement already satisfied: marshmallow>=3.5 in /anaconda/envs/azureml_py38/lib/python3.8/site-packages (from azure-ai-ml) (3.21.2)\nRequirement already satisfied: azure-storage-file-share in /anaconda/envs/azureml_py38/lib/python3.8/site-packages (from azure-ai-ml) (12.16.0)\nRequirement already satisfied: jsonschema>=4.0.0 in /anaconda/envs/azureml_py38/lib/python3.8/site-packages (from azure-ai-ml) (4.17.3)\nRequirement already satisfied: msrest>=0.6.18 in /anaconda/envs/azureml_py38/lib/python3.8/site-packages (from azure-ai-ml) (0.7.1)\nRequirement already satisfied: strictyaml in /anaconda/envs/azureml_py38/lib/python3.8/site-packages (from azure-ai-ml) (1.7.3)\nRequirement already satisfied: opencensus-ext-azure in /anaconda/envs/azureml_py38/lib/python3.8/site-packages (from azure-ai-ml) (1.1.9)\nRequirement already satisfied: pyjwt in /anaconda/envs/azureml_py38/lib/python3.8/site-packages (from azure-ai-ml) (2.4.0)\nRequirement already satisfied: azure-storage-blob>=12.10.0 in /anaconda/envs/azureml_py38/lib/python3.8/site-packages (from azure-ai-ml) (12.13.0)\nRequirement already satisfied: pyyaml>=5.1.0 in /anaconda/envs/azureml_py38/lib/python3.8/site-packages (from azure-ai-ml) (6.0)\nRequirement already satisfied: typing-extensions in /anaconda/envs/azureml_py38/lib/python3.8/site-packages (from azure-ai-ml) (4.6.0)\nRequirement already satisfied: isodate in /anaconda/envs/azureml_py38/lib/python3.8/site-packages (from azure-ai-ml) (0.6.1)\nRequirement already satisfied: colorama in /anaconda/envs/azureml_py38/lib/python3.8/site-packages (from azure-ai-ml) (0.4.6)\nRequirement already satisfied: opencensus-ext-logging in /anaconda/envs/azureml_py38/lib/python3.8/site-packages (from azure-ai-ml) (0.1.1)\nRequirement already satisfied: azure-mgmt-core>=1.3.0 in /anaconda/envs/azureml_py38/lib/python3.8/site-packages (from azure-ai-ml) (1.4.0)\nRequirement already satisfied: azure-storage-file-datalake>=12.2.0 in /anaconda/envs/azureml_py38/lib/python3.8/site-packages (from azure-ai-ml) (12.15.0)\nRequirement already satisfied: azure-common>=1.1 in /anaconda/envs/azureml_py38/lib/python3.8/site-packages (from azure-ai-ml) (1.1.28)\nRequirement already satisfied: pydash>=6.0.0 in /anaconda/envs/azureml_py38/lib/python3.8/site-packages (from azure-ai-ml) (8.0.1)\nRequirement already satisfied: six>=1.11.0 in /anaconda/envs/azureml_py38/lib/python3.8/site-packages (from azure-core>=1.23.0->azure-ai-ml) (1.16.0)\nRequirement already satisfied: requests>=2.18.4 in /anaconda/envs/azureml_py38/lib/python3.8/site-packages (from azure-core>=1.23.0->azure-ai-ml) (2.31.0)\nRequirement already satisfied: packaging>=17.0 in /anaconda/envs/azureml_py38/lib/python3.8/site-packages (from marshmallow>=3.5->azure-ai-ml) (23.0)\nRequirement already satisfied: cryptography>=2.1.4 in /anaconda/envs/azureml_py38/lib/python3.8/site-packages (from azure-storage-file-share->azure-ai-ml) (38.0.4)\nRequirement already satisfied: pyrsistent!=0.17.0,!=0.17.1,!=0.17.2,>=0.14.0 in /anaconda/envs/azureml_py38/lib/python3.8/site-packages (from jsonschema>=4.0.0->azure-ai-ml) (0.19.3)\nRequirement already satisfied: pkgutil-resolve-name>=1.3.10; python_version < \"3.9\" in /anaconda/envs/azureml_py38/lib/python3.8/site-packages (from jsonschema>=4.0.0->azure-ai-ml) (1.3.10)\nRequirement already satisfied: attrs>=17.4.0 in /anaconda/envs/azureml_py38/lib/python3.8/site-packages (from jsonschema>=4.0.0->azure-ai-ml) (23.1.0)\nRequirement already satisfied: importlib-resources>=1.4.0; python_version < \"3.9\" in /anaconda/envs/azureml_py38/lib/python3.8/site-packages (from jsonschema>=4.0.0->azure-ai-ml) (5.12.0)\nRequirement already satisfied: certifi>=2017.4.17 in /anaconda/envs/azureml_py38/lib/python3.8/site-packages (from msrest>=0.6.18->azure-ai-ml) (2022.9.24)\nRequirement already satisfied: requests-oauthlib>=0.5.0 in /anaconda/envs/azureml_py38/lib/python3.8/site-packages (from msrest>=0.6.18->azure-ai-ml) (1.3.1)\nRequirement already satisfied: python-dateutil>=2.6.0 in /anaconda/envs/azureml_py38/lib/python3.8/site-packages (from strictyaml->azure-ai-ml) (2.8.2)\nRequirement already satisfied: psutil>=5.6.3 in /anaconda/envs/azureml_py38/lib/python3.8/site-packages (from opencensus-ext-azure->azure-ai-ml) (5.9.5)\nRequirement already satisfied: azure-identity<2.0.0,>=1.5.0 in /anaconda/envs/azureml_py38/lib/python3.8/site-packages (from opencensus-ext-azure->azure-ai-ml) (1.13.0)\nRequirement already satisfied: opencensus<1.0.0,>=0.11.2 in /anaconda/envs/azureml_py38/lib/python3.8/site-packages (from opencensus-ext-azure->azure-ai-ml) (0.11.2)\nRequirement already satisfied: charset-normalizer<4,>=2 in /anaconda/envs/azureml_py38/lib/python3.8/site-packages (from requests>=2.18.4->azure-core>=1.23.0->azure-ai-ml) (3.1.0)\nRequirement already satisfied: urllib3<3,>=1.21.1 in /anaconda/envs/azureml_py38/lib/python3.8/site-packages (from requests>=2.18.4->azure-core>=1.23.0->azure-ai-ml) (1.26.16)\nRequirement already satisfied: idna<4,>=2.5 in /anaconda/envs/azureml_py38/lib/python3.8/site-packages (from requests>=2.18.4->azure-core>=1.23.0->azure-ai-ml) (3.4)\nRequirement already satisfied: cffi>=1.12 in /anaconda/envs/azureml_py38/lib/python3.8/site-packages (from cryptography>=2.1.4->azure-storage-file-share->azure-ai-ml) (1.15.1)\nRequirement already satisfied: zipp>=3.1.0; python_version < \"3.10\" in /anaconda/envs/azureml_py38/lib/python3.8/site-packages (from importlib-resources>=1.4.0; python_version < \"3.9\"->jsonschema>=4.0.0->azure-ai-ml) (3.12.0)\nRequirement already satisfied: oauthlib>=3.0.0 in /anaconda/envs/azureml_py38/lib/python3.8/site-packages (from requests-oauthlib>=0.5.0->msrest>=0.6.18->azure-ai-ml) (3.2.2)\nRequirement already satisfied: msal-extensions<2.0.0,>=0.3.0 in /anaconda/envs/azureml_py38/lib/python3.8/site-packages (from azure-identity<2.0.0,>=1.5.0->opencensus-ext-azure->azure-ai-ml) (1.0.0)\nRequirement already satisfied: msal<2.0.0,>=1.20.0 in /anaconda/envs/azureml_py38/lib/python3.8/site-packages (from azure-identity<2.0.0,>=1.5.0->opencensus-ext-azure->azure-ai-ml) (1.22.0)\nRequirement already satisfied: opencensus-context>=0.1.3 in /anaconda/envs/azureml_py38/lib/python3.8/site-packages (from opencensus<1.0.0,>=0.11.2->opencensus-ext-azure->azure-ai-ml) (0.1.3)\nRequirement already satisfied: google-api-core<3.0.0,>=1.0.0; python_version >= \"3.6\" in /anaconda/envs/azureml_py38/lib/python3.8/site-packages (from opencensus<1.0.0,>=0.11.2->opencensus-ext-azure->azure-ai-ml) (2.11.0)\nRequirement already satisfied: pycparser in /anaconda/envs/azureml_py38/lib/python3.8/site-packages (from cffi>=1.12->cryptography>=2.1.4->azure-storage-file-share->azure-ai-ml) (2.21)\nRequirement already satisfied: portalocker<3,>=1.0; python_version >= \"3.5\" and platform_system != \"Windows\" in /anaconda/envs/azureml_py38/lib/python3.8/site-packages (from msal-extensions<2.0.0,>=0.3.0->azure-identity<2.0.0,>=1.5.0->opencensus-ext-azure->azure-ai-ml) (2.7.0)\nRequirement already satisfied: protobuf!=3.20.0,!=3.20.1,!=4.21.0,!=4.21.1,!=4.21.2,!=4.21.3,!=4.21.4,!=4.21.5,<5.0.0dev,>=3.19.5 in /anaconda/envs/azureml_py38/lib/python3.8/site-packages (from google-api-core<3.0.0,>=1.0.0; python_version >= \"3.6\"->opencensus<1.0.0,>=0.11.2->opencensus-ext-azure->azure-ai-ml) (3.20.3)\nRequirement already satisfied: googleapis-common-protos<2.0dev,>=1.56.2 in /anaconda/envs/azureml_py38/lib/python3.8/site-packages (from google-api-core<3.0.0,>=1.0.0; python_version >= \"3.6\"->opencensus<1.0.0,>=0.11.2->opencensus-ext-azure->azure-ai-ml) (1.59.0)\nRequirement already satisfied: google-auth<3.0dev,>=2.14.1 in /anaconda/envs/azureml_py38/lib/python3.8/site-packages (from google-api-core<3.0.0,>=1.0.0; python_version >= \"3.6\"->opencensus<1.0.0,>=0.11.2->opencensus-ext-azure->azure-ai-ml) (2.18.1)\nRequirement already satisfied: pyasn1-modules>=0.2.1 in /anaconda/envs/azureml_py38/lib/python3.8/site-packages (from google-auth<3.0dev,>=2.14.1->google-api-core<3.0.0,>=1.0.0; python_version >= \"3.6\"->opencensus<1.0.0,>=0.11.2->opencensus-ext-azure->azure-ai-ml) (0.3.0)\nRequirement already satisfied: cachetools<6.0,>=2.0.0 in /anaconda/envs/azureml_py38/lib/python3.8/site-packages (from google-auth<3.0dev,>=2.14.1->google-api-core<3.0.0,>=1.0.0; python_version >= \"3.6\"->opencensus<1.0.0,>=0.11.2->opencensus-ext-azure->azure-ai-ml) (5.3.0)\nRequirement already satisfied: rsa<5,>=3.1.4; python_version >= \"3.6\" in /anaconda/envs/azureml_py38/lib/python3.8/site-packages (from google-auth<3.0dev,>=2.14.1->google-api-core<3.0.0,>=1.0.0; python_version >= \"3.6\"->opencensus<1.0.0,>=0.11.2->opencensus-ext-azure->azure-ai-ml) (4.9)\nRequirement already satisfied: pyasn1<0.6.0,>=0.4.6 in /anaconda/envs/azureml_py38/lib/python3.8/site-packages (from pyasn1-modules>=0.2.1->google-auth<3.0dev,>=2.14.1->google-api-core<3.0.0,>=1.0.0; python_version >= \"3.6\"->opencensus<1.0.0,>=0.11.2->opencensus-ext-azure->azure-ai-ml) (0.5.0)\n"
        }
      ],
      "execution_count": 2,
      "metadata": {
        "jupyter": {
          "source_hidden": false,
          "outputs_hidden": false
        },
        "nteract": {
          "transient": {
            "deleting": false
          }
        }
      }
    },
    {
      "cell_type": "markdown",
      "source": [
        "## Dataset\n",
        "\n",
        "### Overview\n",
        "TODO: In this markdown cell, give an overview of the dataset you are using. Also mention the task you will be performing.\n",
        "\n",
        "\n",
        "TODO: Get data. In the cell below, write code to access the data you will be using in this project. Remember that the dataset needs to be external."
      ],
      "metadata": {
        "nteract": {
          "transient": {
            "deleting": false
          }
        }
      }
    },
    {
      "cell_type": "code",
      "source": [
        "ws = Workspace.from_config()\n",
        "print(ws.name, ws.resource_group, ws.location, ws.subscription_id, sep = '\\n')\n",
        "# choose a name for experiment\n",
        "experiment_name = 'parkinson_exp'\n",
        "\n",
        "experiment=Experiment(ws, experiment_name)\n",
        "project_folder = './pipeline-parkinson-project'"
      ],
      "outputs": [
        {
          "output_type": "stream",
          "name": "stdout",
          "text": "quick-starts-ws-259725\naml-quickstarts-259725\nwesteurope\n610d6e37-4747-4a20-80eb-3aad70a55f43\n"
        }
      ],
      "execution_count": 3,
      "metadata": {
        "jupyter": {
          "source_hidden": false,
          "outputs_hidden": false
        },
        "nteract": {
          "transient": {
            "deleting": false
          }
        },
        "gather": {
          "logged": 1716750248902
        }
      }
    },
    {
      "cell_type": "code",
      "source": [
        "from ucimlrepo import fetch_ucirepo \n",
        "  \n",
        "# fetch dataset \n",
        "parkinsons_telemonitoring = fetch_ucirepo(id=189) \n",
        "  \n",
        "# data (as pandas dataframes) \n",
        "X = parkinsons_telemonitoring.data.features \n",
        "y = parkinsons_telemonitoring.data.targets \n",
        "  \n",
        "# metadata \n",
        "print(parkinsons_telemonitoring.metadata) \n",
        "  \n",
        "# variable information \n",
        "print(parkinsons_telemonitoring.variables) \n"
      ],
      "outputs": [
        {
          "output_type": "stream",
          "name": "stdout",
          "text": "{'uci_id': 189, 'name': 'Parkinsons Telemonitoring', 'repository_url': 'https://archive.ics.uci.edu/dataset/189/parkinsons+telemonitoring', 'data_url': 'https://archive.ics.uci.edu/static/public/189/data.csv', 'abstract': \"Oxford Parkinson's Disease Telemonitoring Dataset\", 'area': 'Health and Medicine', 'tasks': ['Regression'], 'characteristics': ['Tabular'], 'num_instances': 5875, 'num_features': 19, 'feature_types': ['Integer', 'Real'], 'demographics': ['Age', 'Sex'], 'target_col': ['motor_UPDRS', 'total_UPDRS'], 'index_col': ['subject#'], 'has_missing_values': 'no', 'missing_values_symbol': None, 'year_of_dataset_creation': 2009, 'last_updated': 'Fri Nov 03 2023', 'dataset_doi': '10.24432/C5ZS3N', 'creators': ['Athanasios Tsanas', 'Max Little'], 'intro_paper': {'title': \"Accurate Telemonitoring of Parkinson's Disease Progression by Noninvasive Speech Tests\", 'authors': 'A. Tsanas, Max A. Little, P. McSharry, L. Ramig', 'published_in': 'IEEE Transactions on Biomedical Engineering', 'year': 2010, 'url': 'https://www.semanticscholar.org/paper/1fdf33b6d8b1bdb38866ba824c1dcaecdfb6bdd6', 'doi': None}, 'additional_info': {'summary': \"This dataset is composed of a range of biomedical voice measurements from 42 people with early-stage Parkinson's disease recruited to a six-month trial of a telemonitoring device for remote symptom progression monitoring. The recordings were automatically captured in the patient's homes.\\r\\n\\r\\nColumns in the table contain subject number, subject age, subject gender, time interval from baseline recruitment date, motor UPDRS, total UPDRS, and 16 biomedical voice measures. Each row corresponds to one of 5,875 voice recording from these individuals. The main aim of the data is to predict the motor and total UPDRS scores ('motor_UPDRS' and 'total_UPDRS') from the 16 voice measures.\\r\\n\\r\\nThe data is in ASCII CSV format. The rows of the CSV file contain an instance corresponding to one voice recording. There are around 200 recordings per patient, the subject number of the patient is identified in the first column. For further information or to pass on comments, please contact Athanasios Tsanas (tsanasthanasis@gmail.com) or Max Little (littlem@physics.ox.ac.uk).\\r\\n\\r\\nFurther details are contained in the following reference -- if you use this dataset, please cite:\\r\\nAthanasios Tsanas, Max A. Little, Patrick E. McSharry, Lorraine O. Ramig (2009),\\r\\n'Accurate telemonitoring of Parkinson’s disease progression by non-invasive speech tests',\\r\\nIEEE Transactions on Biomedical Engineering (to appear).\\r\\n\\r\\nFurther details about the biomedical voice measures can be found in:\\r\\nMax A. Little, Patrick E. McSharry, Eric J. Hunter, Lorraine O. Ramig (2009), \\r\\n'Suitability of dysphonia measurements for telemonitoring of Parkinson's disease', \\r\\nIEEE Transactions on Biomedical Engineering, 56(4):1015-1022\\r\\n\", 'purpose': None, 'funded_by': None, 'instances_represent': None, 'recommended_data_splits': None, 'sensitive_data': None, 'preprocessing_description': None, 'variable_info': \"subject# - Integer that uniquely identifies each subject\\r\\nage - Subject age\\r\\nsex - Subject gender '0' - male, '1' - female\\r\\ntest_time - Time since recruitment into the trial. The integer part is the number of days since recruitment. \\r\\nmotor_UPDRS - Clinician's motor UPDRS score, linearly interpolated\\r\\ntotal_UPDRS - Clinician's total UPDRS score, linearly interpolated\\r\\nJitter(%),Jitter(Abs),Jitter:RAP,Jitter:PPQ5,Jitter:DDP - Several measures of variation in fundamental frequency\\r\\nShimmer,Shimmer(dB),Shimmer:APQ3,Shimmer:APQ5,Shimmer:APQ11,Shimmer:DDA - Several measures of variation in amplitude\\r\\nNHR,HNR - Two measures of ratio of noise to tonal components in the voice\\r\\nRPDE - A nonlinear dynamical complexity measure\\r\\nDFA - Signal fractal scaling exponent\\r\\nPPE - A nonlinear measure of fundamental frequency variation \\r\\n\", 'citation': None}}\n             name     role        type demographic  \\\n0        subject#       ID     Integer        None   \n1             age  Feature     Integer         Age   \n2       test_time  Feature  Continuous        None   \n3       Jitter(%)  Feature  Continuous        None   \n4     Jitter(Abs)  Feature  Continuous        None   \n5      Jitter:RAP  Feature  Continuous        None   \n6     Jitter:PPQ5  Feature  Continuous        None   \n7      Jitter:DDP  Feature  Continuous        None   \n8         Shimmer  Feature  Continuous        None   \n9     Shimmer(dB)  Feature  Continuous        None   \n10   Shimmer:APQ3  Feature  Continuous        None   \n11   Shimmer:APQ5  Feature  Continuous        None   \n12  Shimmer:APQ11  Feature  Continuous        None   \n13    Shimmer:DDA  Feature  Continuous        None   \n14            NHR  Feature  Continuous        None   \n15            HNR  Feature  Continuous        None   \n16           RPDE  Feature  Continuous        None   \n17            DFA  Feature  Continuous        None   \n18            PPE  Feature  Continuous        None   \n19    motor_UPDRS   Target  Continuous        None   \n20    total_UPDRS   Target  Continuous        None   \n21            sex  Feature      Binary         Sex   \n\n                                          description units missing_values  \n0       Integer that uniquely identifies each subject  None             no  \n1                                         Subject age  None             no  \n2   Time since recruitment into the trial. The int...  None             no  \n3   Several measures of variation in fundamental f...  None             no  \n4   Several measures of variation in fundamental f...  None             no  \n5   Several measures of variation in fundamental f...  None             no  \n6   Several measures of variation in fundamental f...  None             no  \n7   Several measures of variation in fundamental f...  None             no  \n8          Several measures of variation in amplitude  None             no  \n9          Several measures of variation in amplitude  None             no  \n10         Several measures of variation in amplitude  None             no  \n11         Several measures of variation in amplitude  None             no  \n12         Several measures of variation in amplitude  None             no  \n13         Several measures of variation in amplitude  None             no  \n14  Two measures of ratio of noise to tonal compon...  None             no  \n15  Two measures of ratio of noise to tonal compon...  None             no  \n16           A nonlinear dynamical complexity measure  None             no  \n17                    Signal fractal scaling exponent  None             no  \n18  A nonlinear measure of fundamental frequency v...  None             no  \n19  Clinician's motor UPDRS score, linearly interp...  None             no  \n20  Clinician's total UPDRS score, linearly interp...  None             no  \n21               Subject sex '0' - male, '1' - female  None             no  \n"
        }
      ],
      "execution_count": 85,
      "metadata": {
        "jupyter": {
          "source_hidden": false,
          "outputs_hidden": false
        },
        "nteract": {
          "transient": {
            "deleting": false
          }
        },
        "gather": {
          "logged": 1716749322025
        }
      }
    },
    {
      "cell_type": "code",
      "source": [
        "X.reset_index(inplace=True)\n",
        "y.reset_index(inplace=True)\n",
        "\n",
        "#df.to_csv(\"parkinson_data.csv\",index=False)"
      ],
      "outputs": [],
      "execution_count": 86,
      "metadata": {
        "jupyter": {
          "source_hidden": false,
          "outputs_hidden": true
        },
        "nteract": {
          "transient": {
            "deleting": false
          }
        },
        "gather": {
          "logged": 1716749322442
        }
      }
    },
    {
      "cell_type": "code",
      "source": [
        "df=pd.merge(X,y,on='index')\n",
        "\n",
        "df.drop(columns=['index','motor_UPDRS'],inplace=True)\n",
        "# Since here we have two variables that can be target variable , focusing on one & removing the other"
      ],
      "outputs": [],
      "execution_count": 87,
      "metadata": {
        "jupyter": {
          "source_hidden": false,
          "outputs_hidden": false
        },
        "nteract": {
          "transient": {
            "deleting": false
          }
        },
        "gather": {
          "logged": 1716749322755
        }
      }
    },
    {
      "cell_type": "code",
      "source": [
        "df.columns\n",
        "df.to_csv(\"parkinson_data_v2.csv\",index=False)\n",
        "# Saving the above file to a csv so as to upload as a Dataset using Upload files locally from ML Studio"
      ],
      "outputs": [],
      "execution_count": 95,
      "metadata": {
        "jupyter": {
          "source_hidden": false,
          "outputs_hidden": false
        },
        "nteract": {
          "transient": {
            "deleting": false
          }
        },
        "gather": {
          "logged": 1716749698450
        }
      }
    },
    {
      "cell_type": "markdown",
      "source": [
        "#### Since Seems like regsitering a dataframe directly is something not possible in sdk v2 , I would directly create the dataset using stuido & access it "
      ],
      "metadata": {
        "nteract": {
          "transient": {
            "deleting": false
          }
        }
      }
    },
    {
      "cell_type": "code",
      "source": [
        "# found = False\n",
        "# key = \"parkinson_data\"\n",
        "# description_text = \"Oxford Parkinson's Disease Telemonitoring Dataset taken from UCI\"\n",
        "\n",
        "# if key in ws.datasets.keys(): \n",
        "#         found = True\n",
        "#         dataset = ws.datasets[key] \n",
        "\n",
        "# if not found:\n",
        "#         # Create AML Dataset and register it into Workspace\n",
        "#         dataset = Dataset.Tabular.from_delimited_files(example_data)        \n",
        "#         #Register Dataset in Workspace\n",
        "#         dataset = dataset.register(workspace=ws,\n",
        "#                                    name=key,\n",
        "#                                    description=description_text)\n",
        "\n",
        "\n",
        "# df = dataset.to_pandas_dataframe()\n",
        "# df.describe()"
      ],
      "outputs": [],
      "execution_count": 42,
      "metadata": {
        "jupyter": {
          "source_hidden": false,
          "outputs_hidden": false
        },
        "nteract": {
          "transient": {
            "deleting": false
          }
        },
        "gather": {
          "logged": 1716737691588
        }
      }
    },
    {
      "cell_type": "code",
      "source": [
        "key='parkinson-data-v2'\n",
        "if key in ws.datasets.keys(): \n",
        "        found = True\n",
        "        dataset = ws.datasets[key] \n"
      ],
      "outputs": [],
      "execution_count": 4,
      "metadata": {
        "jupyter": {
          "source_hidden": false,
          "outputs_hidden": false
        },
        "nteract": {
          "transient": {
            "deleting": false
          }
        },
        "gather": {
          "logged": 1716750256072
        }
      }
    },
    {
      "cell_type": "markdown",
      "source": [
        "## Validating a compute if not , creating one"
      ],
      "metadata": {
        "nteract": {
          "transient": {
            "deleting": false
          }
        }
      }
    },
    {
      "cell_type": "code",
      "source": [
        "from azureml.core.compute import AmlCompute\n",
        "from azureml.core.compute import ComputeTarget\n",
        "from azureml.core.compute_target import ComputeTargetException\n",
        "\n",
        "# NOTE: update the cluster name to match the existing cluster\n",
        "# Choose a name for your CPU cluster\n",
        "amlcompute_cluster_name = \"automl-cluster\"\n",
        "\n",
        "# Verify that cluster does not exist already\n",
        "try:\n",
        "    compute_target = ComputeTarget(workspace=ws, name=amlcompute_cluster_name)\n",
        "    print('Found existing cluster, use it.')\n",
        "except ComputeTargetException:\n",
        "    compute_config = AmlCompute.provisioning_configuration(vm_size='STANDARD_D2_V2',# for GPU, use \"STANDARD_NC6\"\n",
        "                                                           #vm_priority = 'lowpriority', # optional\n",
        "                                                           max_nodes=4)\n",
        "    compute_target = ComputeTarget.create(ws, amlcompute_cluster_name, compute_config)\n",
        "\n",
        "#compute_target.wait_for_completion(show_output=True, min_node_count = 1, timeout_in_minutes = 10)\n",
        "# For a more detailed view of current AmlCompute status, use get_status()."
      ],
      "outputs": [
        {
          "output_type": "stream",
          "name": "stdout",
          "text": "Found existing cluster, use it.\n"
        }
      ],
      "execution_count": 5,
      "metadata": {
        "gather": {
          "logged": 1716750259786
        },
        "jupyter": {
          "outputs_hidden": false,
          "source_hidden": false
        },
        "nteract": {
          "transient": {
            "deleting": false
          }
        }
      }
    },
    {
      "cell_type": "markdown",
      "source": [
        "## AutoML Configuration\n",
        "\n",
        "TODO: Explain why you chose the automl settings and cofiguration you used below."
      ],
      "metadata": {}
    },
    {
      "cell_type": "code",
      "source": [
        "automl_settings = {\n",
        "    \"experiment_timeout_minutes\": 20,\n",
        "    \"max_concurrent_iterations\": 5,\n",
        "    \"primary_metric\" : 'r2_score'\n",
        "}\n",
        "automl_config = AutoMLConfig(compute_target=compute_target,\n",
        "                             task = \"regression\",\n",
        "                             training_data=dataset,\n",
        "                             label_column_name=\"total_UPDRS\",   \n",
        "                             path = project_folder,\n",
        "                             enable_early_stopping= True,\n",
        "                             featurization= 'auto',\n",
        "                             debug_log = \"automl_errors.log\",\n",
        "                             **automl_settings)\n",
        "                            \n"
      ],
      "outputs": [],
      "execution_count": 6,
      "metadata": {
        "gather": {
          "logged": 1716750271699
        },
        "jupyter": {
          "outputs_hidden": false,
          "source_hidden": false
        },
        "nteract": {
          "transient": {
            "deleting": false
          }
        }
      }
    },
    {
      "cell_type": "code",
      "source": [
        "# TODO: Submit your experiment\n",
        "remote_run = experiment.submit(automl_config)"
      ],
      "outputs": [
        {
          "output_type": "stream",
          "name": "stdout",
          "text": "Submitting remote run.\n"
        },
        {
          "output_type": "display_data",
          "data": {
            "text/html": "<table style=\"width:100%\"><tr><th>Experiment</th><th>Id</th><th>Type</th><th>Status</th><th>Details Page</th><th>Docs Page</th></tr><tr><td>parkinson_exp</td><td>AutoML_b17b0511-213f-4a47-8f1c-d07a4bf23e89</td><td>automl</td><td>NotStarted</td><td><a href=\"https://ml.azure.com/runs/AutoML_b17b0511-213f-4a47-8f1c-d07a4bf23e89?wsid=/subscriptions/610d6e37-4747-4a20-80eb-3aad70a55f43/resourcegroups/aml-quickstarts-259725/workspaces/quick-starts-ws-259725&amp;tid=660b3398-b80e-49d2-bc5b-ac1dc93b5254\" target=\"_blank\" rel=\"noopener\">Link to Azure Machine Learning studio</a></td><td><a href=\"https://docs.microsoft.com/en-us/python/api/overview/azure/ml/intro?view=azure-ml-py\" target=\"_blank\" rel=\"noopener\">Link to Documentation</a></td></tr></table>"
          },
          "metadata": {}
        }
      ],
      "execution_count": 7,
      "metadata": {
        "gather": {
          "logged": 1716750277525
        },
        "jupyter": {
          "outputs_hidden": false,
          "source_hidden": false
        },
        "nteract": {
          "transient": {
            "deleting": false
          }
        }
      }
    },
    {
      "cell_type": "markdown",
      "source": [
        "## Run Details\n",
        "\n",
        "OPTIONAL: Write about the different models trained and their performance. Why do you think some models did better than others?\n",
        "\n",
        "TODO: In the cell below, use the `RunDetails` widget to show the different experiments."
      ],
      "metadata": {}
    },
    {
      "cell_type": "code",
      "source": [
        "RunDetails(remote_run).show()\n",
        "remote_run.wait_for_completion(show_output=True)\n",
        "remote_run"
      ],
      "outputs": [
        {
          "output_type": "display_data",
          "data": {
            "text/plain": "_AutoMLWidget(widget_settings={'childWidgetDisplay': 'popup', 'send_telemetry': False, 'log_level': 'INFO', 's…",
            "application/vnd.jupyter.widget-view+json": {
              "version_major": 2,
              "version_minor": 0,
              "model_id": "72433b42142443af811ca7cb9671015c"
            }
          },
          "metadata": {}
        },
        {
          "output_type": "display_data",
          "data": {
            "application/aml.mini.widget.v1": "{\"status\": \"Completed\", \"workbench_run_details_uri\": \"https://ml.azure.com/runs/AutoML_b17b0511-213f-4a47-8f1c-d07a4bf23e89?wsid=/subscriptions/610d6e37-4747-4a20-80eb-3aad70a55f43/resourcegroups/aml-quickstarts-259725/workspaces/quick-starts-ws-259725&tid=660b3398-b80e-49d2-bc5b-ac1dc93b5254\", \"run_id\": \"AutoML_b17b0511-213f-4a47-8f1c-d07a4bf23e89\", \"run_properties\": {\"run_id\": \"AutoML_b17b0511-213f-4a47-8f1c-d07a4bf23e89\", \"created_utc\": \"2024-05-26T19:04:36.506119Z\", \"properties\": {\"num_iterations\": \"1000\", \"training_type\": \"TrainFull\", \"acquisition_function\": \"EI\", \"primary_metric\": \"r2_score\", \"train_split\": \"0\", \"acquisition_parameter\": \"0\", \"num_cross_validation\": null, \"target\": \"automl-cluster\", \"AMLSettingsJsonString\": \"{\\\"path\\\":null,\\\"name\\\":\\\"parkinson_exp\\\",\\\"subscription_id\\\":\\\"610d6e37-4747-4a20-80eb-3aad70a55f43\\\",\\\"resource_group\\\":\\\"aml-quickstarts-259725\\\",\\\"workspace_name\\\":\\\"quick-starts-ws-259725\\\",\\\"region\\\":\\\"westeurope\\\",\\\"compute_target\\\":\\\"automl-cluster\\\",\\\"spark_service\\\":null,\\\"azure_service\\\":\\\"remote\\\",\\\"many_models\\\":false,\\\"pipeline_fetch_max_batch_size\\\":1,\\\"enable_batch_run\\\":true,\\\"enable_parallel_run\\\":false,\\\"num_procs\\\":null,\\\"enable_run_restructure\\\":false,\\\"start_auxiliary_runs_before_parent_complete\\\":false,\\\"enable_code_generation\\\":true,\\\"iterations\\\":1000,\\\"primary_metric\\\":\\\"r2_score\\\",\\\"task_type\\\":\\\"regression\\\",\\\"positive_label\\\":null,\\\"data_script\\\":null,\\\"test_size\\\":0.0,\\\"test_include_predictions_only\\\":false,\\\"validation_size\\\":0.0,\\\"n_cross_validations\\\":null,\\\"y_min\\\":null,\\\"y_max\\\":null,\\\"num_classes\\\":null,\\\"featurization\\\":\\\"auto\\\",\\\"_ignore_package_version_incompatibilities\\\":false,\\\"is_timeseries\\\":false,\\\"max_cores_per_iteration\\\":1,\\\"max_concurrent_iterations\\\":5,\\\"iteration_timeout_minutes\\\":null,\\\"mem_in_mb\\\":null,\\\"enforce_time_on_windows\\\":false,\\\"experiment_timeout_minutes\\\":20,\\\"experiment_exit_score\\\":null,\\\"partition_column_names\\\":null,\\\"whitelist_models\\\":null,\\\"blacklist_algos\\\":[\\\"TensorFlowDNN\\\",\\\"TensorFlowLinearRegressor\\\"],\\\"supported_models\\\":[\\\"TensorFlowLinearRegressor\\\",\\\"GradientBoosting\\\",\\\"TabnetRegressor\\\",\\\"LightGBM\\\",\\\"FastLinearRegressor\\\",\\\"DecisionTree\\\",\\\"OnlineGradientDescentRegressor\\\",\\\"SGD\\\",\\\"KNN\\\",\\\"LassoLars\\\",\\\"ExtremeRandomTrees\\\",\\\"TensorFlowDNN\\\",\\\"XGBoostRegressor\\\",\\\"RandomForest\\\",\\\"ElasticNet\\\"],\\\"private_models\\\":[],\\\"auto_blacklist\\\":true,\\\"blacklist_samples_reached\\\":false,\\\"exclude_nan_labels\\\":true,\\\"verbosity\\\":20,\\\"_debug_log\\\":\\\"azureml_automl.log\\\",\\\"show_warnings\\\":false,\\\"model_explainability\\\":true,\\\"service_url\\\":null,\\\"sdk_url\\\":null,\\\"sdk_packages\\\":null,\\\"enable_onnx_compatible_models\\\":false,\\\"enable_split_onnx_featurizer_estimator_models\\\":false,\\\"vm_type\\\":\\\"STANDARD_D2_V2\\\",\\\"telemetry_verbosity\\\":20,\\\"send_telemetry\\\":true,\\\"enable_dnn\\\":false,\\\"scenario\\\":\\\"AutoML\\\",\\\"environment_label\\\":null,\\\"save_mlflow\\\":false,\\\"enable_categorical_indicators\\\":false,\\\"force_text_dnn\\\":false,\\\"enable_feature_sweeping\\\":true,\\\"enable_early_stopping\\\":true,\\\"early_stopping_n_iters\\\":10,\\\"arguments\\\":null,\\\"dataset_id\\\":\\\"f4459575-4258-4d94-9b5c-0338e7032f7a\\\",\\\"hyperdrive_config\\\":null,\\\"validation_dataset_id\\\":null,\\\"run_source\\\":null,\\\"metrics\\\":null,\\\"enable_metric_confidence\\\":false,\\\"enable_ensembling\\\":true,\\\"enable_stack_ensembling\\\":true,\\\"ensemble_iterations\\\":15,\\\"enable_tf\\\":false,\\\"enable_subsampling\\\":null,\\\"subsample_seed\\\":null,\\\"enable_nimbusml\\\":false,\\\"enable_streaming\\\":false,\\\"force_streaming\\\":false,\\\"track_child_runs\\\":true,\\\"n_best_runs\\\":1,\\\"allowed_private_models\\\":[],\\\"label_column_name\\\":\\\"total_UPDRS\\\",\\\"weight_column_name\\\":null,\\\"cv_split_column_names\\\":null,\\\"enable_local_managed\\\":false,\\\"_local_managed_run_id\\\":null,\\\"cost_mode\\\":1,\\\"lag_length\\\":0,\\\"metric_operation\\\":\\\"maximize\\\",\\\"preprocess\\\":true}\", \"DataPrepJsonString\": \"{\\\\\\\"training_data\\\\\\\": {\\\\\\\"datasetId\\\\\\\": \\\\\\\"f4459575-4258-4d94-9b5c-0338e7032f7a\\\\\\\"}, \\\\\\\"datasets\\\\\\\": 0}\", \"EnableSubsampling\": null, \"runTemplate\": \"AutoML\", \"azureml.runsource\": \"automl\", \"display_task_type\": \"regression\", \"dependencies_versions\": \"{\\\"azureml-dataprep-native\\\": \\\"38.0.0\\\", \\\"azureml-dataprep\\\": \\\"4.10.8\\\", \\\"azureml-dataprep-rslex\\\": \\\"2.17.12\\\", \\\"azureml-train-automl-runtime\\\": \\\"1.51.0.post2\\\", \\\"azureml-train-automl-client\\\": \\\"1.51.0.post1\\\", \\\"azureml-training-tabular\\\": \\\"1.51.0.post1\\\", \\\"azureml-automl-runtime\\\": \\\"1.51.0.post1\\\", \\\"azureml-automl-core\\\": \\\"1.51.0.post1\\\", \\\"azureml-mlflow\\\": \\\"1.51.0\\\", \\\"azureml-datadrift\\\": \\\"1.51.0\\\", \\\"azureml-pipeline\\\": \\\"1.51.0\\\", \\\"azureml-contrib-dataset\\\": \\\"1.51.0\\\", \\\"azureml-contrib-notebook\\\": \\\"1.51.0\\\", \\\"azureml-accel-models\\\": \\\"1.51.0\\\", \\\"azureml-automl-dnn-nlp\\\": \\\"1.51.0\\\", \\\"azureml-pipeline-core\\\": \\\"1.51.0\\\", \\\"azureml-responsibleai\\\": \\\"1.51.0\\\", \\\"azureml-contrib-automl-pipeline-steps\\\": \\\"1.51.0\\\", \\\"azureml-pipeline-steps\\\": \\\"1.51.0\\\", \\\"azureml-core\\\": \\\"1.51.0\\\", \\\"azureml-contrib-reinforcementlearning\\\": \\\"1.51.0\\\", \\\"azureml-contrib-server\\\": \\\"1.51.0\\\", \\\"azureml-opendatasets\\\": \\\"1.51.0\\\", \\\"azureml-contrib-services\\\": \\\"1.51.0\\\", \\\"azureml-telemetry\\\": \\\"1.51.0\\\", \\\"azureml-train-restclients-hyperdrive\\\": \\\"1.51.0\\\", \\\"azureml-interpret\\\": \\\"1.51.0\\\", \\\"azureml-train-core\\\": \\\"1.51.0\\\", \\\"azureml-tensorboard\\\": \\\"1.51.0\\\", \\\"azureml-train\\\": \\\"1.51.0\\\", \\\"azureml-contrib-pipeline-steps\\\": \\\"1.51.0\\\", \\\"azureml-explain-model\\\": \\\"1.51.0\\\", \\\"azureml-cli-common\\\": \\\"1.51.0\\\", \\\"azureml-widgets\\\": \\\"1.51.0\\\", \\\"azureml-train-automl\\\": \\\"1.51.0\\\", \\\"azureml-defaults\\\": \\\"1.51.0\\\", \\\"azureml-contrib-fairness\\\": \\\"1.51.0\\\", \\\"azureml-sdk\\\": \\\"1.51.0\\\", \\\"azureml-dataset-runtime\\\": \\\"1.51.0\\\", \\\"azureml-inference-server-http\\\": \\\"0.8.4\\\"}\", \"_aml_system_scenario_identification\": \"Remote.Parent\", \"ClientType\": \"SDK\", \"PlatformVersion\": \"DPV1\", \"environment_cpu_name\": \"AzureML-AutoML\", \"environment_cpu_label\": \"scikit-upgrade2\", \"environment_gpu_name\": \"AzureML-AutoML-GPU\", \"environment_gpu_label\": \"scikit-upgrade2\", \"root_attribution\": \"automl\", \"attribution\": \"AutoML\", \"Orchestrator\": \"AutoML\", \"CancelUri\": \"https://westeurope.api.azureml.ms/jasmine/v1.0/subscriptions/610d6e37-4747-4a20-80eb-3aad70a55f43/resourceGroups/aml-quickstarts-259725/providers/Microsoft.MachineLearningServices/workspaces/quick-starts-ws-259725/experimentids/cc60306f-70ee-4d57-abae-5a6e5692c217/cancel/AutoML_b17b0511-213f-4a47-8f1c-d07a4bf23e89\", \"ClientSdkVersion\": null, \"snapshotId\": \"00000000-0000-0000-0000-000000000000\", \"SetupRunId\": \"AutoML_b17b0511-213f-4a47-8f1c-d07a4bf23e89_setup\", \"SetupRunContainerId\": \"dcid.AutoML_b17b0511-213f-4a47-8f1c-d07a4bf23e89_setup\", \"FeaturizationRunJsonPath\": \"featurizer_container.json\", \"FeaturizationRunId\": \"AutoML_b17b0511-213f-4a47-8f1c-d07a4bf23e89_featurize\", \"ProblemInfoJsonString\": \"{\\\"dataset_num_categorical\\\": 0, \\\"is_sparse\\\": true, \\\"subsampling\\\": false, \\\"has_extra_col\\\": true, \\\"dataset_classes\\\": 1129, \\\"dataset_features\\\": 41, \\\"dataset_samples\\\": 5875, \\\"single_frequency_class_detected\\\": false}\", \"ModelExplainRunId\": \"AutoML_b17b0511-213f-4a47-8f1c-d07a4bf23e89_ModelExplain\"}, \"tags\": {\"model_explain_run\": \"best_run\", \"_aml_system_automl_run_workspace_id\": \"5ef9f488-5b66-4922-a456-f109d0543893\", \"_aml_system_azureml.automlComponent\": \"AutoML\", \"pipeline_id_000\": \"faf12f74cf9bbd358ca5525682c5030d36f7be7c;4bc4ec47eb8df2d5d68b361cd60120e65196f757;5cc37daec73ea64276ef956449645cdb519fdfc6;ae729f09378486945c70eb2a2306f8aa8f4e30a7;6a894202d038ecb5c7c417bf556f9786ed0f13c6;81a8315d6cda43021ef8ee13d5b3fcd926dba303;be29dd8ef9fe83f67909ad067b2ee360837567fa;15e58541c67098b65d03a6b93fca780f681c9f5e;1a94a47ceeb6e3de4d1586870eb0b5b46f9d2ff9;4c058409e6cc4a503b1146122046abe088414f8f;fe3e28c574c755f8ec9262097b6f2abaa1264f15;b5402e5e23e95d034621783c5097813f7fc3f147;eb4d67c62276b68592794641b4cbbee89720c733;6d09a0ee795a43e895132ff95166dba8e141aaea;e855d207cec0cd6487cd2dcd249b6cc655413e4d;abf1e76263c97dcb245e2e3c22af8672bca98a18;3000cb830d1cd19900206d2bef770e4da509572b;786564a58f2bed5c06fb589cbded991e6c6aded9;1183faa528839e9068f57c94d547d1b73e786709;a4bd1e74e73eeac38f9bc82356003852c9ed36f7;918157fc95daf9e05037762cef0897b7a17c8891;7d7fdfe415b40c2f22681f44bb394f0c21fcbff4;3d9c0310cb57ef382e0155a4be245cfb1992025c;2dc2326826482ba0a5a048786ceaa274d132ccb8;b91fd684cb45a535d66b96c384c1995e6fdd4d79;9ef9cf7d41ac49d6df84fc323024df5303803877;2aca8b4b45fc09a61ced83f2066b98f8aebf676c;481fb24ec6dd42126b5c8e7effde8f3c0a6326fb;3936c8c40a994257080eedc3d7b10c588f2d5eb7;ff6eb7b991cf6c3c4e067233d8a4135ea51e5973;dec09e2f24c7681dd30dd1270b664eb1b49ed3a2;7655a9c035deeec815b6c5ea0187fd2251e31a02;86164c884f90fee6af12057f4d43573b034f1937;7fbc883feed3467252e78a00899def91c949f156;ef2e004db792a7e878ab3d36dc483696d1c157b8;e8c1c265d6d883e90b11ff3c7e1145d035ed76b6;210f144c87f3796536a5d885420ab1ab111bc01a;30c4cfe5e2acf598074314c6dc9854cc8407b9b0;__AutoML_Stack_Ensemble__;__AutoML_Ensemble__\", \"score_000\": \"0.9683604161159348;0.9767086445538942;-1;0.7397556165505857;0.8824847049663201;0.879040910947196;0.8479509547649456;0.37848146857006054;0.7404131933896908;0.9530380532314723;0.8962075644192823;0.7398520451455598;0.94853724443032;0.3515506634571757;0.972782806729438;0.16262702109687566;0.11130366006569718;0.738301498335615;0.96486816710227;0.7342167664240127;0.3527091060839864;0.5842075435458021;-1;-1;0.9435422963607302;0.4392867336790413;0.8325908480856629;0.9528179598897933;0.6565087413868098;0.5627195114254527;-1;0.7039252658752625;0.9416140677974442;0.6264629042914672;0.9074268386635215;NaN;NaN;0.135907923368026;0.9795350904582772;0.9795087150922505\", \"predicted_cost_000\": \"0;0;0.5;0.5;0.5;0.5;0.5;0.5;0.5;0.5;0.5;0.5;0.5;0.5;0.5;0.5;0.5;0.5;0.5;0.5;0.2790116939668722;0.19749261232267226;1.0777925562626136;2.609018776988716;0.35199453976440004;0.03774045666146083;0.3316710291548326;0.004692524495747731;0.02679417327359206;0.10710518864659697;25.03520086741957;0.10345328657434891;0.00514129673488626;2.308993666810362;0.006384019734522857;0.008956924548686636;1.4095723238906184;1.24807945710842;0;0\", \"fit_time_000\": \"0.3708113333333333;1.456607;1.0266359999999999;0.2565243333333333;0.10589166666666666;0.5161953333333335;1.2045263333333334;0.8339576666666667;3.420015;0.858606;0.43155600000000005;0.2079986666666667;13.135132;9.077591;2.3140706666666664;0.018548;1.453919;0.07402633333333333;0.630569;0.14535333333333333;0.012546666666666666;0.052980666666666655;0.07773833333333334;0.33823333333333333;5.062457333333334;0.06804833333333334;0.7000190000000001;0.19705266666666665;0.08681699999999999;0.500738;1.7199793333333335;0.07546733333333333;0.16388966666666668;7.01073;0.14343633333333333;NaN;NaN;0.36487766666666666;23;22\", \"training_percent_000\": \"100;100;100;100;100;100;100;100;100;100;100;100;100;100;100;100;100;100;100;100;100;100;100;100;100;100;100;100;100;100;100;100;100;100;100;100;100;100;100;100\", \"iteration_000\": \"0;1;2;3;4;5;6;7;8;9;10;11;12;13;14;15;16;17;18;19;20;23;24;26;25;21;22;27;28;29;30;31;33;32;34;37;36;35;39;38\", \"run_preprocessor_000\": \"MaxAbsScaler;MaxAbsScaler;StandardScalerWrapper;MaxAbsScaler;MaxAbsScaler;SparseNormalizer;MaxAbsScaler;MaxAbsScaler;StandardScalerWrapper;SparseNormalizer;MaxAbsScaler;MaxAbsScaler;SparseNormalizer;MaxAbsScaler;StandardScalerWrapper;StandardScalerWrapper;MaxAbsScaler;StandardScalerWrapper;StandardScalerWrapper;StandardScalerWrapper;StandardScalerWrapper;StandardScalerWrapper;SparseNormalizer;SparseNormalizer;StandardScalerWrapper;MaxAbsScaler;SparseNormalizer;StandardScalerWrapper;StandardScalerWrapper;MaxAbsScaler;TruncatedSVDWrapper;StandardScalerWrapper;StandardScalerWrapper;SparseNormalizer;StandardScalerWrapper;;;TruncatedSVDWrapper;;\", \"run_algorithm_000\": \"LightGBM;XGBoostRegressor;XGBoostRegressor;ElasticNet;LightGBM;XGBoostRegressor;RandomForest;RandomForest;ExtremeRandomTrees;XGBoostRegressor;ExtremeRandomTrees;ElasticNet;XGBoostRegressor;RandomForest;XGBoostRegressor;ElasticNet;RandomForest;ElasticNet;XGBoostRegressor;ExtremeRandomTrees;ElasticNet;LightGBM;XGBoostRegressor;XGBoostRegressor;ExtremeRandomTrees;DecisionTree;ExtremeRandomTrees;DecisionTree;LightGBM;GradientBoosting;XGBoostRegressor;SGD;DecisionTree;RandomForest;DecisionTree;;;XGBoostRegressor;StackEnsemble;VotingEnsemble\", \"dynamic_allowlisting_iterations\": \"<24>;<30>;<35>;\", \"_aml_system_azureml.automl_early_exit_message\": \"No scores improved over last 10 iterations, so experiment stopped early. This early stopping behavior can be disabled by setting enable_early_stopping = False in AutoMLConfig for notebook/python SDK runs.\", \"automl_best_child_run_id\": \"AutoML_b17b0511-213f-4a47-8f1c-d07a4bf23e89_39\", \"model_explain_best_run_child_id\": \"AutoML_b17b0511-213f-4a47-8f1c-d07a4bf23e89_39\"}, \"end_time_utc\": \"2024-05-26T19:32:20.996156Z\", \"status\": \"Completed\", \"log_files\": {}, \"log_groups\": [], \"run_duration\": \"0:27:44\", \"run_number\": \"1716750276\", \"run_queued_details\": {\"status\": \"Completed\", \"details\": null}}, \"child_runs\": [{\"run_id\": \"AutoML_b17b0511-213f-4a47-8f1c-d07a4bf23e89_setup\", \"run_number\": 1716750289, \"metric\": null, \"status\": \"Completed\", \"run_type\": \"azureml.scriptrun\", \"training_percent\": null, \"start_time\": \"2024-05-26T19:10:41.551023Z\", \"end_time\": \"2024-05-26T19:14:01.683999Z\", \"created_time\": \"2024-05-26T19:04:49.277236Z\", \"created_time_dt\": \"2024-05-26T19:04:49.277236Z\", \"duration\": \"0:09:12\", \"iteration\": null, \"goal\": null, \"run_name\": \"Completed\", \"run_properties\": null}, {\"run_id\": \"AutoML_b17b0511-213f-4a47-8f1c-d07a4bf23e89_featurize\", \"run_number\": 1716750842, \"metric\": null, \"status\": \"Completed\", \"run_type\": \"automl.featurization\", \"training_percent\": null, \"start_time\": \"2024-05-26T19:14:02.650609Z\", \"end_time\": \"2024-05-26T19:16:17.833198Z\", \"created_time\": \"2024-05-26T19:14:02.04199Z\", \"created_time_dt\": \"2024-05-26T19:14:02.04199Z\", \"duration\": \"0:02:15\", \"iteration\": null, \"goal\": null, \"run_name\": \"Completed\", \"run_properties\": null}, {\"run_id\": \"AutoML_b17b0511-213f-4a47-8f1c-d07a4bf23e89_0\", \"run_number\": 1716750979, \"metric\": null, \"status\": \"Completed\", \"run_type\": null, \"training_percent\": \"100\", \"start_time\": \"2024-05-26T19:17:00.447274Z\", \"end_time\": \"2024-05-26T19:17:17.445814Z\", \"created_time\": \"2024-05-26T19:16:19.684913Z\", \"created_time_dt\": \"2024-05-26T19:16:19.684913Z\", \"duration\": \"0:00:57\", \"iteration\": \"0\", \"goal\": \"r2_score_max\", \"run_name\": \"MaxAbsScaler, LightGBM\", \"run_properties\": \"copy=True\", \"primary_metric\": 0.96836042, \"best_metric\": 0.96836042}, {\"run_id\": \"AutoML_b17b0511-213f-4a47-8f1c-d07a4bf23e89_1\", \"run_number\": 1716750980, \"metric\": null, \"status\": \"Completed\", \"run_type\": null, \"training_percent\": \"100\", \"start_time\": \"2024-05-26T19:17:18.45277Z\", \"end_time\": \"2024-05-26T19:17:37.362893Z\", \"created_time\": \"2024-05-26T19:16:20.370322Z\", \"created_time_dt\": \"2024-05-26T19:16:20.370322Z\", \"duration\": \"0:01:16\", \"iteration\": \"1\", \"goal\": \"r2_score_max\", \"run_name\": \"MaxAbsScaler, XGBoostRegressor\", \"run_properties\": \"copy=True\", \"primary_metric\": 0.97670864, \"best_metric\": 0.97670864}, {\"run_id\": \"AutoML_b17b0511-213f-4a47-8f1c-d07a4bf23e89_worker_0\", \"run_number\": 1716750981, \"metric\": null, \"status\": \"Completed\", \"run_type\": \"azureml.scriptrun\", \"training_percent\": null, \"start_time\": \"2024-05-26T19:16:47.640747Z\", \"end_time\": \"2024-05-26T19:18:19.95815Z\", \"created_time\": \"2024-05-26T19:16:21.847286Z\", \"created_time_dt\": \"2024-05-26T19:16:21.847286Z\", \"duration\": \"0:01:58\", \"iteration\": null, \"goal\": null, \"run_name\": \"Completed\", \"run_properties\": null}, {\"run_id\": \"AutoML_b17b0511-213f-4a47-8f1c-d07a4bf23e89_4\", \"run_number\": 1716750982, \"metric\": null, \"status\": \"Completed\", \"run_type\": null, \"training_percent\": \"100\", \"start_time\": \"2024-05-26T19:18:46.579829Z\", \"end_time\": \"2024-05-26T19:19:01.160189Z\", \"created_time\": \"2024-05-26T19:16:22.046679Z\", \"created_time_dt\": \"2024-05-26T19:16:22.046679Z\", \"duration\": \"0:02:39\", \"iteration\": \"4\", \"goal\": \"r2_score_max\", \"run_name\": \"MaxAbsScaler, LightGBM\", \"run_properties\": \"copy=True\", \"primary_metric\": 0.8824847, \"best_metric\": 0.97670864}, {\"run_id\": \"AutoML_b17b0511-213f-4a47-8f1c-d07a4bf23e89_6\", \"run_number\": 1716750983, \"metric\": null, \"status\": \"Completed\", \"run_type\": null, \"training_percent\": \"100\", \"start_time\": \"2024-05-26T19:19:17.047334Z\", \"end_time\": \"2024-05-26T19:19:33.830669Z\", \"created_time\": \"2024-05-26T19:16:23.175203Z\", \"created_time_dt\": \"2024-05-26T19:16:23.175203Z\", \"duration\": \"0:03:10\", \"iteration\": \"6\", \"goal\": \"r2_score_max\", \"run_name\": \"MaxAbsScaler, RandomForest\", \"run_properties\": \"copy=True\", \"primary_metric\": 0.84795095, \"best_metric\": 0.97670864}, {\"run_id\": \"AutoML_b17b0511-213f-4a47-8f1c-d07a4bf23e89_worker_1\", \"run_number\": 1716750984, \"metric\": null, \"status\": \"Completed\", \"run_type\": \"azureml.scriptrun\", \"training_percent\": null, \"start_time\": \"2024-05-26T19:18:31.990307Z\", \"end_time\": \"2024-05-26T19:20:00.316265Z\", \"created_time\": \"2024-05-26T19:16:23.995855Z\", \"created_time_dt\": \"2024-05-26T19:16:23.995855Z\", \"duration\": \"0:03:36\", \"iteration\": null, \"goal\": null, \"run_name\": \"Completed\", \"run_properties\": null}, {\"run_id\": \"AutoML_b17b0511-213f-4a47-8f1c-d07a4bf23e89_10\", \"run_number\": 1716750985, \"metric\": null, \"status\": \"Completed\", \"run_type\": null, \"training_percent\": \"100\", \"start_time\": \"2024-05-26T19:21:16.283383Z\", \"end_time\": \"2024-05-26T19:21:30.135584Z\", \"created_time\": \"2024-05-26T19:16:25.426573Z\", \"created_time_dt\": \"2024-05-26T19:16:25.426573Z\", \"duration\": \"0:05:04\", \"iteration\": \"10\", \"goal\": \"r2_score_max\", \"run_name\": \"MaxAbsScaler, ExtremeRandomTrees\", \"run_properties\": \"copy=True\", \"primary_metric\": 0.89620756, \"best_metric\": 0.97670864}, {\"run_id\": \"AutoML_b17b0511-213f-4a47-8f1c-d07a4bf23e89_worker_2\", \"run_number\": 1716750986, \"metric\": null, \"status\": \"Completed\", \"run_type\": \"azureml.scriptrun\", \"training_percent\": null, \"start_time\": \"2024-05-26T19:20:16.951462Z\", \"end_time\": \"2024-05-26T19:21:53.811855Z\", \"created_time\": \"2024-05-26T19:16:26.306084Z\", \"created_time_dt\": \"2024-05-26T19:16:26.306084Z\", \"duration\": \"0:05:27\", \"iteration\": null, \"goal\": null, \"run_name\": \"Completed\", \"run_properties\": null}, {\"run_id\": \"AutoML_b17b0511-213f-4a47-8f1c-d07a4bf23e89_13\", \"run_number\": 1716750987, \"metric\": null, \"status\": \"Completed\", \"run_type\": null, \"training_percent\": \"100\", \"start_time\": \"2024-05-26T19:23:39.236172Z\", \"end_time\": \"2024-05-26T19:24:31.845494Z\", \"created_time\": \"2024-05-26T19:16:27.104438Z\", \"created_time_dt\": \"2024-05-26T19:16:27.104438Z\", \"duration\": \"0:08:04\", \"iteration\": \"13\", \"goal\": \"r2_score_max\", \"run_name\": \"MaxAbsScaler, RandomForest\", \"run_properties\": \"copy=True\", \"primary_metric\": 0.35155066, \"best_metric\": 0.97670864}, {\"run_id\": \"AutoML_b17b0511-213f-4a47-8f1c-d07a4bf23e89_worker_3\", \"run_number\": 1716750988, \"metric\": null, \"status\": \"Completed\", \"run_type\": \"azureml.scriptrun\", \"training_percent\": null, \"start_time\": \"2024-05-26T19:22:08.932989Z\", \"end_time\": \"2024-05-26T19:25:18.054434Z\", \"created_time\": \"2024-05-26T19:16:28.395008Z\", \"created_time_dt\": \"2024-05-26T19:16:28.395008Z\", \"duration\": \"0:08:49\", \"iteration\": null, \"goal\": null, \"run_name\": \"Completed\", \"run_properties\": null}, {\"run_id\": \"AutoML_b17b0511-213f-4a47-8f1c-d07a4bf23e89_17\", \"run_number\": 1716750989, \"metric\": null, \"status\": \"Completed\", \"run_type\": null, \"training_percent\": \"100\", \"start_time\": \"2024-05-26T19:25:25.141274Z\", \"end_time\": \"2024-05-26T19:25:37.464758Z\", \"created_time\": \"2024-05-26T19:16:29.27348Z\", \"created_time_dt\": \"2024-05-26T19:16:29.27348Z\", \"duration\": \"0:09:08\", \"iteration\": \"17\", \"goal\": \"r2_score_max\", \"run_name\": \"StandardScalerWrapper, ElasticNet\", \"run_properties\": \"copy=True, with_mean=False, with_std=True\", \"primary_metric\": 0.7383015, \"best_metric\": 0.97670864}, {\"run_id\": \"AutoML_b17b0511-213f-4a47-8f1c-d07a4bf23e89_worker_4\", \"run_number\": 1716750990, \"metric\": null, \"status\": \"Completed\", \"run_type\": \"azureml.scriptrun\", \"training_percent\": null, \"start_time\": \"2024-05-26T19:22:20.228931Z\", \"end_time\": \"2024-05-26T19:26:16.356964Z\", \"created_time\": \"2024-05-26T19:16:30.573844Z\", \"created_time_dt\": \"2024-05-26T19:16:30.573844Z\", \"duration\": \"0:09:45\", \"iteration\": null, \"goal\": null, \"run_name\": \"Completed\", \"run_properties\": null}, {\"run_id\": \"AutoML_b17b0511-213f-4a47-8f1c-d07a4bf23e89_22\", \"run_number\": 1716751512, \"metric\": null, \"status\": \"Completed\", \"run_type\": \"azureml.scriptrun\", \"training_percent\": \"100\", \"start_time\": \"2024-05-26T19:25:40.97783Z\", \"end_time\": \"2024-05-26T19:28:48.218317Z\", \"created_time\": \"2024-05-26T19:25:12.010133Z\", \"created_time_dt\": \"2024-05-26T19:25:12.010133Z\", \"duration\": \"0:03:36\", \"iteration\": \"22\", \"goal\": \"r2_score_max\", \"run_name\": \"SparseNormalizer, ExtremeRandomTrees\", \"run_properties\": \"copy=True, norm='l1'\", \"primary_metric\": 0.83259085, \"best_metric\": 0.97670864}, {\"run_id\": \"AutoML_b17b0511-213f-4a47-8f1c-d07a4bf23e89_23\", \"run_number\": 1716751556, \"metric\": null, \"status\": \"Completed\", \"run_type\": \"azureml.scriptrun\", \"training_percent\": \"100\", \"start_time\": \"2024-05-26T19:26:32.376301Z\", \"end_time\": \"2024-05-26T19:27:08.58448Z\", \"created_time\": \"2024-05-26T19:25:56.178414Z\", \"created_time_dt\": \"2024-05-26T19:25:56.178414Z\", \"duration\": \"0:01:12\", \"iteration\": \"23\", \"goal\": \"r2_score_max\", \"run_name\": \"StandardScalerWrapper, LightGBM\", \"run_properties\": \"copy=True, with_mean=False, with_std=True\", \"primary_metric\": 0.58420754, \"best_metric\": 0.97670864}, {\"run_id\": \"AutoML_b17b0511-213f-4a47-8f1c-d07a4bf23e89_24\", \"run_number\": 1716751585, \"metric\": null, \"status\": \"Completed\", \"run_type\": \"azureml.scriptrun\", \"training_percent\": \"100\", \"start_time\": \"2024-05-26T19:26:46.9037Z\", \"end_time\": \"2024-05-26T19:27:23.695029Z\", \"created_time\": \"2024-05-26T19:26:25.973628Z\", \"created_time_dt\": \"2024-05-26T19:26:25.973628Z\", \"duration\": \"0:00:57\", \"iteration\": \"24\", \"goal\": \"r2_score_max\", \"run_name\": \"SparseNormalizer, XGBoostRegressor\", \"run_properties\": \"copy=True, norm='l1'\", \"primary_metric\": -1.0, \"best_metric\": 0.97670864}, {\"run_id\": \"AutoML_b17b0511-213f-4a47-8f1c-d07a4bf23e89_26\", \"run_number\": 1716751630, \"metric\": null, \"status\": \"Completed\", \"run_type\": \"azureml.scriptrun\", \"training_percent\": \"100\", \"start_time\": \"2024-05-26T19:27:38.279435Z\", \"end_time\": \"2024-05-26T19:28:15.215663Z\", \"created_time\": \"2024-05-26T19:27:10.650471Z\", \"created_time_dt\": \"2024-05-26T19:27:10.650471Z\", \"duration\": \"0:01:04\", \"iteration\": \"26\", \"goal\": \"r2_score_max\", \"run_name\": \"SparseNormalizer, XGBoostRegressor\", \"run_properties\": \"copy=True, norm='l1'\", \"primary_metric\": -1.0, \"best_metric\": 0.97670864}, {\"run_id\": \"AutoML_b17b0511-213f-4a47-8f1c-d07a4bf23e89_27\", \"run_number\": 1716751645, \"metric\": null, \"status\": \"Completed\", \"run_type\": \"azureml.scriptrun\", \"training_percent\": \"100\", \"start_time\": \"2024-05-26T19:28:29.881798Z\", \"end_time\": \"2024-05-26T19:29:06.870213Z\", \"created_time\": \"2024-05-26T19:27:25.762072Z\", \"created_time_dt\": \"2024-05-26T19:27:25.762072Z\", \"duration\": \"0:01:41\", \"iteration\": \"27\", \"goal\": \"r2_score_max\", \"run_name\": \"StandardScalerWrapper, DecisionTree\", \"run_properties\": \"copy=True, with_mean=False, with_std=True\", \"primary_metric\": 0.95281796, \"best_metric\": 0.97670864}, {\"run_id\": \"AutoML_b17b0511-213f-4a47-8f1c-d07a4bf23e89_28\", \"run_number\": 1716751697, \"metric\": null, \"status\": \"Completed\", \"run_type\": \"azureml.scriptrun\", \"training_percent\": \"100\", \"start_time\": \"2024-05-26T19:28:39.169873Z\", \"end_time\": \"2024-05-26T19:29:13.941532Z\", \"created_time\": \"2024-05-26T19:28:17.247039Z\", \"created_time_dt\": \"2024-05-26T19:28:17.247039Z\", \"duration\": \"0:00:56\", \"iteration\": \"28\", \"goal\": \"r2_score_max\", \"run_name\": \"StandardScalerWrapper, LightGBM\", \"run_properties\": \"copy=True, with_mean=False, with_std=False\", \"primary_metric\": 0.65650874, \"best_metric\": 0.97670864}, {\"run_id\": \"AutoML_b17b0511-213f-4a47-8f1c-d07a4bf23e89_29\", \"run_number\": 1716751699, \"metric\": null, \"status\": \"Completed\", \"run_type\": \"azureml.scriptrun\", \"training_percent\": \"100\", \"start_time\": \"2024-05-26T19:29:00.01618Z\", \"end_time\": \"2024-05-26T19:29:36.445561Z\", \"created_time\": \"2024-05-26T19:28:19.740041Z\", \"created_time_dt\": \"2024-05-26T19:28:19.740041Z\", \"duration\": \"0:01:16\", \"iteration\": \"29\", \"goal\": \"r2_score_max\", \"run_name\": \"MaxAbsScaler, GradientBoosting\", \"run_properties\": \"copy=True\", \"primary_metric\": 0.56271951, \"best_metric\": 0.97670864}, {\"run_id\": \"AutoML_b17b0511-213f-4a47-8f1c-d07a4bf23e89_30\", \"run_number\": 1716751726, \"metric\": null, \"status\": \"Completed\", \"run_type\": \"azureml.scriptrun\", \"training_percent\": \"100\", \"start_time\": \"2024-05-26T19:29:09.351304Z\", \"end_time\": \"2024-05-26T19:29:52.250803Z\", \"created_time\": \"2024-05-26T19:28:46.642628Z\", \"created_time_dt\": \"2024-05-26T19:28:46.642628Z\", \"duration\": \"0:01:05\", \"iteration\": \"30\", \"goal\": \"r2_score_max\", \"run_name\": \"TruncatedSVDWrapper, XGBoostRegressor\", \"run_properties\": \"n_components=0.40578947368421053, random_state=None\", \"primary_metric\": -1.0, \"best_metric\": 0.97670864}, {\"run_id\": \"AutoML_b17b0511-213f-4a47-8f1c-d07a4bf23e89_31\", \"run_number\": 1716751730, \"metric\": null, \"status\": \"Completed\", \"run_type\": \"azureml.scriptrun\", \"training_percent\": \"100\", \"start_time\": \"2024-05-26T19:29:21.600329Z\", \"end_time\": \"2024-05-26T19:29:57.462799Z\", \"created_time\": \"2024-05-26T19:28:50.225356Z\", \"created_time_dt\": \"2024-05-26T19:28:50.225356Z\", \"duration\": \"0:01:07\", \"iteration\": \"31\", \"goal\": \"r2_score_max\", \"run_name\": \"StandardScalerWrapper, SGD\", \"run_properties\": \"copy=True, with_mean=False, with_std=True\", \"primary_metric\": 0.70392527, \"best_metric\": 0.97670864}, {\"run_id\": \"AutoML_b17b0511-213f-4a47-8f1c-d07a4bf23e89_32\", \"run_number\": 1716751748, \"metric\": null, \"status\": \"Completed\", \"run_type\": \"azureml.scriptrun\", \"training_percent\": \"100\", \"start_time\": \"2024-05-26T19:29:31.549263Z\", \"end_time\": \"2024-05-26T19:30:37.429078Z\", \"created_time\": \"2024-05-26T19:29:08.722328Z\", \"created_time_dt\": \"2024-05-26T19:29:08.722328Z\", \"duration\": \"0:01:28\", \"iteration\": \"32\", \"goal\": \"r2_score_max\", \"run_name\": \"SparseNormalizer, RandomForest\", \"run_properties\": \"copy=True, norm='l2'\", \"primary_metric\": 0.6264629, \"best_metric\": 0.97670864}, {\"run_id\": \"AutoML_b17b0511-213f-4a47-8f1c-d07a4bf23e89_33\", \"run_number\": 1716751755, \"metric\": null, \"status\": \"Completed\", \"run_type\": \"azureml.scriptrun\", \"training_percent\": \"100\", \"start_time\": \"2024-05-26T19:29:52.763426Z\", \"end_time\": \"2024-05-26T19:30:26.862089Z\", \"created_time\": \"2024-05-26T19:29:15.716086Z\", \"created_time_dt\": \"2024-05-26T19:29:15.716086Z\", \"duration\": \"0:01:11\", \"iteration\": \"33\", \"goal\": \"r2_score_max\", \"run_name\": \"StandardScalerWrapper, DecisionTree\", \"run_properties\": \"copy=True, with_mean=False, with_std=True\", \"primary_metric\": 0.94161407, \"best_metric\": 0.97670864}, {\"run_id\": \"AutoML_b17b0511-213f-4a47-8f1c-d07a4bf23e89_34\", \"run_number\": 1716751778, \"metric\": null, \"status\": \"Completed\", \"run_type\": \"azureml.scriptrun\", \"training_percent\": \"100\", \"start_time\": \"2024-05-26T19:30:07.89789Z\", \"end_time\": \"2024-05-26T19:30:41.392021Z\", \"created_time\": \"2024-05-26T19:29:38.396959Z\", \"created_time_dt\": \"2024-05-26T19:29:38.396959Z\", \"duration\": \"0:01:02\", \"iteration\": \"34\", \"goal\": \"r2_score_max\", \"run_name\": \"StandardScalerWrapper, DecisionTree\", \"run_properties\": \"copy=True, with_mean=False, with_std=True\", \"primary_metric\": 0.90742684, \"best_metric\": 0.97670864}, {\"run_id\": \"AutoML_b17b0511-213f-4a47-8f1c-d07a4bf23e89_35\", \"run_number\": 1716751795, \"metric\": null, \"status\": \"Canceled\", \"run_type\": \"azureml.scriptrun\", \"training_percent\": \"100\", \"start_time\": \"2024-05-26T19:30:17.431848Z\", \"end_time\": \"2024-05-26T19:30:44.603791Z\", \"created_time\": \"2024-05-26T19:29:55.448467Z\", \"created_time_dt\": \"2024-05-26T19:29:55.448467Z\", \"duration\": \"0:00:49\", \"iteration\": \"35\", \"goal\": \"r2_score_max\", \"run_name\": \"TruncatedSVDWrapper, XGBoostRegressor\", \"run_properties\": \"n_components=0.01, random_state=None\", \"primary_metric\": 0.13590792, \"best_metric\": 0.97670864}, {\"run_id\": \"AutoML_b17b0511-213f-4a47-8f1c-d07a4bf23e89_36\", \"run_number\": 1716751799, \"metric\": null, \"status\": \"Canceled\", \"run_type\": \"azureml.scriptrun\", \"training_percent\": \"100\", \"start_time\": \"2024-05-26T19:30:38.262616Z\", \"end_time\": \"2024-05-26T19:30:42.558736Z\", \"created_time\": \"2024-05-26T19:29:59.529007Z\", \"created_time_dt\": \"2024-05-26T19:29:59.529007Z\", \"duration\": \"0:00:43\", \"iteration\": \"36\", \"goal\": null, \"run_name\": \"Canceled\", \"run_properties\": null}, {\"run_id\": \"AutoML_b17b0511-213f-4a47-8f1c-d07a4bf23e89_37\", \"run_number\": 1716751828, \"metric\": null, \"status\": \"Canceled\", \"run_type\": \"azureml.scriptrun\", \"training_percent\": \"100\", \"start_time\": \"2024-05-26T19:30:38.287572Z\", \"end_time\": \"2024-05-26T19:30:41.909483Z\", \"created_time\": \"2024-05-26T19:30:28.826341Z\", \"created_time_dt\": \"2024-05-26T19:30:28.826341Z\", \"duration\": \"0:00:13\", \"iteration\": \"37\", \"goal\": null, \"run_name\": \"Canceled\", \"run_properties\": null}, {\"run_id\": \"AutoML_b17b0511-213f-4a47-8f1c-d07a4bf23e89_39\", \"run_number\": 1716751845, \"metric\": null, \"status\": \"Completed\", \"run_type\": \"azureml.scriptrun\", \"training_percent\": \"100\", \"start_time\": \"2024-05-26T19:31:07.69792Z\", \"end_time\": \"2024-05-26T19:32:16.468255Z\", \"created_time\": \"2024-05-26T19:30:45.421181Z\", \"created_time_dt\": \"2024-05-26T19:30:45.421181Z\", \"duration\": \"0:01:31\", \"iteration\": \"39\", \"goal\": \"r2_score_max\", \"run_name\": \"StackEnsemble\", \"run_properties\": \"base_learners=[('1', Pipeline(memory=None, steps=[('maxabsscaler', MaxAbsScaler(copy=True\", \"primary_metric\": 0.97953509, \"best_metric\": 0.97953509}], \"children_metrics\": {\"categories\": [0], \"series\": {\"spearman_correlation\": [{\"categories\": [\"0\", \"1\", \"4\", \"6\", \"10\", \"13\", \"17\", \"22\", \"23\", \"24\", \"26\", \"27\", \"28\", \"29\", \"30\", \"31\", \"32\", \"33\", \"34\", \"35\", \"39\"], \"mode\": \"markers\", \"name\": \"spearman_correlation\", \"stepped\": false, \"type\": \"scatter\", \"data\": [0.9841713762998072, 0.9895364877558039, 0.9364877523974763, 0.9349238918341963, 0.9419214353330744, 0.5950545227444762, 0.8226030504711527, 0.9127617931560127, 0.7626895312808992, 0.738176481819818, 0.6158451916559263, 0.9767005215590862, 0.8783881950217145, 0.8126711824120791, 0.9160534874910985, 0.8068716080649182, 0.8254543573685703, 0.9709040169814109, 0.9487025088128153, 0.3425535113237086, 0.9907115077912038]}, {\"categories\": [\"0\", \"1\", \"4\", \"6\", \"10\", \"13\", \"17\", \"22\", \"23\", \"24\", \"26\", \"27\", \"28\", \"29\", \"30\", \"31\", \"32\", \"33\", \"34\", \"35\", \"39\"], \"mode\": \"lines\", \"name\": \"spearman_correlation_max\", \"stepped\": true, \"type\": \"scatter\", \"data\": [0.9841713762998072, 0.9895364877558039, 0.9895364877558039, 0.9895364877558039, 0.9895364877558039, 0.9895364877558039, 0.9895364877558039, 0.9895364877558039, 0.9895364877558039, 0.9895364877558039, 0.9895364877558039, 0.9895364877558039, 0.9895364877558039, 0.9895364877558039, 0.9895364877558039, 0.9895364877558039, 0.9895364877558039, 0.9895364877558039, 0.9895364877558039, 0.9895364877558039, 0.9907115077912038]}], \"normalized_root_mean_squared_error\": [{\"categories\": [\"0\", \"1\", \"4\", \"6\", \"10\", \"13\", \"17\", \"22\", \"23\", \"24\", \"26\", \"27\", \"28\", \"29\", \"30\", \"31\", \"32\", \"33\", \"34\", \"35\", \"39\"], \"mode\": \"markers\", \"name\": \"normalized_root_mean_squared_error\", \"stepped\": false, \"type\": \"scatter\", \"data\": [0.03963531143073636, 0.03396046304036029, 0.07633988952229898, 0.08691569638344032, 0.07180133970854582, 0.17945592704976487, 0.1139426328139889, 0.09120078226921052, 0.14370917092787555, 0.4069884130179034, 0.6201457995057267, 0.047854064591748235, 0.13063017037797353, 0.14738382039835754, 0.5766029944475929, 0.12118232690646398, 0.13617535113330542, 0.05329911211431972, 0.06699543554466104, 0.2071869956477077, 0.03184676672049142]}, {\"categories\": [\"0\", \"1\", \"4\", \"6\", \"10\", \"13\", \"17\", \"22\", \"23\", \"24\", \"26\", \"27\", \"28\", \"29\", \"30\", \"31\", \"32\", \"33\", \"34\", \"35\", \"39\"], \"mode\": \"lines\", \"name\": \"normalized_root_mean_squared_error_min\", \"stepped\": true, \"type\": \"scatter\", \"data\": [0.03963531143073636, 0.03396046304036029, 0.03396046304036029, 0.03396046304036029, 0.03396046304036029, 0.03396046304036029, 0.03396046304036029, 0.03396046304036029, 0.03396046304036029, 0.03396046304036029, 0.03396046304036029, 0.03396046304036029, 0.03396046304036029, 0.03396046304036029, 0.03396046304036029, 0.03396046304036029, 0.03396046304036029, 0.03396046304036029, 0.03396046304036029, 0.03396046304036029, 0.03184676672049142]}], \"mean_absolute_percentage_error\": [{\"categories\": [\"0\", \"1\", \"4\", \"6\", \"10\", \"13\", \"17\", \"22\", \"23\", \"24\", \"26\", \"27\", \"28\", \"29\", \"30\", \"31\", \"32\", \"33\", \"34\", \"35\", \"39\"], \"mode\": \"markers\", \"name\": \"mean_absolute_percentage_error\", \"stepped\": false, \"type\": \"scatter\", \"data\": [5.592033345314273, 4.289710130717494, 11.573879048715048, 14.122575724153629, 11.623361227030486, 29.72558575192693, 18.33914130573531, 15.072271849800309, 24.012986727285494, 54.429010161559795, 95.25588304614526, 4.512670830774819, 22.525307532691784, 26.494655110197613, 88.413317781272, 19.115063232451725, 23.417138839420147, 6.422627464637135, 7.459681290630866, 35.879922772248, 3.938855858776408]}, {\"categories\": [\"0\", \"1\", \"4\", \"6\", \"10\", \"13\", \"17\", \"22\", \"23\", \"24\", \"26\", \"27\", \"28\", \"29\", \"30\", \"31\", \"32\", \"33\", \"34\", \"35\", \"39\"], \"mode\": \"lines\", \"name\": \"mean_absolute_percentage_error_min\", \"stepped\": true, \"type\": \"scatter\", \"data\": [5.592033345314273, 4.289710130717494, 4.289710130717494, 4.289710130717494, 4.289710130717494, 4.289710130717494, 4.289710130717494, 4.289710130717494, 4.289710130717494, 4.289710130717494, 4.289710130717494, 4.289710130717494, 4.289710130717494, 4.289710130717494, 4.289710130717494, 4.289710130717494, 4.289710130717494, 4.289710130717494, 4.289710130717494, 4.289710130717494, 3.938855858776408]}], \"explained_variance\": [{\"categories\": [\"0\", \"1\", \"4\", \"6\", \"10\", \"13\", \"17\", \"22\", \"23\", \"24\", \"26\", \"27\", \"28\", \"29\", \"30\", \"31\", \"32\", \"33\", \"34\", \"35\", \"39\"], \"mode\": \"markers\", \"name\": \"explained_variance\", \"stepped\": false, \"type\": \"scatter\", \"data\": [0.968407108741077, 0.9767454757429862, 0.8827664760174866, 0.8483624027210451, 0.8964474900217375, 0.3531650757516101, 0.7390348077238059, 0.8329954247511594, 0.5852256306137914, 0.21736268740394515, 0.02098286562909224, 0.9528517901722674, 0.6571990117058658, 0.563405686070885, 0.14208635422223284, 0.7050002497094457, 0.6272304330904078, 0.9416477409160201, 0.9076318845473031, 0.13698628910541025, 0.979587696518538]}, {\"categories\": [\"0\", \"1\", \"4\", \"6\", \"10\", \"13\", \"17\", \"22\", \"23\", \"24\", \"26\", \"27\", \"28\", \"29\", \"30\", \"31\", \"32\", \"33\", \"34\", \"35\", \"39\"], \"mode\": \"lines\", \"name\": \"explained_variance_max\", \"stepped\": true, \"type\": \"scatter\", \"data\": [0.968407108741077, 0.9767454757429862, 0.9767454757429862, 0.9767454757429862, 0.9767454757429862, 0.9767454757429862, 0.9767454757429862, 0.9767454757429862, 0.9767454757429862, 0.9767454757429862, 0.9767454757429862, 0.9767454757429862, 0.9767454757429862, 0.9767454757429862, 0.9767454757429862, 0.9767454757429862, 0.9767454757429862, 0.9767454757429862, 0.9767454757429862, 0.9767454757429862, 0.979587696518538]}], \"root_mean_squared_log_error\": [{\"categories\": [\"0\", \"1\", \"4\", \"6\", \"10\", \"13\", \"17\", \"22\", \"23\", \"24\", \"26\", \"27\", \"28\", \"29\", \"30\", \"31\", \"32\", \"33\", \"34\", \"35\", \"39\"], \"mode\": \"markers\", \"name\": \"root_mean_squared_log_error\", \"stepped\": false, \"type\": \"scatter\", \"data\": [0.09367967306970955, 0.08532326434643532, 0.15085372945805206, 0.17667182115760513, 0.1509131703219336, 0.319926356859642, 0.219051016747195, 0.18394878819965274, 0.27074168722578057, 0.8412436088660216, 2.567864492869604, 0.10772624225348587, 0.24906381597591679, 0.28885932780406925, 1.9349352053715538, 0.2300201725235914, 0.26429851840915447, 0.1182518357053904, 0.13221188856738, 0.3730300327862464, 0.08064069187676427]}, {\"categories\": [\"0\", \"1\", \"4\", \"6\", \"10\", \"13\", \"17\", \"22\", \"23\", \"24\", \"26\", \"27\", \"28\", \"29\", \"30\", \"31\", \"32\", \"33\", \"34\", \"35\", \"39\"], \"mode\": \"lines\", \"name\": \"root_mean_squared_log_error_min\", \"stepped\": true, \"type\": \"scatter\", \"data\": [0.09367967306970955, 0.08532326434643532, 0.08532326434643532, 0.08532326434643532, 0.08532326434643532, 0.08532326434643532, 0.08532326434643532, 0.08532326434643532, 0.08532326434643532, 0.08532326434643532, 0.08532326434643532, 0.08532326434643532, 0.08532326434643532, 0.08532326434643532, 0.08532326434643532, 0.08532326434643532, 0.08532326434643532, 0.08532326434643532, 0.08532326434643532, 0.08532326434643532, 0.08064069187676427]}], \"root_mean_squared_error\": [{\"categories\": [\"0\", \"1\", \"4\", \"6\", \"10\", \"13\", \"17\", \"22\", \"23\", \"24\", \"26\", \"27\", \"28\", \"29\", \"30\", \"31\", \"32\", \"33\", \"34\", \"35\", \"39\"], \"mode\": \"markers\", \"name\": \"root_mean_squared_error\", \"stepped\": false, \"type\": \"scatter\", \"data\": [1.9021778661838995, 1.6298305422329706, 3.663703977954173, 4.171258100834069, 3.4458898952925314, 8.612448850972315, 5.468334834008956, 4.3769079426639514, 6.896890531170603, 19.53218791755522, 29.762037209878837, 2.296612267887181, 6.269203136779706, 7.073244308557974, 27.672330909528878, 5.815782232895018, 6.535327451589595, 2.5579309885904316, 3.215244942659373, 9.943318295124788, 1.5283900284498244]}, {\"categories\": [\"0\", \"1\", \"4\", \"6\", \"10\", \"13\", \"17\", \"22\", \"23\", \"24\", \"26\", \"27\", \"28\", \"29\", \"30\", \"31\", \"32\", \"33\", \"34\", \"35\", \"39\"], \"mode\": \"lines\", \"name\": \"root_mean_squared_error_min\", \"stepped\": true, \"type\": \"scatter\", \"data\": [1.9021778661838995, 1.6298305422329706, 1.6298305422329706, 1.6298305422329706, 1.6298305422329706, 1.6298305422329706, 1.6298305422329706, 1.6298305422329706, 1.6298305422329706, 1.6298305422329706, 1.6298305422329706, 1.6298305422329706, 1.6298305422329706, 1.6298305422329706, 1.6298305422329706, 1.6298305422329706, 1.6298305422329706, 1.6298305422329706, 1.6298305422329706, 1.6298305422329706, 1.5283900284498244]}], \"mean_absolute_error\": [{\"categories\": [\"0\", \"1\", \"4\", \"6\", \"10\", \"13\", \"17\", \"22\", \"23\", \"24\", \"26\", \"27\", \"28\", \"29\", \"30\", \"31\", \"32\", \"33\", \"34\", \"35\", \"39\"], \"mode\": \"markers\", \"name\": \"mean_absolute_error\", \"stepped\": false, \"type\": \"scatter\", \"data\": [1.2099133242809277, 0.8996419619160742, 2.6978100547408843, 3.1974835376466246, 2.621500550844464, 6.902256566879231, 4.254983365262318, 3.4146124591240317, 5.473715857052235, 17.147147196605115, 27.8164669757747, 0.9819441205608234, 5.196897928927954, 5.863397654460312, 25.83784668106127, 4.483746821358032, 5.271902084286604, 1.4056396589744427, 1.7664758875339281, 8.135846470228083, 0.8267927529763441]}, {\"categories\": [\"0\", \"1\", \"4\", \"6\", \"10\", \"13\", \"17\", \"22\", \"23\", \"24\", \"26\", \"27\", \"28\", \"29\", \"30\", \"31\", \"32\", \"33\", \"34\", \"35\", \"39\"], \"mode\": \"lines\", \"name\": \"mean_absolute_error_min\", \"stepped\": true, \"type\": \"scatter\", \"data\": [1.2099133242809277, 0.8996419619160742, 0.8996419619160742, 0.8996419619160742, 0.8996419619160742, 0.8996419619160742, 0.8996419619160742, 0.8996419619160742, 0.8996419619160742, 0.8996419619160742, 0.8996419619160742, 0.8996419619160742, 0.8996419619160742, 0.8996419619160742, 0.8996419619160742, 0.8996419619160742, 0.8996419619160742, 0.8996419619160742, 0.8996419619160742, 0.8996419619160742, 0.8267927529763441]}], \"r2_score\": [{\"categories\": [\"0\", \"1\", \"4\", \"6\", \"10\", \"13\", \"17\", \"22\", \"23\", \"24\", \"26\", \"27\", \"28\", \"29\", \"30\", \"31\", \"32\", \"33\", \"34\", \"35\", \"39\"], \"mode\": \"markers\", \"name\": \"r2_score\", \"stepped\": false, \"type\": \"scatter\", \"data\": [0.9683604161159348, 0.9767086445538942, 0.8824847049663201, 0.8479509547649456, 0.8962075644192823, 0.3515506634571757, 0.738301498335615, 0.8325908480856629, 0.5842075435458021, -1.0, -1.0, 0.9528179598897933, 0.6565087413868098, 0.5627195114254527, -1.0, 0.7039252658752625, 0.6264629042914672, 0.9416140677974442, 0.9074268386635215, 0.135907923368026, 0.9795350904582772]}, {\"categories\": [\"0\", \"1\", \"4\", \"6\", \"10\", \"13\", \"17\", \"22\", \"23\", \"24\", \"26\", \"27\", \"28\", \"29\", \"30\", \"31\", \"32\", \"33\", \"34\", \"35\", \"39\"], \"mode\": \"lines\", \"name\": \"r2_score_max\", \"stepped\": true, \"type\": \"scatter\", \"data\": [0.9683604161159348, 0.9767086445538942, 0.9767086445538942, 0.9767086445538942, 0.9767086445538942, 0.9767086445538942, 0.9767086445538942, 0.9767086445538942, 0.9767086445538942, 0.9767086445538942, 0.9767086445538942, 0.9767086445538942, 0.9767086445538942, 0.9767086445538942, 0.9767086445538942, 0.9767086445538942, 0.9767086445538942, 0.9767086445538942, 0.9767086445538942, 0.9767086445538942, 0.9795350904582772]}], \"median_absolute_error\": [{\"categories\": [\"0\", \"1\", \"4\", \"6\", \"10\", \"13\", \"17\", \"22\", \"23\", \"24\", \"26\", \"27\", \"28\", \"29\", \"30\", \"31\", \"32\", \"33\", \"34\", \"35\", \"39\"], \"mode\": \"markers\", \"name\": \"median_absolute_error\", \"stepped\": false, \"type\": \"scatter\", \"data\": [0.8017312499208806, 0.5143415603637695, 1.9333984409072091, 2.5016114604912474, 1.9841080228364252, 6.064241647477094, 3.3167580699143486, 2.7729935731980615, 4.502635026812906, 15.221026814778646, 26.358551317532857, 0.36441220238094757, 4.706438212942408, 5.264372937607472, 24.45497060108185, 3.5454286135758544, 4.651244613752825, 0.7114349019607827, 0.7936848484848499, 7.312230987548829, 0.4743822385727772]}, {\"categories\": [\"0\", \"1\", \"4\", \"6\", \"10\", \"13\", \"17\", \"22\", \"23\", \"24\", \"26\", \"27\", \"28\", \"29\", \"30\", \"31\", \"32\", \"33\", \"34\", \"35\", \"39\"], \"mode\": \"lines\", \"name\": \"median_absolute_error_min\", \"stepped\": true, \"type\": \"scatter\", \"data\": [0.8017312499208806, 0.5143415603637695, 0.5143415603637695, 0.5143415603637695, 0.5143415603637695, 0.5143415603637695, 0.5143415603637695, 0.5143415603637695, 0.5143415603637695, 0.5143415603637695, 0.5143415603637695, 0.36441220238094757, 0.36441220238094757, 0.36441220238094757, 0.36441220238094757, 0.36441220238094757, 0.36441220238094757, 0.36441220238094757, 0.36441220238094757, 0.36441220238094757, 0.36441220238094757]}], \"normalized_median_absolute_error\": [{\"categories\": [\"0\", \"1\", \"4\", \"6\", \"10\", \"13\", \"17\", \"22\", \"23\", \"24\", \"26\", \"27\", \"28\", \"29\", \"30\", \"31\", \"32\", \"33\", \"34\", \"35\", \"39\"], \"mode\": \"markers\", \"name\": \"normalized_median_absolute_error\", \"stepped\": false, \"type\": \"scatter\", \"data\": [0.016705518626456087, 0.01071723538014189, 0.040285848493649135, 0.05212559302573861, 0.04134247422146244, 0.1263594275603662, 0.06911064489736517, 0.057780329496542375, 0.09382053314746014, 0.31715758490537277, 0.5492280237858989, 0.007593186414005409, 0.09806714062640458, 0.10969271831987566, 0.5095634814361113, 0.07387540868427768, 0.09691708230023388, 0.014824031129371204, 0.016537857319654316, 0.15236353949718348, 0.009884610738722648]}, {\"categories\": [\"0\", \"1\", \"4\", \"6\", \"10\", \"13\", \"17\", \"22\", \"23\", \"24\", \"26\", \"27\", \"28\", \"29\", \"30\", \"31\", \"32\", \"33\", \"34\", \"35\", \"39\"], \"mode\": \"lines\", \"name\": \"normalized_median_absolute_error_min\", \"stepped\": true, \"type\": \"scatter\", \"data\": [0.016705518626456087, 0.01071723538014189, 0.01071723538014189, 0.01071723538014189, 0.01071723538014189, 0.01071723538014189, 0.01071723538014189, 0.01071723538014189, 0.01071723538014189, 0.01071723538014189, 0.01071723538014189, 0.007593186414005409, 0.007593186414005409, 0.007593186414005409, 0.007593186414005409, 0.007593186414005409, 0.007593186414005409, 0.007593186414005409, 0.007593186414005409, 0.007593186414005409, 0.007593186414005409]}], \"normalized_mean_absolute_error\": [{\"categories\": [\"0\", \"1\", \"4\", \"6\", \"10\", \"13\", \"17\", \"22\", \"23\", \"24\", \"26\", \"27\", \"28\", \"29\", \"30\", \"31\", \"32\", \"33\", \"34\", \"35\", \"39\"], \"mode\": \"markers\", \"name\": \"normalized_mean_absolute_error\", \"stepped\": false, \"type\": \"scatter\", \"data\": [0.025210729377415562, 0.018745665150776677, 0.05621374509795143, 0.06662534459173663, 0.05462369875905284, 0.14382098197364626, 0.08866026348687944, 0.07114961783472312, 0.11405475614794623, 0.35729178189292204, 0.5796063297169258, 0.020460579274896303, 0.10828675464510655, 0.12217448021462561, 0.5383782022224801, 0.09342696327217104, 0.10984960168958585, 0.02928904106881236, 0.03680771560955843, 0.1695250556390249, 0.01722772030705835]}, {\"categories\": [\"0\", \"1\", \"4\", \"6\", \"10\", \"13\", \"17\", \"22\", \"23\", \"24\", \"26\", \"27\", \"28\", \"29\", \"30\", \"31\", \"32\", \"33\", \"34\", \"35\", \"39\"], \"mode\": \"lines\", \"name\": \"normalized_mean_absolute_error_min\", \"stepped\": true, \"type\": \"scatter\", \"data\": [0.025210729377415562, 0.018745665150776677, 0.018745665150776677, 0.018745665150776677, 0.018745665150776677, 0.018745665150776677, 0.018745665150776677, 0.018745665150776677, 0.018745665150776677, 0.018745665150776677, 0.018745665150776677, 0.018745665150776677, 0.018745665150776677, 0.018745665150776677, 0.018745665150776677, 0.018745665150776677, 0.018745665150776677, 0.018745665150776677, 0.018745665150776677, 0.018745665150776677, 0.01722772030705835]}], \"normalized_root_mean_squared_log_error\": [{\"categories\": [\"0\", \"1\", \"4\", \"6\", \"10\", \"13\", \"17\", \"22\", \"23\", \"24\", \"26\", \"27\", \"28\", \"29\", \"30\", \"31\", \"32\", \"33\", \"34\", \"35\", \"39\"], \"mode\": \"markers\", \"name\": \"normalized_root_mean_squared_log_error\", \"stepped\": false, \"type\": \"scatter\", \"data\": [0.04814536350282652, 0.04385070360087693, 0.07752917364592467, 0.09079802236297052, 0.07755972245021404, 0.16442169619529626, 0.11257821981412834, 0.09453791824387059, 0.13914392012399643, 0.4323454386219476, 1.0, 0.05536440213906595, 0.12800288005529845, 0.1484552292145628, 0.994433005201761, 0.1182156646820321, 0.13583254323057256, 0.060773884326816775, 0.067948459104197, 0.19171359097934573, 0.04144416068400656]}, {\"categories\": [\"0\", \"1\", \"4\", \"6\", \"10\", \"13\", \"17\", \"22\", \"23\", \"24\", \"26\", \"27\", \"28\", \"29\", \"30\", \"31\", \"32\", \"33\", \"34\", \"35\", \"39\"], \"mode\": \"lines\", \"name\": \"normalized_root_mean_squared_log_error_min\", \"stepped\": true, \"type\": \"scatter\", \"data\": [0.04814536350282652, 0.04385070360087693, 0.04385070360087693, 0.04385070360087693, 0.04385070360087693, 0.04385070360087693, 0.04385070360087693, 0.04385070360087693, 0.04385070360087693, 0.04385070360087693, 0.04385070360087693, 0.04385070360087693, 0.04385070360087693, 0.04385070360087693, 0.04385070360087693, 0.04385070360087693, 0.04385070360087693, 0.04385070360087693, 0.04385070360087693, 0.04385070360087693, 0.04144416068400656]}]}, \"metricName\": null, \"primaryMetricName\": \"r2_score\", \"showLegend\": false}, \"run_metrics\": [{\"name\": \"experiment_status\", \"run_id\": \"AutoML_b17b0511-213f-4a47-8f1c-d07a4bf23e89\", \"categories\": [0, 1, 2, 3, 4, 5, 6, 7, 8, 9, 10, 11, 12, 13], \"series\": [{\"data\": [\"DatasetEvaluation\", \"FeaturesGeneration\", \"DatasetFeaturization\", \"DatasetFeaturizationCompleted\", \"DatasetCrossValidationSplit\", \"ModelSelection\", \"BestRunExplainModel\", \"ModelExplanationDataSetSetup\", \"PickSurrogateModel\", \"EngineeredFeatureExplanations\", \"EngineeredFeatureExplanations\", \"RawFeaturesExplanations\", \"RawFeaturesExplanations\", \"BestRunExplainModel\"]}]}, {\"name\": \"experiment_status_description\", \"run_id\": \"AutoML_b17b0511-213f-4a47-8f1c-d07a4bf23e89\", \"categories\": [0, 1, 2, 3, 4, 5, 6, 7, 8, 9, 10, 11, 12, 13], \"series\": [{\"data\": [\"Gathering dataset statistics.\", \"Generating features for the dataset.\", \"Beginning to fit featurizers and featurize the dataset.\", \"Completed fit featurizers and featurizing the dataset.\", \"Generating individually featurized CV splits.\", \"Beginning model selection.\", \"Best run model explanations started\", \"Model explanations data setup completed\", \"Choosing LightGBM as the surrogate model for explanations\", \"Computation of engineered features started\", \"Computation of engineered features completed\", \"Computation of raw features started\", \"Computation of raw features completed\", \"Best run model explanations completed\"]}]}, {\"name\": \"normalized_root_mean_squared_error\", \"run_id\": \"AutoML_b17b0511-213f-4a47-8f1c-d07a4bf23e89\", \"categories\": [0], \"series\": [{\"data\": [0.03184676672049142]}]}, {\"name\": \"root_mean_squared_error\", \"run_id\": \"AutoML_b17b0511-213f-4a47-8f1c-d07a4bf23e89\", \"categories\": [0], \"series\": [{\"data\": [1.5283900284498244]}]}, {\"name\": \"mean_absolute_error\", \"run_id\": \"AutoML_b17b0511-213f-4a47-8f1c-d07a4bf23e89\", \"categories\": [0], \"series\": [{\"data\": [0.8267927529763441]}]}, {\"name\": \"normalized_median_absolute_error\", \"run_id\": \"AutoML_b17b0511-213f-4a47-8f1c-d07a4bf23e89\", \"categories\": [0], \"series\": [{\"data\": [0.009884610738722648]}]}, {\"name\": \"explained_variance\", \"run_id\": \"AutoML_b17b0511-213f-4a47-8f1c-d07a4bf23e89\", \"categories\": [0], \"series\": [{\"data\": [0.979587696518538]}]}, {\"name\": \"spearman_correlation\", \"run_id\": \"AutoML_b17b0511-213f-4a47-8f1c-d07a4bf23e89\", \"categories\": [0], \"series\": [{\"data\": [0.9907115077912038]}]}, {\"name\": \"r2_score\", \"run_id\": \"AutoML_b17b0511-213f-4a47-8f1c-d07a4bf23e89\", \"categories\": [0], \"series\": [{\"data\": [0.9795350904582772]}]}, {\"name\": \"normalized_mean_absolute_error\", \"run_id\": \"AutoML_b17b0511-213f-4a47-8f1c-d07a4bf23e89\", \"categories\": [0], \"series\": [{\"data\": [0.01722772030705835]}]}, {\"name\": \"mean_absolute_percentage_error\", \"run_id\": \"AutoML_b17b0511-213f-4a47-8f1c-d07a4bf23e89\", \"categories\": [0], \"series\": [{\"data\": [3.938855858776408]}]}, {\"name\": \"median_absolute_error\", \"run_id\": \"AutoML_b17b0511-213f-4a47-8f1c-d07a4bf23e89\", \"categories\": [0], \"series\": [{\"data\": [0.4743822385727772]}]}, {\"name\": \"root_mean_squared_log_error\", \"run_id\": \"AutoML_b17b0511-213f-4a47-8f1c-d07a4bf23e89\", \"categories\": [0], \"series\": [{\"data\": [0.08064069187676427]}]}, {\"name\": \"normalized_root_mean_squared_log_error\", \"run_id\": \"AutoML_b17b0511-213f-4a47-8f1c-d07a4bf23e89\", \"categories\": [0], \"series\": [{\"data\": [0.04144416068400656]}]}], \"run_logs\": \"\\nRun is completed.\", \"graph\": {}, \"widget_settings\": {\"childWidgetDisplay\": \"popup\", \"send_telemetry\": false, \"log_level\": \"INFO\", \"sdk_version\": \"1.51.0\"}, \"loading\": false}"
          },
          "metadata": {}
        },
        {
          "output_type": "display_data",
          "data": {
            "text/html": "<table style=\"width:100%\"><tr><th>Experiment</th><th>Id</th><th>Type</th><th>Status</th><th>Details Page</th><th>Docs Page</th></tr><tr><td>parkinson_exp</td><td>AutoML_b17b0511-213f-4a47-8f1c-d07a4bf23e89</td><td>automl</td><td>NotStarted</td><td><a href=\"https://ml.azure.com/runs/AutoML_b17b0511-213f-4a47-8f1c-d07a4bf23e89?wsid=/subscriptions/610d6e37-4747-4a20-80eb-3aad70a55f43/resourcegroups/aml-quickstarts-259725/workspaces/quick-starts-ws-259725&amp;tid=660b3398-b80e-49d2-bc5b-ac1dc93b5254\" target=\"_blank\" rel=\"noopener\">Link to Azure Machine Learning studio</a></td><td><a href=\"https://docs.microsoft.com/en-us/python/api/overview/azure/ml/intro?view=azure-ml-py\" target=\"_blank\" rel=\"noopener\">Link to Documentation</a></td></tr></table>"
          },
          "metadata": {}
        },
        {
          "output_type": "stream",
          "name": "stdout",
          "text": "\nCurrent status: FeaturesGeneration. Generating features for the dataset.\nCurrent status: DatasetFeaturization. Beginning to fit featurizers and featurize the dataset.\nCurrent status: DatasetCrossValidationSplit. Generating individually featurized CV splits.\nCurrent status: ModelSelection. Beginning model selection.\n\n********************************************************************************************\nDATA GUARDRAILS: \n\nTYPE:         Cross validation\nSTATUS:       DONE\nDESCRIPTION:  In order to accurately evaluate the model(s) trained by AutoML, we leverage a dataset that the model is not trained on. Hence, if the user doesn't provide an explicit validation dataset, a part of the training dataset is used to achieve this. For smaller datasets (fewer than 20,000 samples), cross-validation is leveraged, else a single hold-out set is split from the training data to serve as the validation dataset. Hence, for your input data we leverage cross-validation with 10 folds, if the number of training samples are fewer than 1000, and 3 folds in all other cases.\n              Learn more about cross validation: https://aka.ms/AutomatedMLCrossValidation\nDETAILS:      \n+------------------------------+\n|Number of folds               |\n+==============================+\n|3                             |\n+------------------------------+\n\n********************************************************************************************\n\nTYPE:         Missing feature values imputation\nSTATUS:       PASSED\nDESCRIPTION:  No feature missing values were detected in the training data.\n              Learn more about missing value imputation: https://aka.ms/AutomatedMLFeaturization\n\n********************************************************************************************\n\nTYPE:         High cardinality feature detection\nSTATUS:       PASSED\nDESCRIPTION:  Your inputs were analyzed, and no high cardinality features were detected.\n              Learn more about high cardinality feature handling: https://aka.ms/AutomatedMLFeaturization\n\n********************************************************************************************\n\n********************************************************************************************\nITER: The iteration being evaluated.\nPIPELINE: A summary description of the pipeline being evaluated.\nDURATION: Time taken for the current iteration.\nMETRIC: The result of computing score on the fitted pipeline.\nBEST: The best observed score thus far.\n********************************************************************************************\n\n ITER   PIPELINE                                       DURATION            METRIC      BEST\n    0   MaxAbsScaler LightGBM                          0:00:17             0.9684    0.9684\n    1   MaxAbsScaler XGBoostRegressor                  0:00:19             0.9767    0.9767\n    2   StandardScalerWrapper XGBoostRegressor         0:00:17            -1.0000    0.9767\n    3   MaxAbsScaler ElasticNet                        0:00:13             0.7398    0.9767\n    4   MaxAbsScaler LightGBM                          0:00:15             0.8825    0.9767\n    5   SparseNormalizer XGBoostRegressor              0:00:14             0.8790    0.9767\n    6   MaxAbsScaler RandomForest                      0:00:17             0.8480    0.9767\n    7   MaxAbsScaler RandomForest                      0:00:16             0.3785    0.9767\n    8   StandardScalerWrapper ExtremeRandomTrees       0:00:29             0.7404    0.9767\n    9   SparseNormalizer XGBoostRegressor              0:00:16             0.9530    0.9767\n   10   MaxAbsScaler ExtremeRandomTrees                0:00:14             0.8962    0.9767\n   11   MaxAbsScaler ElasticNet                        0:00:13             0.7399    0.9767\n   12   SparseNormalizer XGBoostRegressor              0:01:16             0.9485    0.9767\n   13   MaxAbsScaler RandomForest                      0:00:53             0.3516    0.9767\n   14   StandardScalerWrapper XGBoostRegressor         0:00:22             0.9728    0.9767\n   15   StandardScalerWrapper ElasticNet               0:00:12             0.1626    0.9767\n   16   MaxAbsScaler RandomForest                      0:00:21             0.1113    0.9767\n   17   StandardScalerWrapper ElasticNet               0:00:12             0.7383    0.9767\n   18   StandardScalerWrapper XGBoostRegressor         0:00:14             0.9649    0.9767\n   19   StandardScalerWrapper ExtremeRandomTrees       0:00:12             0.7342    0.9767\n   20   StandardScalerWrapper ElasticNet               0:00:37             0.3527    0.9767\n   23   StandardScalerWrapper LightGBM                 0:00:36             0.5842    0.9767\n   24   SparseNormalizer XGBoostRegressor              0:00:37            -1.0000    0.9767\n   25   StandardScalerWrapper ExtremeRandomTrees       0:00:55             0.9435    0.9767\n   26   SparseNormalizer XGBoostRegressor              0:00:37            -1.0000    0.9767\n   21   MaxAbsScaler DecisionTree                      0:02:57             0.4393    0.9767\n   22   SparseNormalizer ExtremeRandomTrees            0:03:07             0.8326    0.9767\n   27   StandardScalerWrapper DecisionTree             0:00:37             0.9528    0.9767\n   28   StandardScalerWrapper LightGBM                 0:00:35             0.6565    0.9767\n   29   MaxAbsScaler GradientBoosting                  0:00:36             0.5627    0.9767\n   30   TruncatedSVDWrapper XGBoostRegressor           0:00:43            -1.0000    0.9767\n   31   StandardScalerWrapper SGD                      0:00:36             0.7039    0.9767\n   33   StandardScalerWrapper DecisionTree             0:00:34             0.9416    0.9767\n   32   SparseNormalizer RandomForest                  0:01:06             0.6265    0.9767\n   34   StandardScalerWrapper DecisionTree             0:00:33             0.9074    0.9767\n   35   TruncatedSVDWrapper XGBoostRegressor           0:00:27             0.1359    0.9767\nERROR: {\n    \"additional_properties\": {\n        \"statusCode\": 400\n    },\n    \"error\": {\n        \"additional_properties\": {\n            \"debugInfo\": null\n        },\n        \"code\": \"UserError\",\n        \"severity\": null,\n        \"message\": \"Run AutoML_b17b0511-213f-4a47-8f1c-d07a4bf23e89_35 already completed\",\n        \"message_format\": null,\n        \"message_parameters\": null,\n        \"reference_code\": null,\n        \"details_uri\": null,\n        \"target\": null,\n        \"details\": [],\n        \"inner_error\": null,\n        \"additional_info\": null\n    },\n    \"correlation\": {\n        \"operation\": \"54539b6504f3068792539eaae7a20de3\",\n        \"request\": \"e0a5d3115ef065e1\"\n    },\n    \"environment\": \"westeurope\",\n    \"location\": \"westeurope\",\n    \"time\": {},\n    \"component_name\": \"CJPBatch\"\n}\n   36                                                  0:00:04                nan    0.9767\n   37                                                  0:00:04                nan    0.9767\n   38    VotingEnsemble                                0:01:06             0.9795    0.9795\n   39    StackEnsemble                                 0:01:09             0.9795    0.9795\n"
        },
        {
          "output_type": "execute_result",
          "execution_count": 8,
          "data": {
            "text/plain": "Run(Experiment: parkinson_exp,\nId: AutoML_b17b0511-213f-4a47-8f1c-d07a4bf23e89,\nType: automl,\nStatus: Completed)",
            "text/html": "<table style=\"width:100%\"><tr><th>Experiment</th><th>Id</th><th>Type</th><th>Status</th><th>Details Page</th><th>Docs Page</th></tr><tr><td>parkinson_exp</td><td>AutoML_b17b0511-213f-4a47-8f1c-d07a4bf23e89</td><td>automl</td><td>Completed</td><td><a href=\"https://ml.azure.com/runs/AutoML_b17b0511-213f-4a47-8f1c-d07a4bf23e89?wsid=/subscriptions/610d6e37-4747-4a20-80eb-3aad70a55f43/resourcegroups/aml-quickstarts-259725/workspaces/quick-starts-ws-259725&amp;tid=660b3398-b80e-49d2-bc5b-ac1dc93b5254\" target=\"_blank\" rel=\"noopener\">Link to Azure Machine Learning studio</a></td><td><a href=\"https://docs.microsoft.com/en-us/python/api/overview/azure/ml/intro?view=azure-ml-py\" target=\"_blank\" rel=\"noopener\">Link to Documentation</a></td></tr></table>"
          },
          "metadata": {}
        }
      ],
      "execution_count": 8,
      "metadata": {
        "gather": {
          "logged": 1716751958841
        },
        "jupyter": {
          "outputs_hidden": false,
          "source_hidden": false
        },
        "nteract": {
          "transient": {
            "deleting": false
          }
        }
      }
    },
    {
      "cell_type": "markdown",
      "source": [
        "## Best Model\n",
        "\n",
        "TODO: In the cell below, get the best model from the automl experiments and display all the properties of the model.\n",
        "\n"
      ],
      "metadata": {}
    },
    {
      "cell_type": "code",
      "source": [
        "best_run,fitted_model=remote_run.get_output()\n",
        "remote_run.get_metrics()"
      ],
      "outputs": [
        {
          "output_type": "stream",
          "name": "stderr",
          "text": "WARNING:root:The version of the SDK does not match the version the model was trained on.\nWARNING:root:The consistency in the result may not be guaranteed.\nWARNING:root:Package:azureml-automl-core, training version:1.52.0.post1, current version:1.51.0.post1\nPackage:azureml-automl-runtime, training version:1.52.0.post1, current version:1.51.0.post1\nPackage:azureml-core, training version:1.52.0, current version:1.51.0\nPackage:azureml-dataprep, training version:4.11.4, current version:4.10.8\nPackage:azureml-dataprep-rslex, training version:2.18.4, current version:2.17.12\nPackage:azureml-dataset-runtime, training version:1.52.0, current version:1.51.0\nPackage:azureml-defaults, training version:1.52.0, current version:1.51.0\nPackage:azureml-interpret, training version:1.52.0, current version:1.51.0\nPackage:azureml-mlflow, training version:1.52.0, current version:1.51.0\nPackage:azureml-pipeline-core, training version:1.52.0, current version:1.51.0\nPackage:azureml-responsibleai, training version:1.52.0, current version:1.51.0\nPackage:azureml-telemetry, training version:1.52.0, current version:1.51.0\nPackage:azureml-train-automl-client, training version:1.52.0, current version:1.51.0.post1\nPackage:azureml-train-automl-runtime, training version:1.52.0, current version:1.51.0.post2\nPackage:azureml-train-core, training version:1.52.0, current version:1.51.0\nPackage:azureml-train-restclients-hyperdrive, training version:1.52.0, current version:1.51.0\nPackage:azureml-training-tabular, training version:1.52.0, current version:1.51.0.post1\nWARNING:root:Please ensure the version of your local conda dependencies match the version on which your model was trained in order to properly retrieve your model.\n"
        },
        {
          "output_type": "execute_result",
          "execution_count": 9,
          "data": {
            "text/plain": "{'experiment_status': ['DatasetEvaluation',\n  'FeaturesGeneration',\n  'DatasetFeaturization',\n  'DatasetFeaturizationCompleted',\n  'DatasetCrossValidationSplit',\n  'ModelSelection',\n  'BestRunExplainModel',\n  'ModelExplanationDataSetSetup',\n  'PickSurrogateModel',\n  'EngineeredFeatureExplanations',\n  'EngineeredFeatureExplanations',\n  'RawFeaturesExplanations',\n  'RawFeaturesExplanations',\n  'BestRunExplainModel'],\n 'experiment_status_description': ['Gathering dataset statistics.',\n  'Generating features for the dataset.',\n  'Beginning to fit featurizers and featurize the dataset.',\n  'Completed fit featurizers and featurizing the dataset.',\n  'Generating individually featurized CV splits.',\n  'Beginning model selection.',\n  'Best run model explanations started',\n  'Model explanations data setup completed',\n  'Choosing LightGBM as the surrogate model for explanations',\n  'Computation of engineered features started',\n  'Computation of engineered features completed',\n  'Computation of raw features started',\n  'Computation of raw features completed',\n  'Best run model explanations completed'],\n 'normalized_root_mean_squared_error': 0.03184676672049142,\n 'root_mean_squared_error': 1.5283900284498244,\n 'mean_absolute_error': 0.8267927529763441,\n 'normalized_median_absolute_error': 0.009884610738722648,\n 'explained_variance': 0.979587696518538,\n 'spearman_correlation': 0.9907115077912038,\n 'r2_score': 0.9795350904582772,\n 'normalized_mean_absolute_error': 0.01722772030705835,\n 'mean_absolute_percentage_error': 3.938855858776408,\n 'median_absolute_error': 0.4743822385727772,\n 'root_mean_squared_log_error': 0.08064069187676427,\n 'normalized_root_mean_squared_log_error': 0.04144416068400656}"
          },
          "metadata": {}
        }
      ],
      "execution_count": 9,
      "metadata": {
        "gather": {
          "logged": 1716754530129
        },
        "jupyter": {
          "outputs_hidden": false,
          "source_hidden": false
        },
        "nteract": {
          "transient": {
            "deleting": false
          }
        }
      }
    },
    {
      "cell_type": "code",
      "source": [
        "print(best_run)"
      ],
      "outputs": [
        {
          "output_type": "stream",
          "name": "stdout",
          "text": "Run(Experiment: parkinson_exp,\nId: AutoML_b17b0511-213f-4a47-8f1c-d07a4bf23e89_39,\nType: azureml.scriptrun,\nStatus: Completed)\n"
        }
      ],
      "execution_count": 10,
      "metadata": {
        "jupyter": {
          "source_hidden": false,
          "outputs_hidden": false
        },
        "nteract": {
          "transient": {
            "deleting": false
          }
        },
        "gather": {
          "logged": 1716754530638
        }
      }
    },
    {
      "cell_type": "code",
      "source": [
        "print(fitted_model)"
      ],
      "outputs": [
        {
          "output_type": "stream",
          "name": "stdout",
          "text": "RegressionPipeline(pipeline=Pipeline(memory=None,\n                                     steps=[('datatransformer',\n                                             DataTransformer(enable_dnn=False, enable_feature_sweeping=True, feature_sweeping_config={}, feature_sweeping_timeout=86400, featurization_config=None, force_text_dnn=False, is_cross_validation=True, is_onnx_compatible=False, observer=None, task='regression', working_dir='/mnt/batch/ta...\n                                             StackEnsembleRegressor(base_learners=[('1', Pipeline(memory=None, steps=[('maxabsscaler', MaxAbsScaler(copy=True)), ('xgboostregressor', XGBoostRegressor(n_jobs=1, problem_info=ProblemInfo(gpu_training_param_dict={'processing_unit_type': 'cpu'}), random_state=0, tree_method='auto'))], verbose=False)), ('14', Pipeline(memory=None, steps=[('standardscalerwrapper', StandardScalerWrapper(copy=True, with_mean=False, with_std=False)), ('xgboostregressor', XGBoostRegressor(booster='gbtree', colsample_bytree=1, eta=0.5, gamma=0, max_depth=9, max_leaves=0, n_estimators=100, n_jobs=1, objective='reg:linear', problem_info=ProblemInfo(gpu_training_param_dict={'processing_unit_type': 'cpu'}), random_state=0, reg_alpha=0, reg_lambda=2.3958333333333335, subsample=0.9, tree_method='auto'))], verbose=False)), ('0', Pipeline(memory=None, steps=[('maxabsscaler', MaxAbsScaler(copy=True)), ('lightgbmregressor', LightGBMRegressor(min_data_in_leaf=20, n_jobs=1, problem_info=ProblemInfo(gpu_training_param_dict={'processing_unit_type': 'cpu'}), random_state=None))], verbose=False)), ('18', Pipeline(memory=None, steps=[('standardscalerwrapper', StandardScalerWrapper(copy=True, with_mean=False, with_std=False)), ('xgboostregressor', XGBoostRegressor(booster='gbtree', colsample_bytree=0.9, eta=0.4, gamma=0.1, max_depth=6, max_leaves=63, n_estimators=50, n_jobs=1, objective='reg:linear', problem_info=ProblemInfo(gpu_training_param_dict={'processing_unit_type': 'cpu'}), random_state=0, reg_alpha=0, reg_lambda=1.5625, subsample=0.6, tree_method='auto'))], verbose=False)), ('9', Pipeline(memory=None, steps=[('sparsenormalizer', Normalizer(copy=True, norm='l2')), ('xgboostregressor', XGBoostRegressor(booster='gbtree', colsample_bytree=0.9, eta=0.3, max_depth=4, max_leaves=0, n_estimators=100, n_jobs=1, objective='reg:linear', problem_info=ProblemInfo(gpu_training_param_dict={'processing_unit_type': 'cpu'}), random_state=0, reg_alpha=0.9375, reg_lambda=1.1458333333333335, subsample=0.5, tree_method='auto'))], verbose=False)), ('27', Pipeline(memory=None, steps=[('standardscalerwrapper', StandardScalerWrapper(copy=True, with_mean=False, with_std=True)), ('decisiontreeregressor', DecisionTreeRegressor(ccp_alpha=0.0, criterion='friedman_mse', max_depth=None, max_features=None, max_leaf_nodes=None, min_impurity_decrease=0.0, min_impurity_split=None, min_samples_leaf=0.001953125, min_samples_split=0.002602463309528381, min_weight_fraction_leaf=0.0, presort='deprecated', random_state=None, splitter='best'))], verbose=False)), ('12', Pipeline(memory=None, steps=[('sparsenormalizer', Normalizer(copy=True, norm='l1')), ('xgboostregressor', XGBoostRegressor(booster='gbtree', colsample_bytree=0.9, eta=0.5, gamma=0.1, max_depth=10, max_leaves=255, n_estimators=600, n_jobs=1, objective='reg:linear', problem_info=ProblemInfo(gpu_training_param_dict={'processing_unit_type': 'cpu'}), random_state=0, reg_alpha=0.7291666666666667, reg_lambda=1.3541666666666667, subsample=0.5, tree_method='auto'))], verbose=False))], meta_learner=ElasticNetCV(alphas=None, copy_X=True, cv=None, eps=0.001, fit_intercept=True, l1_ratio=0.5, max_iter=1000, n_alphas=100, n_jobs=None, normalize=False, positive=False, precompute='auto', random_state=None, selection='cyclic', tol=0.0001, verbose=0), training_cv_folds=5))],\n                                     verbose=False),\n                   stddev=[1.5324898556891349])\n"
        }
      ],
      "execution_count": 11,
      "metadata": {
        "jupyter": {
          "source_hidden": false,
          "outputs_hidden": false
        },
        "nteract": {
          "transient": {
            "deleting": false
          }
        },
        "gather": {
          "logged": 1716754531060
        }
      }
    },
    {
      "cell_type": "code",
      "source": [
        "#TODO: Save the best model"
      ],
      "outputs": [],
      "execution_count": null,
      "metadata": {
        "gather": {
          "logged": 1598431426111
        },
        "jupyter": {
          "outputs_hidden": false,
          "source_hidden": false
        },
        "nteract": {
          "transient": {
            "deleting": false
          }
        }
      }
    },
    {
      "cell_type": "markdown",
      "source": [
        "## Model Deployment\n",
        "\n",
        "Remember you have to deploy only one of the two models you trained but you still need to register both the models. Perform the steps in the rest of this notebook only if you wish to deploy this model.\n",
        "\n",
        "TODO: In the cell below, register the model, create an inference config and deploy the model as a web service."
      ],
      "metadata": {}
    },
    {
      "cell_type": "code",
      "source": [
        "inference_folder_name = 'inference'\n",
        "automl_model = os.path.join(inference_folder_name, 'model.pkl')\n",
        "score_script = os.path.join(inference_folder_name, 'score.py')\n",
        "conda_env = os.path.join(inference_folder_name, 'conda_env.yml')\n",
        "best_run.download_file('outputs/model.pkl', automl_model)\n",
        "best_run.download_file('outputs/scoring_file_v_1_0_0.py', score_script)\n",
        "best_run.download_file('outputs/conda_env_v_1_0_0.yml', conda_env)"
      ],
      "outputs": [],
      "execution_count": 12,
      "metadata": {
        "gather": {
          "logged": 1716754584694
        },
        "jupyter": {
          "outputs_hidden": false,
          "source_hidden": false
        },
        "nteract": {
          "transient": {
            "deleting": false
          }
        }
      }
    },
    {
      "cell_type": "markdown",
      "source": [
        "TODO: In the cell below, send a request to the web service you deployed to test it."
      ],
      "metadata": {
        "collapsed": true,
        "gather": {
          "logged": 1598431657736
        },
        "jupyter": {
          "outputs_hidden": false,
          "source_hidden": false
        },
        "nteract": {
          "transient": {
            "deleting": false
          }
        }
      }
    },
    {
      "cell_type": "code",
      "source": [
        "import sklearn\n",
        "from azureml.core import Model \n",
        "model = Model.register(\n",
        "    workspace=ws,\n",
        "    model_name=best_run.properties['model_name'],\n",
        "    model_path=automl_model,\n",
        "    model_framework=Model.Framework.SCIKITLEARN,\n",
        "    model_framework_version=sklearn.__version__,\n",
        "    description='Auto ML model for predicting total updrs Parkinson  '\n",
        "    )\n",
        "\n",
        "print('Name:', model.name)\n",
        "print('Version:', model.version)"
      ],
      "outputs": [
        {
          "output_type": "stream",
          "name": "stdout",
          "text": "Registering model AutoMLb17b0511239\nName: AutoMLb17b0511239\nVersion: 1\n"
        }
      ],
      "execution_count": 13,
      "metadata": {
        "gather": {
          "logged": 1716754589676
        },
        "jupyter": {
          "outputs_hidden": false,
          "source_hidden": false
        },
        "nteract": {
          "transient": {
            "deleting": false
          }
        }
      }
    },
    {
      "cell_type": "code",
      "source": [
        "from azureml.core.environment import Environment\n",
        "from azureml.core.experiment import Experiment\n",
        "from azureml.core.model import InferenceConfig\n",
        "from azureml.core.resource_configuration import ResourceConfiguration\n",
        "from azureml.core.webservice import AciWebservice\n",
        "env = Environment.from_conda_specification(name=\"env\", file_path=conda_env)\n",
        "inference_conf = InferenceConfig(entry_script=score_script, environment=env)\n",
        "\n",
        "# Display the environment file\n",
        "with open(conda_env, 'r') as file:\n",
        "    env_file = file.read()\n",
        "    print(env_file)"
      ],
      "outputs": [
        {
          "output_type": "stream",
          "name": "stdout",
          "text": "# Conda environment specification. The dependencies defined in this file will\n# be automatically provisioned for runs with userManagedDependencies=False.\n\n# Details about the Conda environment file format:\n# https://conda.io/docs/user-guide/tasks/manage-environments.html#create-env-file-manually\n\nname: project_environment\ndependencies:\n  # The python interpreter version.\n  # Currently Azure ML only supports 3.8 and later.\n- python=3.8.17\n\n- pip:\n  - azureml-train-automl-runtime==1.52.0\n  - inference-schema\n  - azureml-interpret==1.52.0\n  - azureml-defaults==1.52.0\n- numpy==1.22.3\n- pandas==1.1.5\n- scikit-learn==0.22.1\n- py-xgboost==1.3.3\n- fbprophet==0.7.1\n- holidays==0.10.3\n- psutil==5.9.5\nchannels:\n- anaconda\n- conda-forge\n\n"
        }
      ],
      "execution_count": 14,
      "metadata": {
        "jupyter": {
          "source_hidden": false,
          "outputs_hidden": false
        },
        "nteract": {
          "transient": {
            "deleting": false
          }
        },
        "gather": {
          "logged": 1716754594909
        }
      }
    },
    {
      "cell_type": "markdown",
      "source": [
        "TODO: In the cell below, print the logs of the web service and delete the service"
      ],
      "metadata": {
        "collapsed": true,
        "gather": {
          "logged": 1598432765711
        },
        "jupyter": {
          "outputs_hidden": false,
          "source_hidden": false
        },
        "nteract": {
          "transient": {
            "deleting": false
          }
        }
      }
    },
    {
      "cell_type": "code",
      "source": [
        "deployment_conf = AciWebservice.deploy_configuration(\n",
        "    cpu_cores=1,\n",
        "    memory_gb=1,\n",
        "    description='Predicting total updrs for parkinson diseases',\n",
        "    enable_app_insights=True)\n",
        "\n",
        "# Deploy model as webservice using Azure Container Instance (ACI)\n",
        "service_name = \"parkinson-predict\"\n",
        "\n",
        "service = Model.deploy(\n",
        "    workspace=ws,\n",
        "    name=service_name, \n",
        "    models=[model], \n",
        "    inference_config=inference_conf, \n",
        "    deployment_config=deployment_conf, \n",
        "    overwrite=True)\n",
        "\n",
        "service.wait_for_deployment(show_output=True)\n",
        "\n",
        "print(service.state)"
      ],
      "outputs": [
        {
          "output_type": "stream",
          "name": "stdout",
          "text": "Tips: You can try get_logs(): https://aka.ms/debugimage#dockerlog or local deployment: https://aka.ms/debugimage#debug-locally to debug if deployment takes longer than 10 minutes.\nRunning\n2024-05-26 20:16:42+00:00 Creating Container Registry if not exists.\n2024-05-26 20:16:42+00:00 Registering the environment.\n2024-05-26 20:16:44+00:00 Use the existing image.\n2024-05-26 20:16:44+00:00 Generating deployment configuration.\n2024-05-26 20:16:44+00:00 Submitting deployment to compute.\n2024-05-26 20:16:48+00:00 Checking the status of deployment parkinson-predict..\n2024-05-26 20:20:18+00:00 Checking the status of inference endpoint parkinson-predict.\nSucceeded\nACI service creation operation finished, operation \"Succeeded\"\nHealthy\n"
        }
      ],
      "execution_count": 15,
      "metadata": {
        "jupyter": {
          "outputs_hidden": false,
          "source_hidden": false
        },
        "nteract": {
          "transient": {
            "deleting": false
          }
        },
        "gather": {
          "logged": 1716754821227
        }
      }
    },
    {
      "cell_type": "code",
      "source": [
        "ws = Workspace.from_config()\n",
        "key='parkinson-data-v2'\n",
        "ds = ws.datasets[key]\n",
        "df=ds.to_pandas_dataframe()\n",
        "df.drop(columns='total_UPDRS').head(3).to_json(orient='records')"
      ],
      "outputs": [
        {
          "output_type": "execute_result",
          "execution_count": 23,
          "data": {
            "text/plain": "'[{\"age\":72,\"test_time\":5.6431,\"Jitter(%)\":0.00662,\"Jitter(Abs)\":0.0000338,\"Jitter:RAP\":0.00401,\"Jitter:PPQ5\":0.00317,\"Jitter:DDP\":0.01204,\"Shimmer\":0.02565,\"Shimmer(dB)\":0.23,\"Shimmer:APQ3\":0.01438,\"Shimmer:APQ5\":0.01309,\"Shimmer:APQ11\":0.01662,\"Shimmer:DDA\":0.04314,\"NHR\":0.01429,\"HNR\":21.64,\"RPDE\":0.41888,\"DFA\":0.54842,\"PPE\":0.16006,\"sex\":0},{\"age\":72,\"test_time\":12.666,\"Jitter(%)\":0.003,\"Jitter(Abs)\":0.0000168,\"Jitter:RAP\":0.00132,\"Jitter:PPQ5\":0.0015,\"Jitter:DDP\":0.00395,\"Shimmer\":0.02024,\"Shimmer(dB)\":0.179,\"Shimmer:APQ3\":0.00994,\"Shimmer:APQ5\":0.01072,\"Shimmer:APQ11\":0.01689,\"Shimmer:DDA\":0.02982,\"NHR\":0.011112,\"HNR\":27.183,\"RPDE\":0.43493,\"DFA\":0.56477,\"PPE\":0.1081,\"sex\":0},{\"age\":72,\"test_time\":19.681,\"Jitter(%)\":0.00481,\"Jitter(Abs)\":0.0000246,\"Jitter:RAP\":0.00205,\"Jitter:PPQ5\":0.00208,\"Jitter:DDP\":0.00616,\"Shimmer\":0.01675,\"Shimmer(dB)\":0.181,\"Shimmer:APQ3\":0.00734,\"Shimmer:APQ5\":0.00844,\"Shimmer:APQ11\":0.01458,\"Shimmer:DDA\":0.02202,\"NHR\":0.02022,\"HNR\":23.047,\"RPDE\":0.46222,\"DFA\":0.54405,\"PPE\":0.21014,\"sex\":0}]'"
          },
          "metadata": {}
        }
      ],
      "execution_count": 23,
      "metadata": {
        "jupyter": {
          "source_hidden": false,
          "outputs_hidden": false
        },
        "nteract": {
          "transient": {
            "deleting": false
          }
        },
        "gather": {
          "logged": 1716755959126
        }
      }
    },
    {
      "cell_type": "code",
      "source": [
        "import json\n",
        "import requests\n",
        "\n",
        "test_data = json.dumps({\n",
        "    \"data\": [\n",
        "       {\"age\":72,\"test_time\":5.6431,\"Jitter(%)\":0.00662,\"Jitter(Abs)\":0.0000338,\"Jitter:RAP\":0.00401,\"Jitter:PPQ5\":0.00317,\"Jitter:DDP\":0.01204,\"Shimmer\":0.02565,\"Shimmer(dB)\":0.23,\"Shimmer:APQ3\":0.01438,\"Shimmer:APQ5\":0.01309,\"Shimmer:APQ11\":0.01662,\"Shimmer:DDA\":0.04314,\"NHR\":0.01429,\"HNR\":21.64,\"RPDE\":0.41888,\"DFA\":0.54842,\"PPE\":0.16006,\"sex\":0},{\"age\":72,\"test_time\":12.666,\"Jitter(%)\":0.003,\"Jitter(Abs)\":0.0000168,\"Jitter:RAP\":0.00132,\"Jitter:PPQ5\":0.0015,\"Jitter:DDP\":0.00395,\"Shimmer\":0.02024,\"Shimmer(dB)\":0.179,\"Shimmer:APQ3\":0.00994,\"Shimmer:APQ5\":0.01072,\"Shimmer:APQ11\":0.01689,\"Shimmer:DDA\":0.02982,\"NHR\":0.011112,\"HNR\":27.183,\"RPDE\":0.43493,\"DFA\":0.56477,\"PPE\":0.1081,\"sex\":0},{\"age\":72,\"test_time\":19.681,\"Jitter(%)\":0.00481,\"Jitter(Abs)\":0.0000246,\"Jitter:RAP\":0.00205,\"Jitter:PPQ5\":0.00208,\"Jitter:DDP\":0.00616,\"Shimmer\":0.01675,\"Shimmer(dB)\":0.181,\"Shimmer:APQ3\":0.00734,\"Shimmer:APQ5\":0.00844,\"Shimmer:APQ11\":0.01458,\"Shimmer:DDA\":0.02202,\"NHR\":0.02022,\"HNR\":23.047,\"RPDE\":0.46222,\"DFA\":0.54405,\"PPE\":0.21014,\"sex\":0}]\n",
        "\n",
        "           })\n",
        "\n",
        "response = requests.post(\n",
        "    service.scoring_uri, \n",
        "    data=test_data, \n",
        "    headers={'Content-Type':'application/json'})\n",
        "\n",
        "print(\"Results:\", response.json())"
      ],
      "outputs": [
        {
          "output_type": "stream",
          "name": "stdout",
          "text": "Results: {\"result\": [34.255789107026445, 35.25498673949362, 35.357035157967275]}\n"
        }
      ],
      "execution_count": 24,
      "metadata": {
        "jupyter": {
          "source_hidden": false,
          "outputs_hidden": false
        },
        "nteract": {
          "transient": {
            "deleting": false
          }
        },
        "gather": {
          "logged": 1716756036146
        }
      }
    },
    {
      "cell_type": "markdown",
      "source": [
        "**Submission Checklist**\n",
        "- I have registered the model.\n",
        "- I have deployed the model with the best accuracy as a webservice.\n",
        "- I have tested the webservice by sending a request to the model endpoint.\n",
        "- I have deleted the webservice and shutdown all the computes that I have used.\n",
        "- I have taken a screenshot showing the model endpoint as active.\n",
        "- The project includes a file containing the environment details.\n"
      ],
      "metadata": {}
    },
    {
      "cell_type": "markdown",
      "source": [],
      "metadata": {}
    }
  ],
  "metadata": {
    "kernel_info": {
      "name": "python38-azureml"
    },
    "kernelspec": {
      "name": "python38-azureml",
      "language": "python",
      "display_name": "Python 3.8 - AzureML"
    },
    "language_info": {
      "name": "python",
      "version": "3.8.5",
      "mimetype": "text/x-python",
      "codemirror_mode": {
        "name": "ipython",
        "version": 3
      },
      "pygments_lexer": "ipython3",
      "nbconvert_exporter": "python",
      "file_extension": ".py"
    },
    "nteract": {
      "version": "nteract-front-end@1.0.0"
    },
    "microsoft": {
      "host": {
        "AzureML": {
          "notebookHasBeenCompleted": true
        }
      },
      "ms_spell_check": {
        "ms_spell_check_language": "en"
      }
    }
  },
  "nbformat": 4,
  "nbformat_minor": 2
}